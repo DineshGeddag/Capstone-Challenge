{
 "cells": [
  {
   "cell_type": "markdown",
   "metadata": {},
   "source": [
    "# Starbucks Capstone Challenge\n",
    "\n",
    "### Introduction\n",
    "\n",
    "This data set contains simulated data that mimics customer behavior on the Starbucks rewards mobile app. Once every few days, Starbucks sends out an offer to users of the mobile app. An offer can be merely an advertisement for a drink or an actual offer such as a discount or BOGO (buy one get one free). Some users might not receive any offer during certain weeks. \n",
    "\n",
    "Not all users receive the same offer, and that is the challenge to solve with this data set.\n",
    "\n",
    "Your task is to combine transaction, demographic and offer data to determine which demographic groups respond best to which offer type. This data set is a simplified version of the real Starbucks app because the underlying simulator only has one product whereas Starbucks actually sells dozens of products.\n",
    "\n",
    "Every offer has a validity period before the offer expires. As an example, a BOGO offer might be valid for only 5 days. You'll see in the data set that informational offers have a validity period even though these ads are merely providing information about a product; for example, if an informational offer has 7 days of validity, you can assume the customer is feeling the influence of the offer for 7 days after receiving the advertisement.\n",
    "\n",
    "You'll be given transactional data showing user purchases made on the app including the timestamp of purchase and the amount of money spent on a purchase. This transactional data also has a record for each offer that a user receives as well as a record for when a user actually views the offer. There are also records for when a user completes an offer. \n",
    "\n",
    "Keep in mind as well that someone using the app might make a purchase through the app without having received an offer or seen an offer.\n",
    "\n",
    "### Example\n",
    "\n",
    "To give an example, a user could receive a discount offer buy 10 dollars get 2 off on Monday. The offer is valid for 10 days from receipt. If the customer accumulates at least 10 dollars in purchases during the validity period, the customer completes the offer.\n",
    "\n",
    "However, there are a few things to watch out for in this data set. Customers do not opt into the offers that they receive; in other words, a user can receive an offer, never actually view the offer, and still complete the offer. For example, a user might receive the \"buy 10 dollars get 2 dollars off offer\", but the user never opens the offer during the 10 day validity period. The customer spends 15 dollars during those ten days. There will be an offer completion record in the data set; however, the customer was not influenced by the offer because the customer never viewed the offer.\n",
    "\n",
    "### Cleaning\n",
    "\n",
    "This makes data cleaning especially important and tricky.\n",
    "\n",
    "You'll also want to take into account that some demographic groups will make purchases even if they don't receive an offer. From a business perspective, if a customer is going to make a 10 dollar purchase without an offer anyway, you wouldn't want to send a buy 10 dollars get 2 dollars off offer. You'll want to try to assess what a certain demographic group will buy when not receiving any offers.\n",
    "\n",
    "### Final Advice\n",
    "\n",
    "Because this is a capstone project, you are free to analyze the data any way you see fit. For example, you could build a machine learning model that predicts how much someone will spend based on demographics and offer type. Or you could build a model that predicts whether or not someone will respond to an offer. Or, you don't need to build a machine learning model at all. You could develop a set of heuristics that determine what offer you should send to each customer (i.e., 75 percent of women customers who were 35 years old responded to offer A vs 40 percent from the same demographic to offer B, so send offer A)."
   ]
  },
  {
   "cell_type": "markdown",
   "metadata": {},
   "source": [
    "# Data Sets\n",
    "\n",
    "The data is contained in three files:\n",
    "\n",
    "* portfolio.json - containing offer ids and meta data about each offer (duration, type, etc.)\n",
    "* profile.json - demographic data for each customer\n",
    "* transcript.json - records for transactions, offers received, offers viewed, and offers completed\n",
    "\n",
    "Here is the schema and explanation of each variable in the files:\n",
    "\n",
    "**portfolio.json**\n",
    "* id (string) - offer id\n",
    "* offer_type (string) - type of offer ie BOGO, discount, informational\n",
    "* difficulty (int) - minimum required spend to complete an offer\n",
    "* reward (int) - reward given for completing an offer\n",
    "* duration (int) - time for offer to be open, in days\n",
    "* channels (list of strings)\n",
    "\n",
    "**profile.json**\n",
    "* age (int) - age of the customer \n",
    "* became_member_on (int) - date when customer created an app account\n",
    "* gender (str) - gender of the customer (note some entries contain 'O' for other rather than M or F)\n",
    "* id (str) - customer id\n",
    "* income (float) - customer's income\n",
    "\n",
    "**transcript.json**\n",
    "* event (str) - record description (ie transaction, offer received, offer viewed, etc.)\n",
    "* person (str) - customer id\n",
    "* time (int) - time in hours since start of test. The data begins at time t=0\n",
    "* value - (dict of strings) - either an offer id or transaction amount depending on the record\n",
    "\n",
    "**Note:** If you are using the workspace, you will need to go to the terminal and run the command `conda update pandas` before reading in the files. This is because the version of pandas in the workspace cannot read in the transcript.json file correctly, but the newest version of pandas can. You can access the termnal from the orange icon in the top left of this notebook.  \n",
    "\n",
    "You can see how to access the terminal and how the install works using the two images below.  First you need to access the terminal:\n",
    "\n",
    "<img src=\"pic1.png\"/>\n",
    "\n",
    "Then you will want to run the above command:\n",
    "\n",
    "<img src=\"pic2.png\"/>\n",
    "\n",
    "Finally, when you enter back into the notebook (use the jupyter icon again), you should be able to run the below cell without any errors."
   ]
  },
  {
   "cell_type": "markdown",
   "metadata": {},
   "source": [
    "# Project Motive"
   ]
  },
  {
   "cell_type": "markdown",
   "metadata": {},
   "source": [
    "By above information:\n",
    "   * What are the main factors that defines the usage of offers by customers (Feature importance)\n",
    "   * Probablity that the user will open and use the offer (Effectiveness of an offer)\n",
    "   * Is there anything common between customers that we can deduce using demographics who take up an offer?\n",
    "   * Finally predicting given an effective offer, how much will the customers spend based on demographics?\n",
    "    "
   ]
  },
  {
   "cell_type": "code",
   "execution_count": 1,
   "metadata": {},
   "outputs": [],
   "source": [
    "import pandas as pd\n",
    "import numpy as np\n",
    "import math\n",
    "import json\n",
    "import matplotlib.pyplot as plt\n",
    "% matplotlib inline\n",
    "\n",
    "# read in the json files\n",
    "portfolio = pd.read_json('data/portfolio.json', orient='records', lines=True)\n",
    "profile = pd.read_json('data/profile.json', orient='records', lines=True)\n",
    "transcript = pd.read_json('data/transcript.json', orient='records', lines=True)"
   ]
  },
  {
   "cell_type": "code",
   "execution_count": 2,
   "metadata": {},
   "outputs": [],
   "source": [
    "from sklearn.model_selection import train_test_split\n",
    "from sklearn.preprocessing import StandardScaler, PolynomialFeatures\n",
    "from sklearn.tree import DecisionTreeClassifier\n",
    "from sklearn.ensemble import RandomForestClassifier\n",
    "from sklearn.metrics import f1_score,mean_squared_error,classification_report\n",
    "from time import time\n",
    "from sklearn.model_selection import GridSearchCV"
   ]
  },
  {
   "cell_type": "markdown",
   "metadata": {},
   "source": [
    "# EDA process"
   ]
  },
  {
   "cell_type": "markdown",
   "metadata": {},
   "source": [
    "Let's make an over view of each dataset, so we can more insights like percentage of missing values and distibution of data."
   ]
  },
  {
   "cell_type": "markdown",
   "metadata": {},
   "source": [
    "### 1.Portfolio"
   ]
  },
  {
   "cell_type": "code",
   "execution_count": 2,
   "metadata": {},
   "outputs": [
    {
     "name": "stdout",
     "output_type": "stream",
     "text": [
      "(10, 6)\n"
     ]
    },
    {
     "data": {
      "text/html": [
       "<div>\n",
       "<style scoped>\n",
       "    .dataframe tbody tr th:only-of-type {\n",
       "        vertical-align: middle;\n",
       "    }\n",
       "\n",
       "    .dataframe tbody tr th {\n",
       "        vertical-align: top;\n",
       "    }\n",
       "\n",
       "    .dataframe thead th {\n",
       "        text-align: right;\n",
       "    }\n",
       "</style>\n",
       "<table border=\"1\" class=\"dataframe\">\n",
       "  <thead>\n",
       "    <tr style=\"text-align: right;\">\n",
       "      <th></th>\n",
       "      <th>channels</th>\n",
       "      <th>difficulty</th>\n",
       "      <th>duration</th>\n",
       "      <th>id</th>\n",
       "      <th>offer_type</th>\n",
       "      <th>reward</th>\n",
       "    </tr>\n",
       "  </thead>\n",
       "  <tbody>\n",
       "    <tr>\n",
       "      <th>0</th>\n",
       "      <td>[email, mobile, social]</td>\n",
       "      <td>10</td>\n",
       "      <td>7</td>\n",
       "      <td>ae264e3637204a6fb9bb56bc8210ddfd</td>\n",
       "      <td>bogo</td>\n",
       "      <td>10</td>\n",
       "    </tr>\n",
       "    <tr>\n",
       "      <th>1</th>\n",
       "      <td>[web, email, mobile, social]</td>\n",
       "      <td>10</td>\n",
       "      <td>5</td>\n",
       "      <td>4d5c57ea9a6940dd891ad53e9dbe8da0</td>\n",
       "      <td>bogo</td>\n",
       "      <td>10</td>\n",
       "    </tr>\n",
       "    <tr>\n",
       "      <th>2</th>\n",
       "      <td>[web, email, mobile]</td>\n",
       "      <td>0</td>\n",
       "      <td>4</td>\n",
       "      <td>3f207df678b143eea3cee63160fa8bed</td>\n",
       "      <td>informational</td>\n",
       "      <td>0</td>\n",
       "    </tr>\n",
       "    <tr>\n",
       "      <th>3</th>\n",
       "      <td>[web, email, mobile]</td>\n",
       "      <td>5</td>\n",
       "      <td>7</td>\n",
       "      <td>9b98b8c7a33c4b65b9aebfe6a799e6d9</td>\n",
       "      <td>bogo</td>\n",
       "      <td>5</td>\n",
       "    </tr>\n",
       "    <tr>\n",
       "      <th>4</th>\n",
       "      <td>[web, email]</td>\n",
       "      <td>20</td>\n",
       "      <td>10</td>\n",
       "      <td>0b1e1539f2cc45b7b9fa7c272da2e1d7</td>\n",
       "      <td>discount</td>\n",
       "      <td>5</td>\n",
       "    </tr>\n",
       "    <tr>\n",
       "      <th>5</th>\n",
       "      <td>[web, email, mobile, social]</td>\n",
       "      <td>7</td>\n",
       "      <td>7</td>\n",
       "      <td>2298d6c36e964ae4a3e7e9706d1fb8c2</td>\n",
       "      <td>discount</td>\n",
       "      <td>3</td>\n",
       "    </tr>\n",
       "    <tr>\n",
       "      <th>6</th>\n",
       "      <td>[web, email, mobile, social]</td>\n",
       "      <td>10</td>\n",
       "      <td>10</td>\n",
       "      <td>fafdcd668e3743c1bb461111dcafc2a4</td>\n",
       "      <td>discount</td>\n",
       "      <td>2</td>\n",
       "    </tr>\n",
       "    <tr>\n",
       "      <th>7</th>\n",
       "      <td>[email, mobile, social]</td>\n",
       "      <td>0</td>\n",
       "      <td>3</td>\n",
       "      <td>5a8bc65990b245e5a138643cd4eb9837</td>\n",
       "      <td>informational</td>\n",
       "      <td>0</td>\n",
       "    </tr>\n",
       "    <tr>\n",
       "      <th>8</th>\n",
       "      <td>[web, email, mobile, social]</td>\n",
       "      <td>5</td>\n",
       "      <td>5</td>\n",
       "      <td>f19421c1d4aa40978ebb69ca19b0e20d</td>\n",
       "      <td>bogo</td>\n",
       "      <td>5</td>\n",
       "    </tr>\n",
       "    <tr>\n",
       "      <th>9</th>\n",
       "      <td>[web, email, mobile]</td>\n",
       "      <td>10</td>\n",
       "      <td>7</td>\n",
       "      <td>2906b810c7d4411798c6938adc9daaa5</td>\n",
       "      <td>discount</td>\n",
       "      <td>2</td>\n",
       "    </tr>\n",
       "  </tbody>\n",
       "</table>\n",
       "</div>"
      ],
      "text/plain": [
       "                       channels  difficulty  duration  \\\n",
       "0       [email, mobile, social]          10         7   \n",
       "1  [web, email, mobile, social]          10         5   \n",
       "2          [web, email, mobile]           0         4   \n",
       "3          [web, email, mobile]           5         7   \n",
       "4                  [web, email]          20        10   \n",
       "5  [web, email, mobile, social]           7         7   \n",
       "6  [web, email, mobile, social]          10        10   \n",
       "7       [email, mobile, social]           0         3   \n",
       "8  [web, email, mobile, social]           5         5   \n",
       "9          [web, email, mobile]          10         7   \n",
       "\n",
       "                                 id     offer_type  reward  \n",
       "0  ae264e3637204a6fb9bb56bc8210ddfd           bogo      10  \n",
       "1  4d5c57ea9a6940dd891ad53e9dbe8da0           bogo      10  \n",
       "2  3f207df678b143eea3cee63160fa8bed  informational       0  \n",
       "3  9b98b8c7a33c4b65b9aebfe6a799e6d9           bogo       5  \n",
       "4  0b1e1539f2cc45b7b9fa7c272da2e1d7       discount       5  \n",
       "5  2298d6c36e964ae4a3e7e9706d1fb8c2       discount       3  \n",
       "6  fafdcd668e3743c1bb461111dcafc2a4       discount       2  \n",
       "7  5a8bc65990b245e5a138643cd4eb9837  informational       0  \n",
       "8  f19421c1d4aa40978ebb69ca19b0e20d           bogo       5  \n",
       "9  2906b810c7d4411798c6938adc9daaa5       discount       2  "
      ]
     },
     "execution_count": 2,
     "metadata": {},
     "output_type": "execute_result"
    }
   ],
   "source": [
    "print(portfolio.shape)\n",
    "portfolio"
   ]
  },
  {
   "cell_type": "markdown",
   "metadata": {},
   "source": [
    "    1. Scale of features are distinct each other, they should be conisder for feature scaling.\n",
    "    2. No missing id, all have unique id's.\n",
    "    3. If we observe we have 3 different offer_type's BOGO, Discount, Informational.\n",
    "    4. Finally Channel I think it would be enrich information through-out solving the case, we will encode it."
   ]
  },
  {
   "cell_type": "markdown",
   "metadata": {},
   "source": [
    "### 2.Profile"
   ]
  },
  {
   "cell_type": "code",
   "execution_count": 3,
   "metadata": {},
   "outputs": [
    {
     "name": "stdout",
     "output_type": "stream",
     "text": [
      "Profile Dataset information \n",
      "\n",
      "<class 'pandas.core.frame.DataFrame'>\n",
      "RangeIndex: 17000 entries, 0 to 16999\n",
      "Data columns (total 5 columns):\n",
      "age                 17000 non-null int64\n",
      "became_member_on    17000 non-null int64\n",
      "gender              14825 non-null object\n",
      "id                  17000 non-null object\n",
      "income              14825 non-null float64\n",
      "dtypes: float64(1), int64(2), object(2)\n",
      "memory usage: 664.1+ KB\n"
     ]
    }
   ],
   "source": [
    "print('Profile Dataset information \\n')\n",
    "profile.info()"
   ]
  },
  {
   "cell_type": "code",
   "execution_count": 9,
   "metadata": {},
   "outputs": [
    {
     "data": {
      "text/html": [
       "<div>\n",
       "<style scoped>\n",
       "    .dataframe tbody tr th:only-of-type {\n",
       "        vertical-align: middle;\n",
       "    }\n",
       "\n",
       "    .dataframe tbody tr th {\n",
       "        vertical-align: top;\n",
       "    }\n",
       "\n",
       "    .dataframe thead th {\n",
       "        text-align: right;\n",
       "    }\n",
       "</style>\n",
       "<table border=\"1\" class=\"dataframe\">\n",
       "  <thead>\n",
       "    <tr style=\"text-align: right;\">\n",
       "      <th></th>\n",
       "      <th>age</th>\n",
       "      <th>became_member_on</th>\n",
       "      <th>gender</th>\n",
       "      <th>id</th>\n",
       "      <th>income</th>\n",
       "    </tr>\n",
       "  </thead>\n",
       "  <tbody>\n",
       "    <tr>\n",
       "      <th>0</th>\n",
       "      <td>118</td>\n",
       "      <td>20170212</td>\n",
       "      <td>None</td>\n",
       "      <td>68be06ca386d4c31939f3a4f0e3dd783</td>\n",
       "      <td>NaN</td>\n",
       "    </tr>\n",
       "    <tr>\n",
       "      <th>1</th>\n",
       "      <td>55</td>\n",
       "      <td>20170715</td>\n",
       "      <td>F</td>\n",
       "      <td>0610b486422d4921ae7d2bf64640c50b</td>\n",
       "      <td>112000.0</td>\n",
       "    </tr>\n",
       "    <tr>\n",
       "      <th>2</th>\n",
       "      <td>118</td>\n",
       "      <td>20180712</td>\n",
       "      <td>None</td>\n",
       "      <td>38fe809add3b4fcf9315a9694bb96ff5</td>\n",
       "      <td>NaN</td>\n",
       "    </tr>\n",
       "    <tr>\n",
       "      <th>3</th>\n",
       "      <td>75</td>\n",
       "      <td>20170509</td>\n",
       "      <td>F</td>\n",
       "      <td>78afa995795e4d85b5d9ceeca43f5fef</td>\n",
       "      <td>100000.0</td>\n",
       "    </tr>\n",
       "    <tr>\n",
       "      <th>4</th>\n",
       "      <td>118</td>\n",
       "      <td>20170804</td>\n",
       "      <td>None</td>\n",
       "      <td>a03223e636434f42ac4c3df47e8bac43</td>\n",
       "      <td>NaN</td>\n",
       "    </tr>\n",
       "    <tr>\n",
       "      <th>5</th>\n",
       "      <td>68</td>\n",
       "      <td>20180426</td>\n",
       "      <td>M</td>\n",
       "      <td>e2127556f4f64592b11af22de27a7932</td>\n",
       "      <td>70000.0</td>\n",
       "    </tr>\n",
       "    <tr>\n",
       "      <th>6</th>\n",
       "      <td>118</td>\n",
       "      <td>20170925</td>\n",
       "      <td>None</td>\n",
       "      <td>8ec6ce2a7e7949b1bf142def7d0e0586</td>\n",
       "      <td>NaN</td>\n",
       "    </tr>\n",
       "    <tr>\n",
       "      <th>7</th>\n",
       "      <td>118</td>\n",
       "      <td>20171002</td>\n",
       "      <td>None</td>\n",
       "      <td>68617ca6246f4fbc85e91a2a49552598</td>\n",
       "      <td>NaN</td>\n",
       "    </tr>\n",
       "  </tbody>\n",
       "</table>\n",
       "</div>"
      ],
      "text/plain": [
       "   age  became_member_on gender                                id    income\n",
       "0  118          20170212   None  68be06ca386d4c31939f3a4f0e3dd783       NaN\n",
       "1   55          20170715      F  0610b486422d4921ae7d2bf64640c50b  112000.0\n",
       "2  118          20180712   None  38fe809add3b4fcf9315a9694bb96ff5       NaN\n",
       "3   75          20170509      F  78afa995795e4d85b5d9ceeca43f5fef  100000.0\n",
       "4  118          20170804   None  a03223e636434f42ac4c3df47e8bac43       NaN\n",
       "5   68          20180426      M  e2127556f4f64592b11af22de27a7932   70000.0\n",
       "6  118          20170925   None  8ec6ce2a7e7949b1bf142def7d0e0586       NaN\n",
       "7  118          20171002   None  68617ca6246f4fbc85e91a2a49552598       NaN"
      ]
     },
     "execution_count": 9,
     "metadata": {},
     "output_type": "execute_result"
    }
   ],
   "source": [
    "profile.head(8)"
   ]
  },
  {
   "cell_type": "code",
   "execution_count": 10,
   "metadata": {},
   "outputs": [
    {
     "data": {
      "text/plain": [
       "age                    0\n",
       "became_member_on       0\n",
       "gender              2175\n",
       "id                     0\n",
       "income              2175\n",
       "dtype: int64"
      ]
     },
     "execution_count": 10,
     "metadata": {},
     "output_type": "execute_result"
    }
   ],
   "source": [
    "profile.isnull().sum()"
   ]
  },
  {
   "cell_type": "code",
   "execution_count": 15,
   "metadata": {},
   "outputs": [
    {
     "data": {
      "text/html": [
       "<div>\n",
       "<style scoped>\n",
       "    .dataframe tbody tr th:only-of-type {\n",
       "        vertical-align: middle;\n",
       "    }\n",
       "\n",
       "    .dataframe tbody tr th {\n",
       "        vertical-align: top;\n",
       "    }\n",
       "\n",
       "    .dataframe thead th {\n",
       "        text-align: right;\n",
       "    }\n",
       "</style>\n",
       "<table border=\"1\" class=\"dataframe\">\n",
       "  <thead>\n",
       "    <tr style=\"text-align: right;\">\n",
       "      <th></th>\n",
       "      <th>age</th>\n",
       "      <th>gender</th>\n",
       "      <th>income</th>\n",
       "    </tr>\n",
       "  </thead>\n",
       "  <tbody>\n",
       "    <tr>\n",
       "      <th>0</th>\n",
       "      <td>118</td>\n",
       "      <td>None</td>\n",
       "      <td>NaN</td>\n",
       "    </tr>\n",
       "    <tr>\n",
       "      <th>2</th>\n",
       "      <td>118</td>\n",
       "      <td>None</td>\n",
       "      <td>NaN</td>\n",
       "    </tr>\n",
       "    <tr>\n",
       "      <th>4</th>\n",
       "      <td>118</td>\n",
       "      <td>None</td>\n",
       "      <td>NaN</td>\n",
       "    </tr>\n",
       "    <tr>\n",
       "      <th>6</th>\n",
       "      <td>118</td>\n",
       "      <td>None</td>\n",
       "      <td>NaN</td>\n",
       "    </tr>\n",
       "    <tr>\n",
       "      <th>7</th>\n",
       "      <td>118</td>\n",
       "      <td>None</td>\n",
       "      <td>NaN</td>\n",
       "    </tr>\n",
       "    <tr>\n",
       "      <th>9</th>\n",
       "      <td>118</td>\n",
       "      <td>None</td>\n",
       "      <td>NaN</td>\n",
       "    </tr>\n",
       "    <tr>\n",
       "      <th>10</th>\n",
       "      <td>118</td>\n",
       "      <td>None</td>\n",
       "      <td>NaN</td>\n",
       "    </tr>\n",
       "    <tr>\n",
       "      <th>11</th>\n",
       "      <td>118</td>\n",
       "      <td>None</td>\n",
       "      <td>NaN</td>\n",
       "    </tr>\n",
       "    <tr>\n",
       "      <th>17</th>\n",
       "      <td>118</td>\n",
       "      <td>None</td>\n",
       "      <td>NaN</td>\n",
       "    </tr>\n",
       "    <tr>\n",
       "      <th>23</th>\n",
       "      <td>118</td>\n",
       "      <td>None</td>\n",
       "      <td>NaN</td>\n",
       "    </tr>\n",
       "  </tbody>\n",
       "</table>\n",
       "</div>"
      ],
      "text/plain": [
       "    age gender  income\n",
       "0   118   None     NaN\n",
       "2   118   None     NaN\n",
       "4   118   None     NaN\n",
       "6   118   None     NaN\n",
       "7   118   None     NaN\n",
       "9   118   None     NaN\n",
       "10  118   None     NaN\n",
       "11  118   None     NaN\n",
       "17  118   None     NaN\n",
       "23  118   None     NaN"
      ]
     },
     "execution_count": 15,
     "metadata": {},
     "output_type": "execute_result"
    }
   ],
   "source": [
    "profile[profile['age']==118][['age','gender','income']].head(10)"
   ]
  },
  {
   "cell_type": "markdown",
   "metadata": {},
   "source": [
    "* Intersting when there is an None in gender and Nan in income column.\n",
    "* Both have same 2175 missing values.\n",
    "* Last, age with 118 confirm's that we can drop these 2175 rows information. Since it carrying all None information."
   ]
  },
  {
   "cell_type": "code",
   "execution_count": 3,
   "metadata": {},
   "outputs": [
    {
     "data": {
      "text/plain": [
       "(14825, 5)"
      ]
     },
     "execution_count": 3,
     "metadata": {},
     "output_type": "execute_result"
    }
   ],
   "source": [
    "# removing Missing Values\n",
    "value_counts = profile['age'].value_counts()\n",
    "to_remove = value_counts[value_counts == 2175].index\n",
    "profile = profile[~profile.age.isin(to_remove)]\n",
    "profile.shape"
   ]
  },
  {
   "cell_type": "code",
   "execution_count": 17,
   "metadata": {},
   "outputs": [
    {
     "data": {
      "text/plain": [
       "<matplotlib.axes._subplots.AxesSubplot at 0x7f9e9c610e10>"
      ]
     },
     "execution_count": 17,
     "metadata": {},
     "output_type": "execute_result"
    },
    {
     "data": {
      "image/png": "[encoded data removed]",
      "text/plain": [
       "<matplotlib.figure.Figure at 0x7f9e9c6100b8>"
      ]
     },
     "metadata": {
      "needs_background": "light"
     },
     "output_type": "display_data"
    }
   ],
   "source": [
    "profile['income'].hist()"
   ]
  },
  {
   "cell_type": "code",
   "execution_count": 24,
   "metadata": {},
   "outputs": [
    {
     "data": {
      "image/png": "[encoded data removed]",
      "text/plain": [
       "<matplotlib.figure.Figure at 0x7f9e9c01dfd0>"
      ]
     },
     "metadata": {
      "needs_background": "light"
     },
     "output_type": "display_data"
    }
   ],
   "source": [
    "import seaborn as sns\n",
    "import matplotlib.pyplot as plt\n",
    "sns.distplot(profile[profile.gender == 'M'].income,label='M')\n",
    "sns.distplot(profile[profile.gender == 'F'].income,label='F')\n",
    "plt.title('Gender wise income plot:')\n",
    "plt.legend()\n",
    "plt.show()"
   ]
  },
  {
   "cell_type": "code",
   "execution_count": 27,
   "metadata": {},
   "outputs": [
    {
     "data": {
      "image/png": "[encoded data removed]",
      "text/plain": [
       "<matplotlib.figure.Figure at 0x7f9e9bf55da0>"
      ]
     },
     "metadata": {
      "needs_background": "light"
     },
     "output_type": "display_data"
    }
   ],
   "source": [
    "profile['age'].hist()\n",
    "plt.title('Age distribution')\n",
    "plt.show()"
   ]
  },
  {
   "cell_type": "code",
   "execution_count": 28,
   "metadata": {},
   "outputs": [
    {
     "data": {
      "image/png": "[encoded data removed]",
      "text/plain": [
       "<matplotlib.figure.Figure at 0x7f9e9bf187f0>"
      ]
     },
     "metadata": {
      "needs_background": "light"
     },
     "output_type": "display_data"
    }
   ],
   "source": [
    "sns.distplot(profile[profile.gender == 'M'].age,label='M')\n",
    "sns.distplot(profile[profile.gender == 'F'].age,label='F')\n",
    "plt.title('Gender wise age distribution:')\n",
    "plt.legend()\n",
    "plt.show()"
   ]
  },
  {
   "cell_type": "markdown",
   "metadata": {},
   "source": [
    "    * It seems 118 is completely out of control like outlier"
   ]
  },
  {
   "cell_type": "markdown",
   "metadata": {},
   "source": [
    "### 3.Transcript Dataset"
   ]
  },
  {
   "cell_type": "code",
   "execution_count": 2,
   "metadata": {},
   "outputs": [
    {
     "name": "stdout",
     "output_type": "stream",
     "text": [
      "Transcript information : \n",
      "\n",
      "<class 'pandas.core.frame.DataFrame'>\n",
      "RangeIndex: 306534 entries, 0 to 306533\n",
      "Data columns (total 4 columns):\n",
      "event     306534 non-null object\n",
      "person    306534 non-null object\n",
      "time      306534 non-null int64\n",
      "value     306534 non-null object\n",
      "dtypes: int64(1), object(3)\n",
      "memory usage: 9.4+ MB\n"
     ]
    }
   ],
   "source": [
    "print('Transcript information : \\n')\n",
    "transcript.info()"
   ]
  },
  {
   "cell_type": "code",
   "execution_count": 30,
   "metadata": {},
   "outputs": [
    {
     "data": {
      "text/html": [
       "<div>\n",
       "<style scoped>\n",
       "    .dataframe tbody tr th:only-of-type {\n",
       "        vertical-align: middle;\n",
       "    }\n",
       "\n",
       "    .dataframe tbody tr th {\n",
       "        vertical-align: top;\n",
       "    }\n",
       "\n",
       "    .dataframe thead th {\n",
       "        text-align: right;\n",
       "    }\n",
       "</style>\n",
       "<table border=\"1\" class=\"dataframe\">\n",
       "  <thead>\n",
       "    <tr style=\"text-align: right;\">\n",
       "      <th></th>\n",
       "      <th>event</th>\n",
       "      <th>person</th>\n",
       "      <th>time</th>\n",
       "      <th>value</th>\n",
       "    </tr>\n",
       "  </thead>\n",
       "  <tbody>\n",
       "    <tr>\n",
       "      <th>0</th>\n",
       "      <td>offer received</td>\n",
       "      <td>78afa995795e4d85b5d9ceeca43f5fef</td>\n",
       "      <td>0</td>\n",
       "      <td>{'offer id': '9b98b8c7a33c4b65b9aebfe6a799e6d9'}</td>\n",
       "    </tr>\n",
       "    <tr>\n",
       "      <th>1</th>\n",
       "      <td>offer received</td>\n",
       "      <td>a03223e636434f42ac4c3df47e8bac43</td>\n",
       "      <td>0</td>\n",
       "      <td>{'offer id': '0b1e1539f2cc45b7b9fa7c272da2e1d7'}</td>\n",
       "    </tr>\n",
       "    <tr>\n",
       "      <th>2</th>\n",
       "      <td>offer received</td>\n",
       "      <td>e2127556f4f64592b11af22de27a7932</td>\n",
       "      <td>0</td>\n",
       "      <td>{'offer id': '2906b810c7d4411798c6938adc9daaa5'}</td>\n",
       "    </tr>\n",
       "    <tr>\n",
       "      <th>3</th>\n",
       "      <td>offer received</td>\n",
       "      <td>8ec6ce2a7e7949b1bf142def7d0e0586</td>\n",
       "      <td>0</td>\n",
       "      <td>{'offer id': 'fafdcd668e3743c1bb461111dcafc2a4'}</td>\n",
       "    </tr>\n",
       "    <tr>\n",
       "      <th>4</th>\n",
       "      <td>offer received</td>\n",
       "      <td>68617ca6246f4fbc85e91a2a49552598</td>\n",
       "      <td>0</td>\n",
       "      <td>{'offer id': '4d5c57ea9a6940dd891ad53e9dbe8da0'}</td>\n",
       "    </tr>\n",
       "    <tr>\n",
       "      <th>5</th>\n",
       "      <td>offer received</td>\n",
       "      <td>389bc3fa690240e798340f5a15918d5c</td>\n",
       "      <td>0</td>\n",
       "      <td>{'offer id': 'f19421c1d4aa40978ebb69ca19b0e20d'}</td>\n",
       "    </tr>\n",
       "    <tr>\n",
       "      <th>6</th>\n",
       "      <td>offer received</td>\n",
       "      <td>c4863c7985cf408faee930f111475da3</td>\n",
       "      <td>0</td>\n",
       "      <td>{'offer id': '2298d6c36e964ae4a3e7e9706d1fb8c2'}</td>\n",
       "    </tr>\n",
       "  </tbody>\n",
       "</table>\n",
       "</div>"
      ],
      "text/plain": [
       "            event                            person  time  \\\n",
       "0  offer received  78afa995795e4d85b5d9ceeca43f5fef     0   \n",
       "1  offer received  a03223e636434f42ac4c3df47e8bac43     0   \n",
       "2  offer received  e2127556f4f64592b11af22de27a7932     0   \n",
       "3  offer received  8ec6ce2a7e7949b1bf142def7d0e0586     0   \n",
       "4  offer received  68617ca6246f4fbc85e91a2a49552598     0   \n",
       "5  offer received  389bc3fa690240e798340f5a15918d5c     0   \n",
       "6  offer received  c4863c7985cf408faee930f111475da3     0   \n",
       "\n",
       "                                              value  \n",
       "0  {'offer id': '9b98b8c7a33c4b65b9aebfe6a799e6d9'}  \n",
       "1  {'offer id': '0b1e1539f2cc45b7b9fa7c272da2e1d7'}  \n",
       "2  {'offer id': '2906b810c7d4411798c6938adc9daaa5'}  \n",
       "3  {'offer id': 'fafdcd668e3743c1bb461111dcafc2a4'}  \n",
       "4  {'offer id': '4d5c57ea9a6940dd891ad53e9dbe8da0'}  \n",
       "5  {'offer id': 'f19421c1d4aa40978ebb69ca19b0e20d'}  \n",
       "6  {'offer id': '2298d6c36e964ae4a3e7e9706d1fb8c2'}  "
      ]
     },
     "execution_count": 30,
     "metadata": {},
     "output_type": "execute_result"
    }
   ],
   "source": [
    "transcript.head(7)"
   ]
  },
  {
   "cell_type": "markdown",
   "metadata": {},
   "source": [
    "    Value column carrying unique offer id and which is same 'id' column name in portfolio dataset, will rename 'id' column in portfolio to 'offer id' would be ease to map after data manipulation of 'value' column"
   ]
  },
  {
   "cell_type": "code",
   "execution_count": 35,
   "metadata": {},
   "outputs": [
    {
     "data": {
      "text/plain": [
       "event\n",
       "offer completed     33579\n",
       "offer received      76277\n",
       "offer viewed        57725\n",
       "transaction        138953\n",
       "Name: person, dtype: int64"
      ]
     },
     "execution_count": 35,
     "metadata": {},
     "output_type": "execute_result"
    }
   ],
   "source": [
    "transcript.groupby('event').person.count()"
   ]
  },
  {
   "cell_type": "code",
   "execution_count": 3,
   "metadata": {},
   "outputs": [
    {
     "data": {
      "text/html": [
       "<div>\n",
       "<style scoped>\n",
       "    .dataframe tbody tr th:only-of-type {\n",
       "        vertical-align: middle;\n",
       "    }\n",
       "\n",
       "    .dataframe tbody tr th {\n",
       "        vertical-align: top;\n",
       "    }\n",
       "\n",
       "    .dataframe thead th {\n",
       "        text-align: right;\n",
       "    }\n",
       "</style>\n",
       "<table border=\"1\" class=\"dataframe\">\n",
       "  <thead>\n",
       "    <tr style=\"text-align: right;\">\n",
       "      <th></th>\n",
       "      <th>channels</th>\n",
       "      <th>difficulty</th>\n",
       "      <th>duration</th>\n",
       "      <th>offer_id</th>\n",
       "      <th>offer_type</th>\n",
       "      <th>reward</th>\n",
       "    </tr>\n",
       "  </thead>\n",
       "  <tbody>\n",
       "    <tr>\n",
       "      <th>0</th>\n",
       "      <td>[email, mobile, social]</td>\n",
       "      <td>10</td>\n",
       "      <td>7</td>\n",
       "      <td>ae264e3637204a6fb9bb56bc8210ddfd</td>\n",
       "      <td>bogo</td>\n",
       "      <td>10</td>\n",
       "    </tr>\n",
       "    <tr>\n",
       "      <th>1</th>\n",
       "      <td>[web, email, mobile, social]</td>\n",
       "      <td>10</td>\n",
       "      <td>5</td>\n",
       "      <td>4d5c57ea9a6940dd891ad53e9dbe8da0</td>\n",
       "      <td>bogo</td>\n",
       "      <td>10</td>\n",
       "    </tr>\n",
       "    <tr>\n",
       "      <th>2</th>\n",
       "      <td>[web, email, mobile]</td>\n",
       "      <td>0</td>\n",
       "      <td>4</td>\n",
       "      <td>3f207df678b143eea3cee63160fa8bed</td>\n",
       "      <td>informational</td>\n",
       "      <td>0</td>\n",
       "    </tr>\n",
       "  </tbody>\n",
       "</table>\n",
       "</div>"
      ],
      "text/plain": [
       "                       channels  difficulty  duration  \\\n",
       "0       [email, mobile, social]          10         7   \n",
       "1  [web, email, mobile, social]          10         5   \n",
       "2          [web, email, mobile]           0         4   \n",
       "\n",
       "                           offer_id     offer_type  reward  \n",
       "0  ae264e3637204a6fb9bb56bc8210ddfd           bogo      10  \n",
       "1  4d5c57ea9a6940dd891ad53e9dbe8da0           bogo      10  \n",
       "2  3f207df678b143eea3cee63160fa8bed  informational       0  "
      ]
     },
     "execution_count": 3,
     "metadata": {},
     "output_type": "execute_result"
    }
   ],
   "source": [
    "portfolio = portfolio.rename(columns = {'id':'offer_id'})\n",
    "portfolio.head(3)"
   ]
  },
  {
   "cell_type": "code",
   "execution_count": 4,
   "metadata": {},
   "outputs": [
    {
     "data": {
      "text/html": [
       "<div>\n",
       "<style scoped>\n",
       "    .dataframe tbody tr th:only-of-type {\n",
       "        vertical-align: middle;\n",
       "    }\n",
       "\n",
       "    .dataframe tbody tr th {\n",
       "        vertical-align: top;\n",
       "    }\n",
       "\n",
       "    .dataframe thead th {\n",
       "        text-align: right;\n",
       "    }\n",
       "</style>\n",
       "<table border=\"1\" class=\"dataframe\">\n",
       "  <thead>\n",
       "    <tr style=\"text-align: right;\">\n",
       "      <th></th>\n",
       "      <th>event</th>\n",
       "      <th>person</th>\n",
       "      <th>time</th>\n",
       "      <th>value</th>\n",
       "      <th>offer id</th>\n",
       "      <th>amount</th>\n",
       "      <th>offer_id</th>\n",
       "      <th>reward</th>\n",
       "    </tr>\n",
       "  </thead>\n",
       "  <tbody>\n",
       "    <tr>\n",
       "      <th>0</th>\n",
       "      <td>offer received</td>\n",
       "      <td>78afa995795e4d85b5d9ceeca43f5fef</td>\n",
       "      <td>0</td>\n",
       "      <td>{'offer id': '9b98b8c7a33c4b65b9aebfe6a799e6d9'}</td>\n",
       "      <td>9b98b8c7a33c4b65b9aebfe6a799e6d9</td>\n",
       "      <td>NaN</td>\n",
       "      <td>NaN</td>\n",
       "      <td>NaN</td>\n",
       "    </tr>\n",
       "    <tr>\n",
       "      <th>1</th>\n",
       "      <td>offer received</td>\n",
       "      <td>a03223e636434f42ac4c3df47e8bac43</td>\n",
       "      <td>0</td>\n",
       "      <td>{'offer id': '0b1e1539f2cc45b7b9fa7c272da2e1d7'}</td>\n",
       "      <td>0b1e1539f2cc45b7b9fa7c272da2e1d7</td>\n",
       "      <td>NaN</td>\n",
       "      <td>NaN</td>\n",
       "      <td>NaN</td>\n",
       "    </tr>\n",
       "    <tr>\n",
       "      <th>2</th>\n",
       "      <td>offer received</td>\n",
       "      <td>e2127556f4f64592b11af22de27a7932</td>\n",
       "      <td>0</td>\n",
       "      <td>{'offer id': '2906b810c7d4411798c6938adc9daaa5'}</td>\n",
       "      <td>2906b810c7d4411798c6938adc9daaa5</td>\n",
       "      <td>NaN</td>\n",
       "      <td>NaN</td>\n",
       "      <td>NaN</td>\n",
       "    </tr>\n",
       "    <tr>\n",
       "      <th>3</th>\n",
       "      <td>offer received</td>\n",
       "      <td>8ec6ce2a7e7949b1bf142def7d0e0586</td>\n",
       "      <td>0</td>\n",
       "      <td>{'offer id': 'fafdcd668e3743c1bb461111dcafc2a4'}</td>\n",
       "      <td>fafdcd668e3743c1bb461111dcafc2a4</td>\n",
       "      <td>NaN</td>\n",
       "      <td>NaN</td>\n",
       "      <td>NaN</td>\n",
       "    </tr>\n",
       "    <tr>\n",
       "      <th>4</th>\n",
       "      <td>offer received</td>\n",
       "      <td>68617ca6246f4fbc85e91a2a49552598</td>\n",
       "      <td>0</td>\n",
       "      <td>{'offer id': '4d5c57ea9a6940dd891ad53e9dbe8da0'}</td>\n",
       "      <td>4d5c57ea9a6940dd891ad53e9dbe8da0</td>\n",
       "      <td>NaN</td>\n",
       "      <td>NaN</td>\n",
       "      <td>NaN</td>\n",
       "    </tr>\n",
       "  </tbody>\n",
       "</table>\n",
       "</div>"
      ],
      "text/plain": [
       "            event                            person  time  \\\n",
       "0  offer received  78afa995795e4d85b5d9ceeca43f5fef     0   \n",
       "1  offer received  a03223e636434f42ac4c3df47e8bac43     0   \n",
       "2  offer received  e2127556f4f64592b11af22de27a7932     0   \n",
       "3  offer received  8ec6ce2a7e7949b1bf142def7d0e0586     0   \n",
       "4  offer received  68617ca6246f4fbc85e91a2a49552598     0   \n",
       "\n",
       "                                              value  \\\n",
       "0  {'offer id': '9b98b8c7a33c4b65b9aebfe6a799e6d9'}   \n",
       "1  {'offer id': '0b1e1539f2cc45b7b9fa7c272da2e1d7'}   \n",
       "2  {'offer id': '2906b810c7d4411798c6938adc9daaa5'}   \n",
       "3  {'offer id': 'fafdcd668e3743c1bb461111dcafc2a4'}   \n",
       "4  {'offer id': '4d5c57ea9a6940dd891ad53e9dbe8da0'}   \n",
       "\n",
       "                           offer id  amount offer_id  reward  \n",
       "0  9b98b8c7a33c4b65b9aebfe6a799e6d9     NaN      NaN     NaN  \n",
       "1  0b1e1539f2cc45b7b9fa7c272da2e1d7     NaN      NaN     NaN  \n",
       "2  2906b810c7d4411798c6938adc9daaa5     NaN      NaN     NaN  \n",
       "3  fafdcd668e3743c1bb461111dcafc2a4     NaN      NaN     NaN  \n",
       "4  4d5c57ea9a6940dd891ad53e9dbe8da0     NaN      NaN     NaN  "
      ]
     },
     "execution_count": 4,
     "metadata": {},
     "output_type": "execute_result"
    }
   ],
   "source": [
    "# Value column should needs to be preprocess\n",
    "transcript = pd.concat([transcript,transcript['value'].apply(pd.Series)],axis = 1)\n",
    "transcript.head()"
   ]
  },
  {
   "cell_type": "code",
   "execution_count": 8,
   "metadata": {},
   "outputs": [
    {
     "name": "stdout",
     "output_type": "stream",
     "text": [
      "offer_id column\n",
      "[nan '2906b810c7d4411798c6938adc9daaa5' 'fafdcd668e3743c1bb461111dcafc2a4'\n",
      " '9b98b8c7a33c4b65b9aebfe6a799e6d9' 'ae264e3637204a6fb9bb56bc8210ddfd'\n",
      " '4d5c57ea9a6940dd891ad53e9dbe8da0' '2298d6c36e964ae4a3e7e9706d1fb8c2'\n",
      " 'f19421c1d4aa40978ebb69ca19b0e20d' '0b1e1539f2cc45b7b9fa7c272da2e1d7'] \n",
      "\n",
      "[offer id] column\n",
      "['9b98b8c7a33c4b65b9aebfe6a799e6d9' '0b1e1539f2cc45b7b9fa7c272da2e1d7'\n",
      " '2906b810c7d4411798c6938adc9daaa5' 'fafdcd668e3743c1bb461111dcafc2a4'\n",
      " '4d5c57ea9a6940dd891ad53e9dbe8da0' 'f19421c1d4aa40978ebb69ca19b0e20d'\n",
      " '2298d6c36e964ae4a3e7e9706d1fb8c2' '3f207df678b143eea3cee63160fa8bed'\n",
      " 'ae264e3637204a6fb9bb56bc8210ddfd' '5a8bc65990b245e5a138643cd4eb9837' nan]\n"
     ]
    }
   ],
   "source": [
    "print('offer_id column')\n",
    "print(transcript.offer_id.unique(),'\\n')\n",
    "print('[offer id] column')\n",
    "print(transcript['offer id'].unique())"
   ]
  },
  {
   "cell_type": "code",
   "execution_count": 12,
   "metadata": {},
   "outputs": [
    {
     "name": "stdout",
     "output_type": "stream",
     "text": [
      "172532\n",
      "272955\n",
      "(306534, 8)\n"
     ]
    }
   ],
   "source": [
    "print(transcript['offer id'].isnull().sum())\n",
    "print(transcript['offer_id'].isnull().sum())\n",
    "print(transcript.shape)"
   ]
  },
  {
   "cell_type": "markdown",
   "metadata": {},
   "source": [
    "We have 'offer id' and 'offer_id' columns carrying information, let just ensure and make it single id column."
   ]
  },
  {
   "cell_type": "code",
   "execution_count": 5,
   "metadata": {},
   "outputs": [
    {
     "data": {
      "text/html": [
       "<div>\n",
       "<style scoped>\n",
       "    .dataframe tbody tr th:only-of-type {\n",
       "        vertical-align: middle;\n",
       "    }\n",
       "\n",
       "    .dataframe tbody tr th {\n",
       "        vertical-align: top;\n",
       "    }\n",
       "\n",
       "    .dataframe thead th {\n",
       "        text-align: right;\n",
       "    }\n",
       "</style>\n",
       "<table border=\"1\" class=\"dataframe\">\n",
       "  <thead>\n",
       "    <tr style=\"text-align: right;\">\n",
       "      <th></th>\n",
       "      <th>event</th>\n",
       "      <th>person</th>\n",
       "      <th>time</th>\n",
       "      <th>value</th>\n",
       "      <th>amount</th>\n",
       "      <th>reward</th>\n",
       "      <th>clean_id</th>\n",
       "    </tr>\n",
       "  </thead>\n",
       "  <tbody>\n",
       "    <tr>\n",
       "      <th>0</th>\n",
       "      <td>offer received</td>\n",
       "      <td>78afa995795e4d85b5d9ceeca43f5fef</td>\n",
       "      <td>0</td>\n",
       "      <td>{'offer id': '9b98b8c7a33c4b65b9aebfe6a799e6d9'}</td>\n",
       "      <td>NaN</td>\n",
       "      <td>NaN</td>\n",
       "      <td>9b98b8c7a33c4b65b9aebfe6a799e6d9</td>\n",
       "    </tr>\n",
       "    <tr>\n",
       "      <th>1</th>\n",
       "      <td>offer received</td>\n",
       "      <td>a03223e636434f42ac4c3df47e8bac43</td>\n",
       "      <td>0</td>\n",
       "      <td>{'offer id': '0b1e1539f2cc45b7b9fa7c272da2e1d7'}</td>\n",
       "      <td>NaN</td>\n",
       "      <td>NaN</td>\n",
       "      <td>0b1e1539f2cc45b7b9fa7c272da2e1d7</td>\n",
       "    </tr>\n",
       "    <tr>\n",
       "      <th>2</th>\n",
       "      <td>offer received</td>\n",
       "      <td>e2127556f4f64592b11af22de27a7932</td>\n",
       "      <td>0</td>\n",
       "      <td>{'offer id': '2906b810c7d4411798c6938adc9daaa5'}</td>\n",
       "      <td>NaN</td>\n",
       "      <td>NaN</td>\n",
       "      <td>2906b810c7d4411798c6938adc9daaa5</td>\n",
       "    </tr>\n",
       "    <tr>\n",
       "      <th>3</th>\n",
       "      <td>offer received</td>\n",
       "      <td>8ec6ce2a7e7949b1bf142def7d0e0586</td>\n",
       "      <td>0</td>\n",
       "      <td>{'offer id': 'fafdcd668e3743c1bb461111dcafc2a4'}</td>\n",
       "      <td>NaN</td>\n",
       "      <td>NaN</td>\n",
       "      <td>fafdcd668e3743c1bb461111dcafc2a4</td>\n",
       "    </tr>\n",
       "    <tr>\n",
       "      <th>4</th>\n",
       "      <td>offer received</td>\n",
       "      <td>68617ca6246f4fbc85e91a2a49552598</td>\n",
       "      <td>0</td>\n",
       "      <td>{'offer id': '4d5c57ea9a6940dd891ad53e9dbe8da0'}</td>\n",
       "      <td>NaN</td>\n",
       "      <td>NaN</td>\n",
       "      <td>4d5c57ea9a6940dd891ad53e9dbe8da0</td>\n",
       "    </tr>\n",
       "  </tbody>\n",
       "</table>\n",
       "</div>"
      ],
      "text/plain": [
       "            event                            person  time  \\\n",
       "0  offer received  78afa995795e4d85b5d9ceeca43f5fef     0   \n",
       "1  offer received  a03223e636434f42ac4c3df47e8bac43     0   \n",
       "2  offer received  e2127556f4f64592b11af22de27a7932     0   \n",
       "3  offer received  8ec6ce2a7e7949b1bf142def7d0e0586     0   \n",
       "4  offer received  68617ca6246f4fbc85e91a2a49552598     0   \n",
       "\n",
       "                                              value  amount  reward  \\\n",
       "0  {'offer id': '9b98b8c7a33c4b65b9aebfe6a799e6d9'}     NaN     NaN   \n",
       "1  {'offer id': '0b1e1539f2cc45b7b9fa7c272da2e1d7'}     NaN     NaN   \n",
       "2  {'offer id': '2906b810c7d4411798c6938adc9daaa5'}     NaN     NaN   \n",
       "3  {'offer id': 'fafdcd668e3743c1bb461111dcafc2a4'}     NaN     NaN   \n",
       "4  {'offer id': '4d5c57ea9a6940dd891ad53e9dbe8da0'}     NaN     NaN   \n",
       "\n",
       "                           clean_id  \n",
       "0  9b98b8c7a33c4b65b9aebfe6a799e6d9  \n",
       "1  0b1e1539f2cc45b7b9fa7c272da2e1d7  \n",
       "2  2906b810c7d4411798c6938adc9daaa5  \n",
       "3  fafdcd668e3743c1bb461111dcafc2a4  \n",
       "4  4d5c57ea9a6940dd891ad53e9dbe8da0  "
      ]
     },
     "execution_count": 5,
     "metadata": {},
     "output_type": "execute_result"
    }
   ],
   "source": [
    "transcript['clean_id'] = np.where(transcript['offer id'].isnull() & transcript['offer_id'].notnull(),\n",
    "                                  transcript['offer_id'],transcript['offer id'])\n",
    "\n",
    "# Drop the un neccessary columns \n",
    "transcript = transcript.drop(['offer id','offer_id'],axis = 1)\n",
    "transcript.head(5)"
   ]
  },
  {
   "cell_type": "code",
   "execution_count": 6,
   "metadata": {},
   "outputs": [
    {
     "data": {
      "text/html": [
       "<div>\n",
       "<style scoped>\n",
       "    .dataframe tbody tr th:only-of-type {\n",
       "        vertical-align: middle;\n",
       "    }\n",
       "\n",
       "    .dataframe tbody tr th {\n",
       "        vertical-align: top;\n",
       "    }\n",
       "\n",
       "    .dataframe thead th {\n",
       "        text-align: right;\n",
       "    }\n",
       "</style>\n",
       "<table border=\"1\" class=\"dataframe\">\n",
       "  <thead>\n",
       "    <tr style=\"text-align: right;\">\n",
       "      <th></th>\n",
       "      <th>event</th>\n",
       "      <th>person</th>\n",
       "      <th>time</th>\n",
       "      <th>value</th>\n",
       "      <th>amount</th>\n",
       "      <th>reward</th>\n",
       "      <th>offer_id</th>\n",
       "    </tr>\n",
       "  </thead>\n",
       "  <tbody>\n",
       "    <tr>\n",
       "      <th>0</th>\n",
       "      <td>offer received</td>\n",
       "      <td>78afa995795e4d85b5d9ceeca43f5fef</td>\n",
       "      <td>0</td>\n",
       "      <td>{'offer id': '9b98b8c7a33c4b65b9aebfe6a799e6d9'}</td>\n",
       "      <td>NaN</td>\n",
       "      <td>NaN</td>\n",
       "      <td>9b98b8c7a33c4b65b9aebfe6a799e6d9</td>\n",
       "    </tr>\n",
       "    <tr>\n",
       "      <th>1</th>\n",
       "      <td>offer received</td>\n",
       "      <td>a03223e636434f42ac4c3df47e8bac43</td>\n",
       "      <td>0</td>\n",
       "      <td>{'offer id': '0b1e1539f2cc45b7b9fa7c272da2e1d7'}</td>\n",
       "      <td>NaN</td>\n",
       "      <td>NaN</td>\n",
       "      <td>0b1e1539f2cc45b7b9fa7c272da2e1d7</td>\n",
       "    </tr>\n",
       "    <tr>\n",
       "      <th>2</th>\n",
       "      <td>offer received</td>\n",
       "      <td>e2127556f4f64592b11af22de27a7932</td>\n",
       "      <td>0</td>\n",
       "      <td>{'offer id': '2906b810c7d4411798c6938adc9daaa5'}</td>\n",
       "      <td>NaN</td>\n",
       "      <td>NaN</td>\n",
       "      <td>2906b810c7d4411798c6938adc9daaa5</td>\n",
       "    </tr>\n",
       "  </tbody>\n",
       "</table>\n",
       "</div>"
      ],
      "text/plain": [
       "            event                            person  time  \\\n",
       "0  offer received  78afa995795e4d85b5d9ceeca43f5fef     0   \n",
       "1  offer received  a03223e636434f42ac4c3df47e8bac43     0   \n",
       "2  offer received  e2127556f4f64592b11af22de27a7932     0   \n",
       "\n",
       "                                              value  amount  reward  \\\n",
       "0  {'offer id': '9b98b8c7a33c4b65b9aebfe6a799e6d9'}     NaN     NaN   \n",
       "1  {'offer id': '0b1e1539f2cc45b7b9fa7c272da2e1d7'}     NaN     NaN   \n",
       "2  {'offer id': '2906b810c7d4411798c6938adc9daaa5'}     NaN     NaN   \n",
       "\n",
       "                           offer_id  \n",
       "0  9b98b8c7a33c4b65b9aebfe6a799e6d9  \n",
       "1  0b1e1539f2cc45b7b9fa7c272da2e1d7  \n",
       "2  2906b810c7d4411798c6938adc9daaa5  "
      ]
     },
     "execution_count": 6,
     "metadata": {},
     "output_type": "execute_result"
    }
   ],
   "source": [
    "# Let rename clean_id to offer_id, it would be ease to map with other datasets while merging\n",
    "transcript.rename(columns = {'clean_id':'offer_id'}, inplace = True)\n",
    "transcript.head(3)"
   ]
  },
  {
   "cell_type": "markdown",
   "metadata": {},
   "source": [
    "Let merge the transcipt and portfolio datasets. So we can retrive offer_type and event information in detail."
   ]
  },
  {
   "cell_type": "code",
   "execution_count": 7,
   "metadata": {},
   "outputs": [],
   "source": [
    "trans_port = pd.merge(transcript,portfolio,how = 'left',on = 'offer_id')"
   ]
  },
  {
   "cell_type": "code",
   "execution_count": 8,
   "metadata": {},
   "outputs": [
    {
     "data": {
      "text/html": [
       "<div>\n",
       "<style scoped>\n",
       "    .dataframe tbody tr th:only-of-type {\n",
       "        vertical-align: middle;\n",
       "    }\n",
       "\n",
       "    .dataframe tbody tr th {\n",
       "        vertical-align: top;\n",
       "    }\n",
       "\n",
       "    .dataframe thead th {\n",
       "        text-align: right;\n",
       "    }\n",
       "</style>\n",
       "<table border=\"1\" class=\"dataframe\">\n",
       "  <thead>\n",
       "    <tr style=\"text-align: right;\">\n",
       "      <th></th>\n",
       "      <th>event</th>\n",
       "      <th>person</th>\n",
       "      <th>time</th>\n",
       "      <th>value</th>\n",
       "      <th>amount</th>\n",
       "      <th>reward_x</th>\n",
       "      <th>offer_id</th>\n",
       "      <th>channels</th>\n",
       "      <th>difficulty</th>\n",
       "      <th>duration</th>\n",
       "      <th>offer_type</th>\n",
       "      <th>reward_y</th>\n",
       "    </tr>\n",
       "  </thead>\n",
       "  <tbody>\n",
       "    <tr>\n",
       "      <th>0</th>\n",
       "      <td>offer received</td>\n",
       "      <td>78afa995795e4d85b5d9ceeca43f5fef</td>\n",
       "      <td>0</td>\n",
       "      <td>{'offer id': '9b98b8c7a33c4b65b9aebfe6a799e6d9'}</td>\n",
       "      <td>NaN</td>\n",
       "      <td>NaN</td>\n",
       "      <td>9b98b8c7a33c4b65b9aebfe6a799e6d9</td>\n",
       "      <td>[web, email, mobile]</td>\n",
       "      <td>5.0</td>\n",
       "      <td>7.0</td>\n",
       "      <td>bogo</td>\n",
       "      <td>5.0</td>\n",
       "    </tr>\n",
       "    <tr>\n",
       "      <th>1</th>\n",
       "      <td>offer received</td>\n",
       "      <td>a03223e636434f42ac4c3df47e8bac43</td>\n",
       "      <td>0</td>\n",
       "      <td>{'offer id': '0b1e1539f2cc45b7b9fa7c272da2e1d7'}</td>\n",
       "      <td>NaN</td>\n",
       "      <td>NaN</td>\n",
       "      <td>0b1e1539f2cc45b7b9fa7c272da2e1d7</td>\n",
       "      <td>[web, email]</td>\n",
       "      <td>20.0</td>\n",
       "      <td>10.0</td>\n",
       "      <td>discount</td>\n",
       "      <td>5.0</td>\n",
       "    </tr>\n",
       "    <tr>\n",
       "      <th>2</th>\n",
       "      <td>offer received</td>\n",
       "      <td>e2127556f4f64592b11af22de27a7932</td>\n",
       "      <td>0</td>\n",
       "      <td>{'offer id': '2906b810c7d4411798c6938adc9daaa5'}</td>\n",
       "      <td>NaN</td>\n",
       "      <td>NaN</td>\n",
       "      <td>2906b810c7d4411798c6938adc9daaa5</td>\n",
       "      <td>[web, email, mobile]</td>\n",
       "      <td>10.0</td>\n",
       "      <td>7.0</td>\n",
       "      <td>discount</td>\n",
       "      <td>2.0</td>\n",
       "    </tr>\n",
       "    <tr>\n",
       "      <th>3</th>\n",
       "      <td>offer received</td>\n",
       "      <td>8ec6ce2a7e7949b1bf142def7d0e0586</td>\n",
       "      <td>0</td>\n",
       "      <td>{'offer id': 'fafdcd668e3743c1bb461111dcafc2a4'}</td>\n",
       "      <td>NaN</td>\n",
       "      <td>NaN</td>\n",
       "      <td>fafdcd668e3743c1bb461111dcafc2a4</td>\n",
       "      <td>[web, email, mobile, social]</td>\n",
       "      <td>10.0</td>\n",
       "      <td>10.0</td>\n",
       "      <td>discount</td>\n",
       "      <td>2.0</td>\n",
       "    </tr>\n",
       "    <tr>\n",
       "      <th>4</th>\n",
       "      <td>offer received</td>\n",
       "      <td>68617ca6246f4fbc85e91a2a49552598</td>\n",
       "      <td>0</td>\n",
       "      <td>{'offer id': '4d5c57ea9a6940dd891ad53e9dbe8da0'}</td>\n",
       "      <td>NaN</td>\n",
       "      <td>NaN</td>\n",
       "      <td>4d5c57ea9a6940dd891ad53e9dbe8da0</td>\n",
       "      <td>[web, email, mobile, social]</td>\n",
       "      <td>10.0</td>\n",
       "      <td>5.0</td>\n",
       "      <td>bogo</td>\n",
       "      <td>10.0</td>\n",
       "    </tr>\n",
       "  </tbody>\n",
       "</table>\n",
       "</div>"
      ],
      "text/plain": [
       "            event                            person  time  \\\n",
       "0  offer received  78afa995795e4d85b5d9ceeca43f5fef     0   \n",
       "1  offer received  a03223e636434f42ac4c3df47e8bac43     0   \n",
       "2  offer received  e2127556f4f64592b11af22de27a7932     0   \n",
       "3  offer received  8ec6ce2a7e7949b1bf142def7d0e0586     0   \n",
       "4  offer received  68617ca6246f4fbc85e91a2a49552598     0   \n",
       "\n",
       "                                              value  amount  reward_x  \\\n",
       "0  {'offer id': '9b98b8c7a33c4b65b9aebfe6a799e6d9'}     NaN       NaN   \n",
       "1  {'offer id': '0b1e1539f2cc45b7b9fa7c272da2e1d7'}     NaN       NaN   \n",
       "2  {'offer id': '2906b810c7d4411798c6938adc9daaa5'}     NaN       NaN   \n",
       "3  {'offer id': 'fafdcd668e3743c1bb461111dcafc2a4'}     NaN       NaN   \n",
       "4  {'offer id': '4d5c57ea9a6940dd891ad53e9dbe8da0'}     NaN       NaN   \n",
       "\n",
       "                           offer_id                      channels  difficulty  \\\n",
       "0  9b98b8c7a33c4b65b9aebfe6a799e6d9          [web, email, mobile]         5.0   \n",
       "1  0b1e1539f2cc45b7b9fa7c272da2e1d7                  [web, email]        20.0   \n",
       "2  2906b810c7d4411798c6938adc9daaa5          [web, email, mobile]        10.0   \n",
       "3  fafdcd668e3743c1bb461111dcafc2a4  [web, email, mobile, social]        10.0   \n",
       "4  4d5c57ea9a6940dd891ad53e9dbe8da0  [web, email, mobile, social]        10.0   \n",
       "\n",
       "   duration offer_type  reward_y  \n",
       "0       7.0       bogo       5.0  \n",
       "1      10.0   discount       5.0  \n",
       "2       7.0   discount       2.0  \n",
       "3      10.0   discount       2.0  \n",
       "4       5.0       bogo      10.0  "
      ]
     },
     "execution_count": 8,
     "metadata": {},
     "output_type": "execute_result"
    }
   ],
   "source": [
    "trans_port.head(5)"
   ]
  },
  {
   "cell_type": "code",
   "execution_count": 11,
   "metadata": {},
   "outputs": [
    {
     "data": {
      "text/plain": [
       "offer_type     event          \n",
       "bogo           offer completed    15669\n",
       "               offer received     30499\n",
       "               offer viewed       25449\n",
       "discount       offer completed    17910\n",
       "               offer received     30543\n",
       "               offer viewed       21445\n",
       "informational  offer received     15235\n",
       "               offer viewed       10831\n",
       "Name: person, dtype: int64"
      ]
     },
     "execution_count": 11,
     "metadata": {},
     "output_type": "execute_result"
    }
   ],
   "source": [
    "trans_port.groupby(['offer_type','event']).person.count()"
   ]
  },
  {
   "cell_type": "markdown",
   "metadata": {},
   "source": [
    "We can observe that for informational there is no 'offer completed', it means 'transaction' should consider as informational offer completed."
   ]
  },
  {
   "cell_type": "code",
   "execution_count": 12,
   "metadata": {},
   "outputs": [
    {
     "data": {
      "text/plain": [
       "event            offer_type   \n",
       "offer completed  bogo             15669\n",
       "                 discount         17910\n",
       "offer received   bogo             30499\n",
       "                 discount         30543\n",
       "                 informational    15235\n",
       "offer viewed     bogo             25449\n",
       "                 discount         21445\n",
       "                 informational    10831\n",
       "Name: person, dtype: int64"
      ]
     },
     "execution_count": 12,
     "metadata": {},
     "output_type": "execute_result"
    }
   ],
   "source": [
    "trans_port.groupby(['event','offer_type']).person.count()"
   ]
  },
  {
   "cell_type": "markdown",
   "metadata": {},
   "source": [
    "We can see for informational offer_type, there is no association with 'offer completed' and thus transaction could be 'offer completed' event."
   ]
  },
  {
   "cell_type": "markdown",
   "metadata": {},
   "source": [
    "## Pre Processing"
   ]
  },
  {
   "cell_type": "markdown",
   "metadata": {},
   "source": [
    "1. Assigning offer ids to transactions\n",
    "    * we now have to assign offer_id to specific transactions as there is no offer id associated\n",
    "    * We can classify our customers into below 4 case studies:\n",
    "    \n",
    "        i.People who are successfully completed - effective offers\n",
    "            offer received -> offer viewed -> transaction -> offer completed (BOGO & Discount offer)\n",
    "            offer received -> offer viewed -> transaction (informational - there might be limited offer period)\n",
    "            \n",
    "        ii.People received and viewed, but did not completed transaction - ineffective offers\n",
    "            offer received -> offer viewed\n",
    "        \n",
    "        iii.People who purchase / complete offers regardless of awareness of any offers\n",
    "            transaction\n",
    "            offer received -> transaction -> offer completed -> offer viewed\n",
    "            transaction -> offer recieved -> offer completed -> offer viewed\n",
    "            offer received -> transaction -> offer viewed -> offer completed\n",
    "            offer received -> transaction (Informational)\n",
    "            offer received -> transaction -> offer viewed (Informational)\n",
    "          \n",
    "         iv. Offer received but no action\n",
    "             offer received\n",
    "             \n",
    "## Defining the target variable effective offer:\n",
    "\n",
    "* Group 1 Effective Offer :\n",
    "\n",
    "    We know that group 1 customers will be our target variable \"effective_offer\" = 1.\n",
    "\n",
    "###### ineffective offer list groups:\n",
    "\n",
    "* Group 2 with in-effective offer:\n",
    "    Group 2 where a user is aware of an offer, but the offer is ineffective as it does not convert the user into a customer.So group 2 can be defined as our target variable \"effective_offer\" = 0.\n",
    "\n",
    "* Group 3 :\n",
    "    Group 3 consists of users who may have received offers but would have purchased unknowingly. From the business point of view, we would not want to be sending them any offers.\n",
    "\n",
    "* Group 4 :\n",
    "    Group 4 users would be considered low priority customers, as they do not do any action, regardless of whether they receive offers or not.\n",
    "\n",
    "So, we can give low importance to group 3 and group 4 from our model."
   ]
  },
  {
   "cell_type": "markdown",
   "metadata": {},
   "source": [
    "With above reference of checks, will assign the offer id that 'influences' a transaction by ensuring that the transaction occurs after an offer viewed event."
   ]
  },
  {
   "cell_type": "code",
   "execution_count": 17,
   "metadata": {},
   "outputs": [
    {
     "data": {
      "text/plain": [
       "Index(['event', 'person', 'time', 'value', 'amount', 'reward_x', 'offer_id',\n",
       "       'channels', 'difficulty', 'duration', 'offer_type', 'reward_y'],\n",
       "      dtype='object')"
      ]
     },
     "execution_count": 17,
     "metadata": {},
     "output_type": "execute_result"
    }
   ],
   "source": [
    "trans_port.columns"
   ]
  },
  {
   "cell_type": "code",
   "execution_count": 8,
   "metadata": {},
   "outputs": [
    {
     "data": {
      "text/html": [
       "<div>\n",
       "<style scoped>\n",
       "    .dataframe tbody tr th:only-of-type {\n",
       "        vertical-align: middle;\n",
       "    }\n",
       "\n",
       "    .dataframe tbody tr th {\n",
       "        vertical-align: top;\n",
       "    }\n",
       "\n",
       "    .dataframe thead th {\n",
       "        text-align: right;\n",
       "    }\n",
       "</style>\n",
       "<table border=\"1\" class=\"dataframe\">\n",
       "  <thead>\n",
       "    <tr style=\"text-align: right;\">\n",
       "      <th></th>\n",
       "      <th>event</th>\n",
       "      <th>person</th>\n",
       "      <th>time</th>\n",
       "      <th>value</th>\n",
       "      <th>amount</th>\n",
       "      <th>offer_id</th>\n",
       "      <th>channels</th>\n",
       "      <th>difficulty</th>\n",
       "      <th>duration</th>\n",
       "      <th>offer_type</th>\n",
       "    </tr>\n",
       "  </thead>\n",
       "  <tbody>\n",
       "    <tr>\n",
       "      <th>0</th>\n",
       "      <td>offer received</td>\n",
       "      <td>78afa995795e4d85b5d9ceeca43f5fef</td>\n",
       "      <td>0</td>\n",
       "      <td>{'offer id': '9b98b8c7a33c4b65b9aebfe6a799e6d9'}</td>\n",
       "      <td>NaN</td>\n",
       "      <td>9b98b8c7a33c4b65b9aebfe6a799e6d9</td>\n",
       "      <td>[web, email, mobile]</td>\n",
       "      <td>5.0</td>\n",
       "      <td>7.0</td>\n",
       "      <td>bogo</td>\n",
       "    </tr>\n",
       "    <tr>\n",
       "      <th>1</th>\n",
       "      <td>offer received</td>\n",
       "      <td>a03223e636434f42ac4c3df47e8bac43</td>\n",
       "      <td>0</td>\n",
       "      <td>{'offer id': '0b1e1539f2cc45b7b9fa7c272da2e1d7'}</td>\n",
       "      <td>NaN</td>\n",
       "      <td>0b1e1539f2cc45b7b9fa7c272da2e1d7</td>\n",
       "      <td>[web, email]</td>\n",
       "      <td>20.0</td>\n",
       "      <td>10.0</td>\n",
       "      <td>discount</td>\n",
       "    </tr>\n",
       "    <tr>\n",
       "      <th>2</th>\n",
       "      <td>offer received</td>\n",
       "      <td>e2127556f4f64592b11af22de27a7932</td>\n",
       "      <td>0</td>\n",
       "      <td>{'offer id': '2906b810c7d4411798c6938adc9daaa5'}</td>\n",
       "      <td>NaN</td>\n",
       "      <td>2906b810c7d4411798c6938adc9daaa5</td>\n",
       "      <td>[web, email, mobile]</td>\n",
       "      <td>10.0</td>\n",
       "      <td>7.0</td>\n",
       "      <td>discount</td>\n",
       "    </tr>\n",
       "    <tr>\n",
       "      <th>3</th>\n",
       "      <td>offer received</td>\n",
       "      <td>8ec6ce2a7e7949b1bf142def7d0e0586</td>\n",
       "      <td>0</td>\n",
       "      <td>{'offer id': 'fafdcd668e3743c1bb461111dcafc2a4'}</td>\n",
       "      <td>NaN</td>\n",
       "      <td>fafdcd668e3743c1bb461111dcafc2a4</td>\n",
       "      <td>[web, email, mobile, social]</td>\n",
       "      <td>10.0</td>\n",
       "      <td>10.0</td>\n",
       "      <td>discount</td>\n",
       "    </tr>\n",
       "    <tr>\n",
       "      <th>4</th>\n",
       "      <td>offer received</td>\n",
       "      <td>68617ca6246f4fbc85e91a2a49552598</td>\n",
       "      <td>0</td>\n",
       "      <td>{'offer id': '4d5c57ea9a6940dd891ad53e9dbe8da0'}</td>\n",
       "      <td>NaN</td>\n",
       "      <td>4d5c57ea9a6940dd891ad53e9dbe8da0</td>\n",
       "      <td>[web, email, mobile, social]</td>\n",
       "      <td>10.0</td>\n",
       "      <td>5.0</td>\n",
       "      <td>bogo</td>\n",
       "    </tr>\n",
       "  </tbody>\n",
       "</table>\n",
       "</div>"
      ],
      "text/plain": [
       "            event                            person  time  \\\n",
       "0  offer received  78afa995795e4d85b5d9ceeca43f5fef     0   \n",
       "1  offer received  a03223e636434f42ac4c3df47e8bac43     0   \n",
       "2  offer received  e2127556f4f64592b11af22de27a7932     0   \n",
       "3  offer received  8ec6ce2a7e7949b1bf142def7d0e0586     0   \n",
       "4  offer received  68617ca6246f4fbc85e91a2a49552598     0   \n",
       "\n",
       "                                              value  amount  \\\n",
       "0  {'offer id': '9b98b8c7a33c4b65b9aebfe6a799e6d9'}     NaN   \n",
       "1  {'offer id': '0b1e1539f2cc45b7b9fa7c272da2e1d7'}     NaN   \n",
       "2  {'offer id': '2906b810c7d4411798c6938adc9daaa5'}     NaN   \n",
       "3  {'offer id': 'fafdcd668e3743c1bb461111dcafc2a4'}     NaN   \n",
       "4  {'offer id': '4d5c57ea9a6940dd891ad53e9dbe8da0'}     NaN   \n",
       "\n",
       "                           offer_id                      channels  difficulty  \\\n",
       "0  9b98b8c7a33c4b65b9aebfe6a799e6d9          [web, email, mobile]         5.0   \n",
       "1  0b1e1539f2cc45b7b9fa7c272da2e1d7                  [web, email]        20.0   \n",
       "2  2906b810c7d4411798c6938adc9daaa5          [web, email, mobile]        10.0   \n",
       "3  fafdcd668e3743c1bb461111dcafc2a4  [web, email, mobile, social]        10.0   \n",
       "4  4d5c57ea9a6940dd891ad53e9dbe8da0  [web, email, mobile, social]        10.0   \n",
       "\n",
       "   duration offer_type  \n",
       "0       7.0       bogo  \n",
       "1      10.0   discount  \n",
       "2       7.0   discount  \n",
       "3      10.0   discount  \n",
       "4       5.0       bogo  "
      ]
     },
     "execution_count": 8,
     "metadata": {},
     "output_type": "execute_result"
    }
   ],
   "source": [
    "# Will drop un-neccessary columns of left join reward columns from transcript_desc dataset\n",
    "transcript_desc = pd.DataFrame(trans_port)\n",
    "\n",
    "transcript_desc = transcript_desc.drop(columns = ['reward_x','reward_y'],axis = 1, inplace = False)\n",
    "transcript_desc.head()"
   ]
  },
  {
   "cell_type": "code",
   "execution_count": 9,
   "metadata": {},
   "outputs": [
    {
     "data": {
      "text/html": [
       "<div>\n",
       "<style scoped>\n",
       "    .dataframe tbody tr th:only-of-type {\n",
       "        vertical-align: middle;\n",
       "    }\n",
       "\n",
       "    .dataframe tbody tr th {\n",
       "        vertical-align: top;\n",
       "    }\n",
       "\n",
       "    .dataframe thead th {\n",
       "        text-align: right;\n",
       "    }\n",
       "</style>\n",
       "<table border=\"1\" class=\"dataframe\">\n",
       "  <thead>\n",
       "    <tr style=\"text-align: right;\">\n",
       "      <th></th>\n",
       "      <th>event</th>\n",
       "      <th>person</th>\n",
       "      <th>time</th>\n",
       "      <th>value</th>\n",
       "      <th>amount</th>\n",
       "      <th>offer_id</th>\n",
       "      <th>channels</th>\n",
       "      <th>difficulty</th>\n",
       "      <th>duration</th>\n",
       "      <th>offer_type</th>\n",
       "    </tr>\n",
       "  </thead>\n",
       "  <tbody>\n",
       "    <tr>\n",
       "      <th>55972</th>\n",
       "      <td>offer received</td>\n",
       "      <td>0009655768c64bdeb2e877511632db8f</td>\n",
       "      <td>168</td>\n",
       "      <td>{'offer id': '5a8bc65990b245e5a138643cd4eb9837'}</td>\n",
       "      <td>NaN</td>\n",
       "      <td>5a8bc65990b245e5a138643cd4eb9837</td>\n",
       "      <td>[email, mobile, social]</td>\n",
       "      <td>0.0</td>\n",
       "      <td>3.0</td>\n",
       "      <td>informational</td>\n",
       "    </tr>\n",
       "    <tr>\n",
       "      <th>77705</th>\n",
       "      <td>offer viewed</td>\n",
       "      <td>0009655768c64bdeb2e877511632db8f</td>\n",
       "      <td>192</td>\n",
       "      <td>{'offer id': '5a8bc65990b245e5a138643cd4eb9837'}</td>\n",
       "      <td>NaN</td>\n",
       "      <td>5a8bc65990b245e5a138643cd4eb9837</td>\n",
       "      <td>[email, mobile, social]</td>\n",
       "      <td>0.0</td>\n",
       "      <td>3.0</td>\n",
       "      <td>informational</td>\n",
       "    </tr>\n",
       "    <tr>\n",
       "      <th>89291</th>\n",
       "      <td>transaction</td>\n",
       "      <td>0009655768c64bdeb2e877511632db8f</td>\n",
       "      <td>228</td>\n",
       "      <td>{'amount': 22.16}</td>\n",
       "      <td>22.16</td>\n",
       "      <td>NaN</td>\n",
       "      <td>NaN</td>\n",
       "      <td>NaN</td>\n",
       "      <td>NaN</td>\n",
       "      <td>NaN</td>\n",
       "    </tr>\n",
       "    <tr>\n",
       "      <th>113605</th>\n",
       "      <td>offer received</td>\n",
       "      <td>0009655768c64bdeb2e877511632db8f</td>\n",
       "      <td>336</td>\n",
       "      <td>{'offer id': '3f207df678b143eea3cee63160fa8bed'}</td>\n",
       "      <td>NaN</td>\n",
       "      <td>3f207df678b143eea3cee63160fa8bed</td>\n",
       "      <td>[web, email, mobile]</td>\n",
       "      <td>0.0</td>\n",
       "      <td>4.0</td>\n",
       "      <td>informational</td>\n",
       "    </tr>\n",
       "    <tr>\n",
       "      <th>139992</th>\n",
       "      <td>offer viewed</td>\n",
       "      <td>0009655768c64bdeb2e877511632db8f</td>\n",
       "      <td>372</td>\n",
       "      <td>{'offer id': '3f207df678b143eea3cee63160fa8bed'}</td>\n",
       "      <td>NaN</td>\n",
       "      <td>3f207df678b143eea3cee63160fa8bed</td>\n",
       "      <td>[web, email, mobile]</td>\n",
       "      <td>0.0</td>\n",
       "      <td>4.0</td>\n",
       "      <td>informational</td>\n",
       "    </tr>\n",
       "  </tbody>\n",
       "</table>\n",
       "</div>"
      ],
      "text/plain": [
       "                 event                            person  time  \\\n",
       "55972   offer received  0009655768c64bdeb2e877511632db8f   168   \n",
       "77705     offer viewed  0009655768c64bdeb2e877511632db8f   192   \n",
       "89291      transaction  0009655768c64bdeb2e877511632db8f   228   \n",
       "113605  offer received  0009655768c64bdeb2e877511632db8f   336   \n",
       "139992    offer viewed  0009655768c64bdeb2e877511632db8f   372   \n",
       "\n",
       "                                                   value  amount  \\\n",
       "55972   {'offer id': '5a8bc65990b245e5a138643cd4eb9837'}     NaN   \n",
       "77705   {'offer id': '5a8bc65990b245e5a138643cd4eb9837'}     NaN   \n",
       "89291                                  {'amount': 22.16}   22.16   \n",
       "113605  {'offer id': '3f207df678b143eea3cee63160fa8bed'}     NaN   \n",
       "139992  {'offer id': '3f207df678b143eea3cee63160fa8bed'}     NaN   \n",
       "\n",
       "                                offer_id                 channels  difficulty  \\\n",
       "55972   5a8bc65990b245e5a138643cd4eb9837  [email, mobile, social]         0.0   \n",
       "77705   5a8bc65990b245e5a138643cd4eb9837  [email, mobile, social]         0.0   \n",
       "89291                                NaN                      NaN         NaN   \n",
       "113605  3f207df678b143eea3cee63160fa8bed     [web, email, mobile]         0.0   \n",
       "139992  3f207df678b143eea3cee63160fa8bed     [web, email, mobile]         0.0   \n",
       "\n",
       "        duration     offer_type  \n",
       "55972        3.0  informational  \n",
       "77705        3.0  informational  \n",
       "89291        NaN            NaN  \n",
       "113605       4.0  informational  \n",
       "139992       4.0  informational  "
      ]
     },
     "execution_count": 9,
     "metadata": {},
     "output_type": "execute_result"
    }
   ],
   "source": [
    "transcript_desc = transcript_desc.sort_values(['person','time'])\n",
    "transcript_desc.head()"
   ]
  },
  {
   "cell_type": "code",
   "execution_count": 10,
   "metadata": {},
   "outputs": [
    {
     "data": {
      "text/html": [
       "<div>\n",
       "<style scoped>\n",
       "    .dataframe tbody tr th:only-of-type {\n",
       "        vertical-align: middle;\n",
       "    }\n",
       "\n",
       "    .dataframe tbody tr th {\n",
       "        vertical-align: top;\n",
       "    }\n",
       "\n",
       "    .dataframe thead th {\n",
       "        text-align: right;\n",
       "    }\n",
       "</style>\n",
       "<table border=\"1\" class=\"dataframe\">\n",
       "  <thead>\n",
       "    <tr style=\"text-align: right;\">\n",
       "      <th></th>\n",
       "      <th>time</th>\n",
       "      <th>offer_id</th>\n",
       "      <th>person</th>\n",
       "      <th>event</th>\n",
       "    </tr>\n",
       "  </thead>\n",
       "  <tbody>\n",
       "    <tr>\n",
       "      <th>77705</th>\n",
       "      <td>192</td>\n",
       "      <td>5a8bc65990b245e5a138643cd4eb9837</td>\n",
       "      <td>0009655768c64bdeb2e877511632db8f</td>\n",
       "      <td>offer viewed</td>\n",
       "    </tr>\n",
       "    <tr>\n",
       "      <th>89291</th>\n",
       "      <td>228</td>\n",
       "      <td>NaN</td>\n",
       "      <td>0009655768c64bdeb2e877511632db8f</td>\n",
       "      <td>transaction</td>\n",
       "    </tr>\n",
       "    <tr>\n",
       "      <th>139992</th>\n",
       "      <td>372</td>\n",
       "      <td>3f207df678b143eea3cee63160fa8bed</td>\n",
       "      <td>0009655768c64bdeb2e877511632db8f</td>\n",
       "      <td>offer viewed</td>\n",
       "    </tr>\n",
       "    <tr>\n",
       "      <th>168412</th>\n",
       "      <td>414</td>\n",
       "      <td>NaN</td>\n",
       "      <td>0009655768c64bdeb2e877511632db8f</td>\n",
       "      <td>transaction</td>\n",
       "    </tr>\n",
       "    <tr>\n",
       "      <th>187554</th>\n",
       "      <td>456</td>\n",
       "      <td>f19421c1d4aa40978ebb69ca19b0e20d</td>\n",
       "      <td>0009655768c64bdeb2e877511632db8f</td>\n",
       "      <td>offer viewed</td>\n",
       "    </tr>\n",
       "    <tr>\n",
       "      <th>228422</th>\n",
       "      <td>528</td>\n",
       "      <td>NaN</td>\n",
       "      <td>0009655768c64bdeb2e877511632db8f</td>\n",
       "      <td>transaction</td>\n",
       "    </tr>\n",
       "    <tr>\n",
       "      <th>233413</th>\n",
       "      <td>540</td>\n",
       "      <td>fafdcd668e3743c1bb461111dcafc2a4</td>\n",
       "      <td>0009655768c64bdeb2e877511632db8f</td>\n",
       "      <td>offer viewed</td>\n",
       "    </tr>\n",
       "    <tr>\n",
       "      <th>237784</th>\n",
       "      <td>552</td>\n",
       "      <td>NaN</td>\n",
       "      <td>0009655768c64bdeb2e877511632db8f</td>\n",
       "      <td>transaction</td>\n",
       "    </tr>\n",
       "    <tr>\n",
       "      <th>258883</th>\n",
       "      <td>576</td>\n",
       "      <td>NaN</td>\n",
       "      <td>0009655768c64bdeb2e877511632db8f</td>\n",
       "      <td>transaction</td>\n",
       "    </tr>\n",
       "    <tr>\n",
       "      <th>293497</th>\n",
       "      <td>660</td>\n",
       "      <td>NaN</td>\n",
       "      <td>0009655768c64bdeb2e877511632db8f</td>\n",
       "      <td>transaction</td>\n",
       "    </tr>\n",
       "  </tbody>\n",
       "</table>\n",
       "</div>"
      ],
      "text/plain": [
       "        time                          offer_id  \\\n",
       "77705    192  5a8bc65990b245e5a138643cd4eb9837   \n",
       "89291    228                               NaN   \n",
       "139992   372  3f207df678b143eea3cee63160fa8bed   \n",
       "168412   414                               NaN   \n",
       "187554   456  f19421c1d4aa40978ebb69ca19b0e20d   \n",
       "228422   528                               NaN   \n",
       "233413   540  fafdcd668e3743c1bb461111dcafc2a4   \n",
       "237784   552                               NaN   \n",
       "258883   576                               NaN   \n",
       "293497   660                               NaN   \n",
       "\n",
       "                                  person         event  \n",
       "77705   0009655768c64bdeb2e877511632db8f  offer viewed  \n",
       "89291   0009655768c64bdeb2e877511632db8f   transaction  \n",
       "139992  0009655768c64bdeb2e877511632db8f  offer viewed  \n",
       "168412  0009655768c64bdeb2e877511632db8f   transaction  \n",
       "187554  0009655768c64bdeb2e877511632db8f  offer viewed  \n",
       "228422  0009655768c64bdeb2e877511632db8f   transaction  \n",
       "233413  0009655768c64bdeb2e877511632db8f  offer viewed  \n",
       "237784  0009655768c64bdeb2e877511632db8f   transaction  \n",
       "258883  0009655768c64bdeb2e877511632db8f   transaction  \n",
       "293497  0009655768c64bdeb2e877511632db8f   transaction  "
      ]
     },
     "execution_count": 10,
     "metadata": {},
     "output_type": "execute_result"
    }
   ],
   "source": [
    "# filter dataset for transactions that occur after an offer is viewed, forward fill offer ids by person\n",
    "offer_completed = transcript_desc[['time','offer_id','person','event']]\\\n",
    "[(transcript_desc['event'] == 'transaction')|(transcript_desc['event'] == 'offer viewed')]\n",
    "offer_completed.head(10)"
   ]
  },
  {
   "cell_type": "code",
   "execution_count": 11,
   "metadata": {},
   "outputs": [
    {
     "data": {
      "text/html": [
       "<div>\n",
       "<style scoped>\n",
       "    .dataframe tbody tr th:only-of-type {\n",
       "        vertical-align: middle;\n",
       "    }\n",
       "\n",
       "    .dataframe tbody tr th {\n",
       "        vertical-align: top;\n",
       "    }\n",
       "\n",
       "    .dataframe thead th {\n",
       "        text-align: right;\n",
       "    }\n",
       "</style>\n",
       "<table border=\"1\" class=\"dataframe\">\n",
       "  <thead>\n",
       "    <tr style=\"text-align: right;\">\n",
       "      <th></th>\n",
       "      <th>time</th>\n",
       "      <th>offer_id</th>\n",
       "      <th>person</th>\n",
       "      <th>event</th>\n",
       "    </tr>\n",
       "  </thead>\n",
       "  <tbody>\n",
       "    <tr>\n",
       "      <th>77705</th>\n",
       "      <td>192</td>\n",
       "      <td>5a8bc65990b245e5a138643cd4eb9837</td>\n",
       "      <td>0009655768c64bdeb2e877511632db8f</td>\n",
       "      <td>offer viewed</td>\n",
       "    </tr>\n",
       "    <tr>\n",
       "      <th>89291</th>\n",
       "      <td>228</td>\n",
       "      <td>5a8bc65990b245e5a138643cd4eb9837</td>\n",
       "      <td>0009655768c64bdeb2e877511632db8f</td>\n",
       "      <td>transaction</td>\n",
       "    </tr>\n",
       "    <tr>\n",
       "      <th>139992</th>\n",
       "      <td>372</td>\n",
       "      <td>3f207df678b143eea3cee63160fa8bed</td>\n",
       "      <td>0009655768c64bdeb2e877511632db8f</td>\n",
       "      <td>offer viewed</td>\n",
       "    </tr>\n",
       "    <tr>\n",
       "      <th>168412</th>\n",
       "      <td>414</td>\n",
       "      <td>3f207df678b143eea3cee63160fa8bed</td>\n",
       "      <td>0009655768c64bdeb2e877511632db8f</td>\n",
       "      <td>transaction</td>\n",
       "    </tr>\n",
       "    <tr>\n",
       "      <th>187554</th>\n",
       "      <td>456</td>\n",
       "      <td>f19421c1d4aa40978ebb69ca19b0e20d</td>\n",
       "      <td>0009655768c64bdeb2e877511632db8f</td>\n",
       "      <td>offer viewed</td>\n",
       "    </tr>\n",
       "  </tbody>\n",
       "</table>\n",
       "</div>"
      ],
      "text/plain": [
       "        time                          offer_id  \\\n",
       "77705    192  5a8bc65990b245e5a138643cd4eb9837   \n",
       "89291    228  5a8bc65990b245e5a138643cd4eb9837   \n",
       "139992   372  3f207df678b143eea3cee63160fa8bed   \n",
       "168412   414  3f207df678b143eea3cee63160fa8bed   \n",
       "187554   456  f19421c1d4aa40978ebb69ca19b0e20d   \n",
       "\n",
       "                                  person         event  \n",
       "77705   0009655768c64bdeb2e877511632db8f  offer viewed  \n",
       "89291   0009655768c64bdeb2e877511632db8f   transaction  \n",
       "139992  0009655768c64bdeb2e877511632db8f  offer viewed  \n",
       "168412  0009655768c64bdeb2e877511632db8f   transaction  \n",
       "187554  0009655768c64bdeb2e877511632db8f  offer viewed  "
      ]
     },
     "execution_count": 11,
     "metadata": {},
     "output_type": "execute_result"
    }
   ],
   "source": [
    "offer_completed.update(offer_completed.groupby(['person']).ffill())\n",
    "offer_completed.head(5)"
   ]
  },
  {
   "cell_type": "code",
   "execution_count": 12,
   "metadata": {},
   "outputs": [
    {
     "data": {
      "text/html": [
       "<div>\n",
       "<style scoped>\n",
       "    .dataframe tbody tr th:only-of-type {\n",
       "        vertical-align: middle;\n",
       "    }\n",
       "\n",
       "    .dataframe tbody tr th {\n",
       "        vertical-align: top;\n",
       "    }\n",
       "\n",
       "    .dataframe thead th {\n",
       "        text-align: right;\n",
       "    }\n",
       "</style>\n",
       "<table border=\"1\" class=\"dataframe\">\n",
       "  <thead>\n",
       "    <tr style=\"text-align: right;\">\n",
       "      <th></th>\n",
       "      <th>time</th>\n",
       "      <th>offer_id</th>\n",
       "      <th>person</th>\n",
       "      <th>event</th>\n",
       "    </tr>\n",
       "  </thead>\n",
       "  <tbody>\n",
       "    <tr>\n",
       "      <th>77705</th>\n",
       "      <td>192</td>\n",
       "      <td>5a8bc65990b245e5a138643cd4eb9837</td>\n",
       "      <td>0009655768c64bdeb2e877511632db8f</td>\n",
       "      <td>offer viewed</td>\n",
       "    </tr>\n",
       "    <tr>\n",
       "      <th>89291</th>\n",
       "      <td>228</td>\n",
       "      <td>5a8bc65990b245e5a138643cd4eb9837</td>\n",
       "      <td>0009655768c64bdeb2e877511632db8f</td>\n",
       "      <td>transaction</td>\n",
       "    </tr>\n",
       "    <tr>\n",
       "      <th>139992</th>\n",
       "      <td>372</td>\n",
       "      <td>3f207df678b143eea3cee63160fa8bed</td>\n",
       "      <td>0009655768c64bdeb2e877511632db8f</td>\n",
       "      <td>offer viewed</td>\n",
       "    </tr>\n",
       "    <tr>\n",
       "      <th>168412</th>\n",
       "      <td>414</td>\n",
       "      <td>3f207df678b143eea3cee63160fa8bed</td>\n",
       "      <td>0009655768c64bdeb2e877511632db8f</td>\n",
       "      <td>transaction</td>\n",
       "    </tr>\n",
       "    <tr>\n",
       "      <th>187554</th>\n",
       "      <td>456</td>\n",
       "      <td>f19421c1d4aa40978ebb69ca19b0e20d</td>\n",
       "      <td>0009655768c64bdeb2e877511632db8f</td>\n",
       "      <td>offer viewed</td>\n",
       "    </tr>\n",
       "  </tbody>\n",
       "</table>\n",
       "</div>"
      ],
      "text/plain": [
       "        time                          offer_id  \\\n",
       "77705    192  5a8bc65990b245e5a138643cd4eb9837   \n",
       "89291    228  5a8bc65990b245e5a138643cd4eb9837   \n",
       "139992   372  3f207df678b143eea3cee63160fa8bed   \n",
       "168412   414  3f207df678b143eea3cee63160fa8bed   \n",
       "187554   456  f19421c1d4aa40978ebb69ca19b0e20d   \n",
       "\n",
       "                                  person         event  \n",
       "77705   0009655768c64bdeb2e877511632db8f  offer viewed  \n",
       "89291   0009655768c64bdeb2e877511632db8f   transaction  \n",
       "139992  0009655768c64bdeb2e877511632db8f  offer viewed  \n",
       "168412  0009655768c64bdeb2e877511632db8f   transaction  \n",
       "187554  0009655768c64bdeb2e877511632db8f  offer viewed  "
      ]
     },
     "execution_count": 12,
     "metadata": {},
     "output_type": "execute_result"
    }
   ],
   "source": [
    "offer_completed['offer_id'] = offer_completed['offer_id'].ffill()\n",
    "offer_completed.head(5)"
   ]
  },
  {
   "cell_type": "code",
   "execution_count": 13,
   "metadata": {},
   "outputs": [
    {
     "data": {
      "text/html": [
       "<div>\n",
       "<style scoped>\n",
       "    .dataframe tbody tr th:only-of-type {\n",
       "        vertical-align: middle;\n",
       "    }\n",
       "\n",
       "    .dataframe tbody tr th {\n",
       "        vertical-align: top;\n",
       "    }\n",
       "\n",
       "    .dataframe thead th {\n",
       "        text-align: right;\n",
       "    }\n",
       "</style>\n",
       "<table border=\"1\" class=\"dataframe\">\n",
       "  <thead>\n",
       "    <tr style=\"text-align: right;\">\n",
       "      <th></th>\n",
       "      <th>event</th>\n",
       "      <th>person</th>\n",
       "      <th>time</th>\n",
       "      <th>value</th>\n",
       "      <th>amount</th>\n",
       "      <th>offer_id_x</th>\n",
       "      <th>channels</th>\n",
       "      <th>difficulty</th>\n",
       "      <th>duration</th>\n",
       "      <th>offer_type</th>\n",
       "      <th>offer_id_y</th>\n",
       "    </tr>\n",
       "  </thead>\n",
       "  <tbody>\n",
       "    <tr>\n",
       "      <th>0</th>\n",
       "      <td>offer received</td>\n",
       "      <td>0009655768c64bdeb2e877511632db8f</td>\n",
       "      <td>168</td>\n",
       "      <td>{'offer id': '5a8bc65990b245e5a138643cd4eb9837'}</td>\n",
       "      <td>NaN</td>\n",
       "      <td>5a8bc65990b245e5a138643cd4eb9837</td>\n",
       "      <td>[email, mobile, social]</td>\n",
       "      <td>0.0</td>\n",
       "      <td>3.0</td>\n",
       "      <td>informational</td>\n",
       "      <td>NaN</td>\n",
       "    </tr>\n",
       "    <tr>\n",
       "      <th>1</th>\n",
       "      <td>offer viewed</td>\n",
       "      <td>0009655768c64bdeb2e877511632db8f</td>\n",
       "      <td>192</td>\n",
       "      <td>{'offer id': '5a8bc65990b245e5a138643cd4eb9837'}</td>\n",
       "      <td>NaN</td>\n",
       "      <td>5a8bc65990b245e5a138643cd4eb9837</td>\n",
       "      <td>[email, mobile, social]</td>\n",
       "      <td>0.0</td>\n",
       "      <td>3.0</td>\n",
       "      <td>informational</td>\n",
       "      <td>5a8bc65990b245e5a138643cd4eb9837</td>\n",
       "    </tr>\n",
       "    <tr>\n",
       "      <th>2</th>\n",
       "      <td>transaction</td>\n",
       "      <td>0009655768c64bdeb2e877511632db8f</td>\n",
       "      <td>228</td>\n",
       "      <td>{'amount': 22.16}</td>\n",
       "      <td>22.16</td>\n",
       "      <td>NaN</td>\n",
       "      <td>NaN</td>\n",
       "      <td>NaN</td>\n",
       "      <td>NaN</td>\n",
       "      <td>NaN</td>\n",
       "      <td>5a8bc65990b245e5a138643cd4eb9837</td>\n",
       "    </tr>\n",
       "    <tr>\n",
       "      <th>3</th>\n",
       "      <td>offer received</td>\n",
       "      <td>0009655768c64bdeb2e877511632db8f</td>\n",
       "      <td>336</td>\n",
       "      <td>{'offer id': '3f207df678b143eea3cee63160fa8bed'}</td>\n",
       "      <td>NaN</td>\n",
       "      <td>3f207df678b143eea3cee63160fa8bed</td>\n",
       "      <td>[web, email, mobile]</td>\n",
       "      <td>0.0</td>\n",
       "      <td>4.0</td>\n",
       "      <td>informational</td>\n",
       "      <td>NaN</td>\n",
       "    </tr>\n",
       "    <tr>\n",
       "      <th>4</th>\n",
       "      <td>offer viewed</td>\n",
       "      <td>0009655768c64bdeb2e877511632db8f</td>\n",
       "      <td>372</td>\n",
       "      <td>{'offer id': '3f207df678b143eea3cee63160fa8bed'}</td>\n",
       "      <td>NaN</td>\n",
       "      <td>3f207df678b143eea3cee63160fa8bed</td>\n",
       "      <td>[web, email, mobile]</td>\n",
       "      <td>0.0</td>\n",
       "      <td>4.0</td>\n",
       "      <td>informational</td>\n",
       "      <td>3f207df678b143eea3cee63160fa8bed</td>\n",
       "    </tr>\n",
       "  </tbody>\n",
       "</table>\n",
       "</div>"
      ],
      "text/plain": [
       "            event                            person  time  \\\n",
       "0  offer received  0009655768c64bdeb2e877511632db8f   168   \n",
       "1    offer viewed  0009655768c64bdeb2e877511632db8f   192   \n",
       "2     transaction  0009655768c64bdeb2e877511632db8f   228   \n",
       "3  offer received  0009655768c64bdeb2e877511632db8f   336   \n",
       "4    offer viewed  0009655768c64bdeb2e877511632db8f   372   \n",
       "\n",
       "                                              value  amount  \\\n",
       "0  {'offer id': '5a8bc65990b245e5a138643cd4eb9837'}     NaN   \n",
       "1  {'offer id': '5a8bc65990b245e5a138643cd4eb9837'}     NaN   \n",
       "2                                 {'amount': 22.16}   22.16   \n",
       "3  {'offer id': '3f207df678b143eea3cee63160fa8bed'}     NaN   \n",
       "4  {'offer id': '3f207df678b143eea3cee63160fa8bed'}     NaN   \n",
       "\n",
       "                         offer_id_x                 channels  difficulty  \\\n",
       "0  5a8bc65990b245e5a138643cd4eb9837  [email, mobile, social]         0.0   \n",
       "1  5a8bc65990b245e5a138643cd4eb9837  [email, mobile, social]         0.0   \n",
       "2                               NaN                      NaN         NaN   \n",
       "3  3f207df678b143eea3cee63160fa8bed     [web, email, mobile]         0.0   \n",
       "4  3f207df678b143eea3cee63160fa8bed     [web, email, mobile]         0.0   \n",
       "\n",
       "   duration     offer_type                        offer_id_y  \n",
       "0       3.0  informational                               NaN  \n",
       "1       3.0  informational  5a8bc65990b245e5a138643cd4eb9837  \n",
       "2       NaN            NaN  5a8bc65990b245e5a138643cd4eb9837  \n",
       "3       4.0  informational                               NaN  \n",
       "4       4.0  informational  3f207df678b143eea3cee63160fa8bed  "
      ]
     },
     "execution_count": 13,
     "metadata": {},
     "output_type": "execute_result"
    }
   ],
   "source": [
    "# Now we have ffill values for trandaction and offer viewed let apply complete subset to transacript_desc dataset\n",
    "transcript_desc = transcript_desc.merge(offer_completed,how = 'left',on = ['person','time','event'])\n",
    "transcript_desc.head()"
   ]
  },
  {
   "cell_type": "markdown",
   "metadata": {},
   "source": [
    " We almost got updated all offer id's with keen let make them into single offer_id attribute"
   ]
  },
  {
   "cell_type": "code",
   "execution_count": 14,
   "metadata": {},
   "outputs": [],
   "source": [
    "# Update offer_id details to transcript_Desc dataframe\n",
    "transcript_desc['offer_id'] = np.where(transcript_desc['offer_id_x'].isnull(),transcript_desc['offer_id_y'],transcript_desc['offer_id_x'])"
   ]
  },
  {
   "cell_type": "code",
   "execution_count": 15,
   "metadata": {},
   "outputs": [
    {
     "data": {
      "text/html": [
       "<div>\n",
       "<style scoped>\n",
       "    .dataframe tbody tr th:only-of-type {\n",
       "        vertical-align: middle;\n",
       "    }\n",
       "\n",
       "    .dataframe tbody tr th {\n",
       "        vertical-align: top;\n",
       "    }\n",
       "\n",
       "    .dataframe thead th {\n",
       "        text-align: right;\n",
       "    }\n",
       "</style>\n",
       "<table border=\"1\" class=\"dataframe\">\n",
       "  <thead>\n",
       "    <tr style=\"text-align: right;\">\n",
       "      <th></th>\n",
       "      <th>event</th>\n",
       "      <th>person</th>\n",
       "      <th>time</th>\n",
       "      <th>value</th>\n",
       "      <th>amount</th>\n",
       "      <th>channels</th>\n",
       "      <th>difficulty</th>\n",
       "      <th>duration</th>\n",
       "      <th>offer_type</th>\n",
       "      <th>offer_id</th>\n",
       "    </tr>\n",
       "  </thead>\n",
       "  <tbody>\n",
       "    <tr>\n",
       "      <th>0</th>\n",
       "      <td>offer received</td>\n",
       "      <td>0009655768c64bdeb2e877511632db8f</td>\n",
       "      <td>168</td>\n",
       "      <td>{'offer id': '5a8bc65990b245e5a138643cd4eb9837'}</td>\n",
       "      <td>NaN</td>\n",
       "      <td>[email, mobile, social]</td>\n",
       "      <td>0.0</td>\n",
       "      <td>3.0</td>\n",
       "      <td>informational</td>\n",
       "      <td>5a8bc65990b245e5a138643cd4eb9837</td>\n",
       "    </tr>\n",
       "    <tr>\n",
       "      <th>1</th>\n",
       "      <td>offer viewed</td>\n",
       "      <td>0009655768c64bdeb2e877511632db8f</td>\n",
       "      <td>192</td>\n",
       "      <td>{'offer id': '5a8bc65990b245e5a138643cd4eb9837'}</td>\n",
       "      <td>NaN</td>\n",
       "      <td>[email, mobile, social]</td>\n",
       "      <td>0.0</td>\n",
       "      <td>3.0</td>\n",
       "      <td>informational</td>\n",
       "      <td>5a8bc65990b245e5a138643cd4eb9837</td>\n",
       "    </tr>\n",
       "    <tr>\n",
       "      <th>2</th>\n",
       "      <td>transaction</td>\n",
       "      <td>0009655768c64bdeb2e877511632db8f</td>\n",
       "      <td>228</td>\n",
       "      <td>{'amount': 22.16}</td>\n",
       "      <td>22.16</td>\n",
       "      <td>NaN</td>\n",
       "      <td>NaN</td>\n",
       "      <td>NaN</td>\n",
       "      <td>NaN</td>\n",
       "      <td>5a8bc65990b245e5a138643cd4eb9837</td>\n",
       "    </tr>\n",
       "    <tr>\n",
       "      <th>3</th>\n",
       "      <td>offer received</td>\n",
       "      <td>0009655768c64bdeb2e877511632db8f</td>\n",
       "      <td>336</td>\n",
       "      <td>{'offer id': '3f207df678b143eea3cee63160fa8bed'}</td>\n",
       "      <td>NaN</td>\n",
       "      <td>[web, email, mobile]</td>\n",
       "      <td>0.0</td>\n",
       "      <td>4.0</td>\n",
       "      <td>informational</td>\n",
       "      <td>3f207df678b143eea3cee63160fa8bed</td>\n",
       "    </tr>\n",
       "    <tr>\n",
       "      <th>4</th>\n",
       "      <td>offer viewed</td>\n",
       "      <td>0009655768c64bdeb2e877511632db8f</td>\n",
       "      <td>372</td>\n",
       "      <td>{'offer id': '3f207df678b143eea3cee63160fa8bed'}</td>\n",
       "      <td>NaN</td>\n",
       "      <td>[web, email, mobile]</td>\n",
       "      <td>0.0</td>\n",
       "      <td>4.0</td>\n",
       "      <td>informational</td>\n",
       "      <td>3f207df678b143eea3cee63160fa8bed</td>\n",
       "    </tr>\n",
       "  </tbody>\n",
       "</table>\n",
       "</div>"
      ],
      "text/plain": [
       "            event                            person  time  \\\n",
       "0  offer received  0009655768c64bdeb2e877511632db8f   168   \n",
       "1    offer viewed  0009655768c64bdeb2e877511632db8f   192   \n",
       "2     transaction  0009655768c64bdeb2e877511632db8f   228   \n",
       "3  offer received  0009655768c64bdeb2e877511632db8f   336   \n",
       "4    offer viewed  0009655768c64bdeb2e877511632db8f   372   \n",
       "\n",
       "                                              value  amount  \\\n",
       "0  {'offer id': '5a8bc65990b245e5a138643cd4eb9837'}     NaN   \n",
       "1  {'offer id': '5a8bc65990b245e5a138643cd4eb9837'}     NaN   \n",
       "2                                 {'amount': 22.16}   22.16   \n",
       "3  {'offer id': '3f207df678b143eea3cee63160fa8bed'}     NaN   \n",
       "4  {'offer id': '3f207df678b143eea3cee63160fa8bed'}     NaN   \n",
       "\n",
       "                  channels  difficulty  duration     offer_type  \\\n",
       "0  [email, mobile, social]         0.0       3.0  informational   \n",
       "1  [email, mobile, social]         0.0       3.0  informational   \n",
       "2                      NaN         NaN       NaN            NaN   \n",
       "3     [web, email, mobile]         0.0       4.0  informational   \n",
       "4     [web, email, mobile]         0.0       4.0  informational   \n",
       "\n",
       "                           offer_id  \n",
       "0  5a8bc65990b245e5a138643cd4eb9837  \n",
       "1  5a8bc65990b245e5a138643cd4eb9837  \n",
       "2  5a8bc65990b245e5a138643cd4eb9837  \n",
       "3  3f207df678b143eea3cee63160fa8bed  \n",
       "4  3f207df678b143eea3cee63160fa8bed  "
      ]
     },
     "execution_count": 15,
     "metadata": {},
     "output_type": "execute_result"
    }
   ],
   "source": [
    "# Drop un neccessary columns of left join offer_id columns\n",
    "transcript_desc.drop(columns = ['offer_id_x','offer_id_y'],axis = 1,inplace = True)\n",
    "transcript_desc.head()"
   ]
  },
  {
   "cell_type": "code",
   "execution_count": 16,
   "metadata": {},
   "outputs": [],
   "source": [
    "# we need to identify the data with particular offer_type, let just merge with portfolio to get those details into the dataset\n",
    "transcript_desc = transcript_desc.merge(portfolio,how = 'left',on = 'offer_id')\n",
    "\n",
    "transcript_desc['duration'] = np.where(transcript_desc['duration_x'].isnull(),\\\n",
    "                                       transcript_desc['duration_y'],transcript_desc['duration_x'])\n",
    "# Removing all un neccessary columns from here\n",
    "transcript_desc.drop(columns = ['duration_x',\n",
    "                                'offer_type_x',\n",
    "                                'difficulty_x',\n",
    "                                'channels_x',\n",
    "                                'duration_y'],axis = 1, inplace = True)\n",
    "\n",
    "transcript_desc.rename(columns = {'channels_y':'channels',\n",
    "                                  'reward_y':'reward',\n",
    "                                  'difficulty_y':'difficulty',\n",
    "                                  'offer_type_y':'offer_type'},inplace = True)"
   ]
  },
  {
   "cell_type": "code",
   "execution_count": 30,
   "metadata": {},
   "outputs": [
    {
     "data": {
      "text/html": [
       "<div>\n",
       "<style scoped>\n",
       "    .dataframe tbody tr th:only-of-type {\n",
       "        vertical-align: middle;\n",
       "    }\n",
       "\n",
       "    .dataframe tbody tr th {\n",
       "        vertical-align: top;\n",
       "    }\n",
       "\n",
       "    .dataframe thead th {\n",
       "        text-align: right;\n",
       "    }\n",
       "</style>\n",
       "<table border=\"1\" class=\"dataframe\">\n",
       "  <thead>\n",
       "    <tr style=\"text-align: right;\">\n",
       "      <th></th>\n",
       "      <th>event</th>\n",
       "      <th>person</th>\n",
       "      <th>time</th>\n",
       "      <th>value</th>\n",
       "      <th>amount</th>\n",
       "      <th>offer_id</th>\n",
       "      <th>channels</th>\n",
       "      <th>difficulty</th>\n",
       "      <th>offer_type</th>\n",
       "      <th>reward</th>\n",
       "      <th>duration</th>\n",
       "    </tr>\n",
       "  </thead>\n",
       "  <tbody>\n",
       "    <tr>\n",
       "      <th>0</th>\n",
       "      <td>offer received</td>\n",
       "      <td>0009655768c64bdeb2e877511632db8f</td>\n",
       "      <td>168</td>\n",
       "      <td>{'offer id': '5a8bc65990b245e5a138643cd4eb9837'}</td>\n",
       "      <td>NaN</td>\n",
       "      <td>5a8bc65990b245e5a138643cd4eb9837</td>\n",
       "      <td>[email, mobile, social]</td>\n",
       "      <td>0</td>\n",
       "      <td>informational</td>\n",
       "      <td>0</td>\n",
       "      <td>3.0</td>\n",
       "    </tr>\n",
       "    <tr>\n",
       "      <th>1</th>\n",
       "      <td>offer viewed</td>\n",
       "      <td>0009655768c64bdeb2e877511632db8f</td>\n",
       "      <td>192</td>\n",
       "      <td>{'offer id': '5a8bc65990b245e5a138643cd4eb9837'}</td>\n",
       "      <td>NaN</td>\n",
       "      <td>5a8bc65990b245e5a138643cd4eb9837</td>\n",
       "      <td>[email, mobile, social]</td>\n",
       "      <td>0</td>\n",
       "      <td>informational</td>\n",
       "      <td>0</td>\n",
       "      <td>3.0</td>\n",
       "    </tr>\n",
       "    <tr>\n",
       "      <th>2</th>\n",
       "      <td>transaction</td>\n",
       "      <td>0009655768c64bdeb2e877511632db8f</td>\n",
       "      <td>228</td>\n",
       "      <td>{'amount': 22.16}</td>\n",
       "      <td>22.16</td>\n",
       "      <td>5a8bc65990b245e5a138643cd4eb9837</td>\n",
       "      <td>[email, mobile, social]</td>\n",
       "      <td>0</td>\n",
       "      <td>informational</td>\n",
       "      <td>0</td>\n",
       "      <td>3.0</td>\n",
       "    </tr>\n",
       "    <tr>\n",
       "      <th>3</th>\n",
       "      <td>offer received</td>\n",
       "      <td>0009655768c64bdeb2e877511632db8f</td>\n",
       "      <td>336</td>\n",
       "      <td>{'offer id': '3f207df678b143eea3cee63160fa8bed'}</td>\n",
       "      <td>NaN</td>\n",
       "      <td>3f207df678b143eea3cee63160fa8bed</td>\n",
       "      <td>[web, email, mobile]</td>\n",
       "      <td>0</td>\n",
       "      <td>informational</td>\n",
       "      <td>0</td>\n",
       "      <td>4.0</td>\n",
       "    </tr>\n",
       "    <tr>\n",
       "      <th>4</th>\n",
       "      <td>offer viewed</td>\n",
       "      <td>0009655768c64bdeb2e877511632db8f</td>\n",
       "      <td>372</td>\n",
       "      <td>{'offer id': '3f207df678b143eea3cee63160fa8bed'}</td>\n",
       "      <td>NaN</td>\n",
       "      <td>3f207df678b143eea3cee63160fa8bed</td>\n",
       "      <td>[web, email, mobile]</td>\n",
       "      <td>0</td>\n",
       "      <td>informational</td>\n",
       "      <td>0</td>\n",
       "      <td>4.0</td>\n",
       "    </tr>\n",
       "  </tbody>\n",
       "</table>\n",
       "</div>"
      ],
      "text/plain": [
       "            event                            person  time  \\\n",
       "0  offer received  0009655768c64bdeb2e877511632db8f   168   \n",
       "1    offer viewed  0009655768c64bdeb2e877511632db8f   192   \n",
       "2     transaction  0009655768c64bdeb2e877511632db8f   228   \n",
       "3  offer received  0009655768c64bdeb2e877511632db8f   336   \n",
       "4    offer viewed  0009655768c64bdeb2e877511632db8f   372   \n",
       "\n",
       "                                              value  amount  \\\n",
       "0  {'offer id': '5a8bc65990b245e5a138643cd4eb9837'}     NaN   \n",
       "1  {'offer id': '5a8bc65990b245e5a138643cd4eb9837'}     NaN   \n",
       "2                                 {'amount': 22.16}   22.16   \n",
       "3  {'offer id': '3f207df678b143eea3cee63160fa8bed'}     NaN   \n",
       "4  {'offer id': '3f207df678b143eea3cee63160fa8bed'}     NaN   \n",
       "\n",
       "                           offer_id                 channels  difficulty  \\\n",
       "0  5a8bc65990b245e5a138643cd4eb9837  [email, mobile, social]           0   \n",
       "1  5a8bc65990b245e5a138643cd4eb9837  [email, mobile, social]           0   \n",
       "2  5a8bc65990b245e5a138643cd4eb9837  [email, mobile, social]           0   \n",
       "3  3f207df678b143eea3cee63160fa8bed     [web, email, mobile]           0   \n",
       "4  3f207df678b143eea3cee63160fa8bed     [web, email, mobile]           0   \n",
       "\n",
       "      offer_type  reward  duration  \n",
       "0  informational       0       3.0  \n",
       "1  informational       0       3.0  \n",
       "2  informational       0       3.0  \n",
       "3  informational       0       4.0  \n",
       "4  informational       0       4.0  "
      ]
     },
     "execution_count": 30,
     "metadata": {},
     "output_type": "execute_result"
    }
   ],
   "source": [
    "transcript_desc.head()"
   ]
  },
  {
   "cell_type": "markdown",
   "metadata": {},
   "source": [
    "### Flag out transactions and offers completed after offers viewed\n",
    "\n",
    "The next important step for preparing our data for modeling and analysis is to identify a completed offer and transactions occurring after an offer is viewed.\n",
    "\n",
    "Once we have assigned a transaction occurring after an offer is viewed, I can use that information to subset my data according to the groups defined above, and analyse within each group.\n",
    "\n",
    "Since we've already filled all transaction's offer id, we can extract the transactions converted from offers by checking if the offer id before the transaction is the same as the transaction's offer id.\n",
    "\n",
    "This means that as long as the events offer viewed,transaction, and offer completed occur in the same event space and are in the corrrect sequence of time, we can be assured that it is a transaction and/or completed offer occurring only after an offer is viewed.\n",
    "\n",
    "To do this, I created a new column to flag the previous offer id using pandas' shift function."
   ]
  },
  {
   "cell_type": "code",
   "execution_count": 17,
   "metadata": {},
   "outputs": [
    {
     "data": {
      "text/html": [
       "<div>\n",
       "<style scoped>\n",
       "    .dataframe tbody tr th:only-of-type {\n",
       "        vertical-align: middle;\n",
       "    }\n",
       "\n",
       "    .dataframe tbody tr th {\n",
       "        vertical-align: top;\n",
       "    }\n",
       "\n",
       "    .dataframe thead th {\n",
       "        text-align: right;\n",
       "    }\n",
       "</style>\n",
       "<table border=\"1\" class=\"dataframe\">\n",
       "  <thead>\n",
       "    <tr style=\"text-align: right;\">\n",
       "      <th></th>\n",
       "      <th>event</th>\n",
       "      <th>person</th>\n",
       "      <th>time</th>\n",
       "      <th>value</th>\n",
       "      <th>amount</th>\n",
       "      <th>offer_id</th>\n",
       "      <th>channels</th>\n",
       "      <th>difficulty</th>\n",
       "      <th>offer_type</th>\n",
       "      <th>reward</th>\n",
       "      <th>duration</th>\n",
       "      <th>pre_offer_id</th>\n",
       "      <th>completed_offer</th>\n",
       "    </tr>\n",
       "  </thead>\n",
       "  <tbody>\n",
       "    <tr>\n",
       "      <th>1</th>\n",
       "      <td>offer viewed</td>\n",
       "      <td>0009655768c64bdeb2e877511632db8f</td>\n",
       "      <td>192</td>\n",
       "      <td>{'offer id': '5a8bc65990b245e5a138643cd4eb9837'}</td>\n",
       "      <td>NaN</td>\n",
       "      <td>5a8bc65990b245e5a138643cd4eb9837</td>\n",
       "      <td>[email, mobile, social]</td>\n",
       "      <td>0</td>\n",
       "      <td>informational</td>\n",
       "      <td>0</td>\n",
       "      <td>3.0</td>\n",
       "      <td>NaN</td>\n",
       "      <td>0</td>\n",
       "    </tr>\n",
       "    <tr>\n",
       "      <th>2</th>\n",
       "      <td>transaction</td>\n",
       "      <td>0009655768c64bdeb2e877511632db8f</td>\n",
       "      <td>228</td>\n",
       "      <td>{'amount': 22.16}</td>\n",
       "      <td>22.16</td>\n",
       "      <td>5a8bc65990b245e5a138643cd4eb9837</td>\n",
       "      <td>[email, mobile, social]</td>\n",
       "      <td>0</td>\n",
       "      <td>informational</td>\n",
       "      <td>0</td>\n",
       "      <td>3.0</td>\n",
       "      <td>5a8bc65990b245e5a138643cd4eb9837</td>\n",
       "      <td>1</td>\n",
       "    </tr>\n",
       "    <tr>\n",
       "      <th>4</th>\n",
       "      <td>offer viewed</td>\n",
       "      <td>0009655768c64bdeb2e877511632db8f</td>\n",
       "      <td>372</td>\n",
       "      <td>{'offer id': '3f207df678b143eea3cee63160fa8bed'}</td>\n",
       "      <td>NaN</td>\n",
       "      <td>3f207df678b143eea3cee63160fa8bed</td>\n",
       "      <td>[web, email, mobile]</td>\n",
       "      <td>0</td>\n",
       "      <td>informational</td>\n",
       "      <td>0</td>\n",
       "      <td>4.0</td>\n",
       "      <td>NaN</td>\n",
       "      <td>0</td>\n",
       "    </tr>\n",
       "    <tr>\n",
       "      <th>6</th>\n",
       "      <td>transaction</td>\n",
       "      <td>0009655768c64bdeb2e877511632db8f</td>\n",
       "      <td>414</td>\n",
       "      <td>{'amount': 8.57}</td>\n",
       "      <td>8.57</td>\n",
       "      <td>3f207df678b143eea3cee63160fa8bed</td>\n",
       "      <td>[web, email, mobile]</td>\n",
       "      <td>0</td>\n",
       "      <td>informational</td>\n",
       "      <td>0</td>\n",
       "      <td>4.0</td>\n",
       "      <td>3f207df678b143eea3cee63160fa8bed</td>\n",
       "      <td>1</td>\n",
       "    </tr>\n",
       "    <tr>\n",
       "      <th>7</th>\n",
       "      <td>offer completed</td>\n",
       "      <td>0009655768c64bdeb2e877511632db8f</td>\n",
       "      <td>414</td>\n",
       "      <td>{'offer_id': 'f19421c1d4aa40978ebb69ca19b0e20d...</td>\n",
       "      <td>NaN</td>\n",
       "      <td>f19421c1d4aa40978ebb69ca19b0e20d</td>\n",
       "      <td>[web, email, mobile, social]</td>\n",
       "      <td>5</td>\n",
       "      <td>bogo</td>\n",
       "      <td>5</td>\n",
       "      <td>5.0</td>\n",
       "      <td>NaN</td>\n",
       "      <td>0</td>\n",
       "    </tr>\n",
       "  </tbody>\n",
       "</table>\n",
       "</div>"
      ],
      "text/plain": [
       "             event                            person  time  \\\n",
       "1     offer viewed  0009655768c64bdeb2e877511632db8f   192   \n",
       "2      transaction  0009655768c64bdeb2e877511632db8f   228   \n",
       "4     offer viewed  0009655768c64bdeb2e877511632db8f   372   \n",
       "6      transaction  0009655768c64bdeb2e877511632db8f   414   \n",
       "7  offer completed  0009655768c64bdeb2e877511632db8f   414   \n",
       "\n",
       "                                               value  amount  \\\n",
       "1   {'offer id': '5a8bc65990b245e5a138643cd4eb9837'}     NaN   \n",
       "2                                  {'amount': 22.16}   22.16   \n",
       "4   {'offer id': '3f207df678b143eea3cee63160fa8bed'}     NaN   \n",
       "6                                   {'amount': 8.57}    8.57   \n",
       "7  {'offer_id': 'f19421c1d4aa40978ebb69ca19b0e20d...     NaN   \n",
       "\n",
       "                           offer_id                      channels  difficulty  \\\n",
       "1  5a8bc65990b245e5a138643cd4eb9837       [email, mobile, social]           0   \n",
       "2  5a8bc65990b245e5a138643cd4eb9837       [email, mobile, social]           0   \n",
       "4  3f207df678b143eea3cee63160fa8bed          [web, email, mobile]           0   \n",
       "6  3f207df678b143eea3cee63160fa8bed          [web, email, mobile]           0   \n",
       "7  f19421c1d4aa40978ebb69ca19b0e20d  [web, email, mobile, social]           5   \n",
       "\n",
       "      offer_type  reward  duration                      pre_offer_id  \\\n",
       "1  informational       0       3.0                               NaN   \n",
       "2  informational       0       3.0  5a8bc65990b245e5a138643cd4eb9837   \n",
       "4  informational       0       4.0                               NaN   \n",
       "6  informational       0       4.0  3f207df678b143eea3cee63160fa8bed   \n",
       "7           bogo       5       5.0                               NaN   \n",
       "\n",
       "   completed_offer  \n",
       "1                0  \n",
       "2                1  \n",
       "4                0  \n",
       "6                1  \n",
       "7                0  "
      ]
     },
     "execution_count": 17,
     "metadata": {},
     "output_type": "execute_result"
    }
   ],
   "source": [
    "# Consider offer viewed, transaction and offer completed events\n",
    "transaction_after_view = transcript_desc[(transcript_desc['event'] == 'offer viewed')|\n",
    "                                         (transcript_desc['event'] == 'transaction')|\n",
    "                                        (transcript_desc['event'] == 'offer completed')].copy()\n",
    "\n",
    "# Get previous previous offer_id's\n",
    "transaction_after_view['pre_offer_id'] = transaction_after_view.groupby(['person','offer_id'])['offer_id'].shift()\n",
    "\n",
    "# Let create completed_offer after viewing and completed offers\n",
    "transaction_after_view['completed_offer'] = np.where(transaction_after_view\n",
    "                                                     ['pre_offer_id'] == transaction_after_view['offer_id'],1,0)\n",
    "\n",
    "transaction_after_view.head()"
   ]
  },
  {
   "cell_type": "code",
   "execution_count": 18,
   "metadata": {},
   "outputs": [
    {
     "name": "stderr",
     "output_type": "stream",
     "text": [
      "/opt/conda/lib/python3.6/site-packages/ipykernel_launcher.py:4: SettingWithCopyWarning: \n",
      "A value is trying to be set on a copy of a slice from a DataFrame.\n",
      "Try using .loc[row_indexer,col_indexer] = value instead\n",
      "\n",
      "See the caveats in the documentation: http://pandas.pydata.org/pandas-docs/stable/indexing.html#indexing-view-versus-copy\n",
      "  after removing the cwd from sys.path.\n",
      "/opt/conda/lib/python3.6/site-packages/ipykernel_launcher.py:5: SettingWithCopyWarning: \n",
      "A value is trying to be set on a copy of a slice from a DataFrame.\n",
      "Try using .loc[row_indexer,col_indexer] = value instead\n",
      "\n",
      "See the caveats in the documentation: http://pandas.pydata.org/pandas-docs/stable/indexing.html#indexing-view-versus-copy\n",
      "  \"\"\"\n"
     ]
    },
    {
     "data": {
      "text/html": [
       "<div>\n",
       "<style scoped>\n",
       "    .dataframe tbody tr th:only-of-type {\n",
       "        vertical-align: middle;\n",
       "    }\n",
       "\n",
       "    .dataframe tbody tr th {\n",
       "        vertical-align: top;\n",
       "    }\n",
       "\n",
       "    .dataframe thead th {\n",
       "        text-align: right;\n",
       "    }\n",
       "</style>\n",
       "<table border=\"1\" class=\"dataframe\">\n",
       "  <thead>\n",
       "    <tr style=\"text-align: right;\">\n",
       "      <th></th>\n",
       "      <th>event</th>\n",
       "      <th>person</th>\n",
       "      <th>time</th>\n",
       "      <th>value</th>\n",
       "      <th>amount</th>\n",
       "      <th>offer_id</th>\n",
       "      <th>channels</th>\n",
       "      <th>difficulty</th>\n",
       "      <th>offer_type</th>\n",
       "      <th>reward</th>\n",
       "      <th>duration</th>\n",
       "      <th>pre_offer_id</th>\n",
       "      <th>completed_offer</th>\n",
       "    </tr>\n",
       "  </thead>\n",
       "  <tbody>\n",
       "    <tr>\n",
       "      <th>0</th>\n",
       "      <td>offer received</td>\n",
       "      <td>0009655768c64bdeb2e877511632db8f</td>\n",
       "      <td>168</td>\n",
       "      <td>{'offer id': '5a8bc65990b245e5a138643cd4eb9837'}</td>\n",
       "      <td>NaN</td>\n",
       "      <td>5a8bc65990b245e5a138643cd4eb9837</td>\n",
       "      <td>[email, mobile, social]</td>\n",
       "      <td>0</td>\n",
       "      <td>informational</td>\n",
       "      <td>0</td>\n",
       "      <td>3.0</td>\n",
       "      <td>NaN</td>\n",
       "      <td>NaN</td>\n",
       "    </tr>\n",
       "    <tr>\n",
       "      <th>1</th>\n",
       "      <td>offer viewed</td>\n",
       "      <td>0009655768c64bdeb2e877511632db8f</td>\n",
       "      <td>192</td>\n",
       "      <td>{'offer id': '5a8bc65990b245e5a138643cd4eb9837'}</td>\n",
       "      <td>NaN</td>\n",
       "      <td>5a8bc65990b245e5a138643cd4eb9837</td>\n",
       "      <td>[email, mobile, social]</td>\n",
       "      <td>0</td>\n",
       "      <td>informational</td>\n",
       "      <td>0</td>\n",
       "      <td>3.0</td>\n",
       "      <td>NaN</td>\n",
       "      <td>0.0</td>\n",
       "    </tr>\n",
       "    <tr>\n",
       "      <th>2</th>\n",
       "      <td>transaction</td>\n",
       "      <td>0009655768c64bdeb2e877511632db8f</td>\n",
       "      <td>228</td>\n",
       "      <td>{'amount': 22.16}</td>\n",
       "      <td>22.16</td>\n",
       "      <td>5a8bc65990b245e5a138643cd4eb9837</td>\n",
       "      <td>[email, mobile, social]</td>\n",
       "      <td>0</td>\n",
       "      <td>informational</td>\n",
       "      <td>0</td>\n",
       "      <td>3.0</td>\n",
       "      <td>5a8bc65990b245e5a138643cd4eb9837</td>\n",
       "      <td>1.0</td>\n",
       "    </tr>\n",
       "    <tr>\n",
       "      <th>3</th>\n",
       "      <td>offer received</td>\n",
       "      <td>0009655768c64bdeb2e877511632db8f</td>\n",
       "      <td>336</td>\n",
       "      <td>{'offer id': '3f207df678b143eea3cee63160fa8bed'}</td>\n",
       "      <td>NaN</td>\n",
       "      <td>3f207df678b143eea3cee63160fa8bed</td>\n",
       "      <td>[web, email, mobile]</td>\n",
       "      <td>0</td>\n",
       "      <td>informational</td>\n",
       "      <td>0</td>\n",
       "      <td>4.0</td>\n",
       "      <td>NaN</td>\n",
       "      <td>NaN</td>\n",
       "    </tr>\n",
       "    <tr>\n",
       "      <th>4</th>\n",
       "      <td>offer viewed</td>\n",
       "      <td>0009655768c64bdeb2e877511632db8f</td>\n",
       "      <td>372</td>\n",
       "      <td>{'offer id': '3f207df678b143eea3cee63160fa8bed'}</td>\n",
       "      <td>NaN</td>\n",
       "      <td>3f207df678b143eea3cee63160fa8bed</td>\n",
       "      <td>[web, email, mobile]</td>\n",
       "      <td>0</td>\n",
       "      <td>informational</td>\n",
       "      <td>0</td>\n",
       "      <td>4.0</td>\n",
       "      <td>NaN</td>\n",
       "      <td>0.0</td>\n",
       "    </tr>\n",
       "  </tbody>\n",
       "</table>\n",
       "</div>"
      ],
      "text/plain": [
       "            event                            person  time  \\\n",
       "0  offer received  0009655768c64bdeb2e877511632db8f   168   \n",
       "1    offer viewed  0009655768c64bdeb2e877511632db8f   192   \n",
       "2     transaction  0009655768c64bdeb2e877511632db8f   228   \n",
       "3  offer received  0009655768c64bdeb2e877511632db8f   336   \n",
       "4    offer viewed  0009655768c64bdeb2e877511632db8f   372   \n",
       "\n",
       "                                              value  amount  \\\n",
       "0  {'offer id': '5a8bc65990b245e5a138643cd4eb9837'}     NaN   \n",
       "1  {'offer id': '5a8bc65990b245e5a138643cd4eb9837'}     NaN   \n",
       "2                                 {'amount': 22.16}   22.16   \n",
       "3  {'offer id': '3f207df678b143eea3cee63160fa8bed'}     NaN   \n",
       "4  {'offer id': '3f207df678b143eea3cee63160fa8bed'}     NaN   \n",
       "\n",
       "                           offer_id                 channels  difficulty  \\\n",
       "0  5a8bc65990b245e5a138643cd4eb9837  [email, mobile, social]           0   \n",
       "1  5a8bc65990b245e5a138643cd4eb9837  [email, mobile, social]           0   \n",
       "2  5a8bc65990b245e5a138643cd4eb9837  [email, mobile, social]           0   \n",
       "3  3f207df678b143eea3cee63160fa8bed     [web, email, mobile]           0   \n",
       "4  3f207df678b143eea3cee63160fa8bed     [web, email, mobile]           0   \n",
       "\n",
       "      offer_type  reward  duration                      pre_offer_id  \\\n",
       "0  informational       0       3.0                               NaN   \n",
       "1  informational       0       3.0                               NaN   \n",
       "2  informational       0       3.0  5a8bc65990b245e5a138643cd4eb9837   \n",
       "3  informational       0       4.0                               NaN   \n",
       "4  informational       0       4.0                               NaN   \n",
       "\n",
       "   completed_offer  \n",
       "0              NaN  \n",
       "1              0.0  \n",
       "2              1.0  \n",
       "3              NaN  \n",
       "4              0.0  "
      ]
     },
     "execution_count": 18,
     "metadata": {},
     "output_type": "execute_result"
    }
   ],
   "source": [
    "# Let go back to offer received which was not involved in the previous execution\n",
    "offer_received = transcript_desc[transcript_desc['event'] == 'offer received']\n",
    "\n",
    "offer_received['pre_offer_id'] = np.nan\n",
    "offer_received['completed_offer'] = np.nan\n",
    "\n",
    "transcript_desc = offer_received.append(transaction_after_view).sort_values(['person','time'])\n",
    "transcript_desc.head()"
   ]
  },
  {
   "cell_type": "markdown",
   "metadata": {},
   "source": [
    "lets make 'offer type' wise differenciate the dataset. It would be ease to track all."
   ]
  },
  {
   "cell_type": "code",
   "execution_count": 19,
   "metadata": {},
   "outputs": [],
   "source": [
    "# Let us split our offer type category dataset's into respective identified dataset forms\n",
    "bogo = transcript_desc[transcript_desc['offer_type']=='bogo'].copy()\n",
    "informational = transcript_desc[transcript_desc['offer_type']=='informational'].copy()\n",
    "discount = transcript_desc[transcript_desc['offer_type']=='discount'].copy()"
   ]
  },
  {
   "cell_type": "code",
   "execution_count": 20,
   "metadata": {},
   "outputs": [
    {
     "data": {
      "text/html": [
       "<div>\n",
       "<style scoped>\n",
       "    .dataframe tbody tr th:only-of-type {\n",
       "        vertical-align: middle;\n",
       "    }\n",
       "\n",
       "    .dataframe tbody tr th {\n",
       "        vertical-align: top;\n",
       "    }\n",
       "\n",
       "    .dataframe thead th {\n",
       "        text-align: right;\n",
       "    }\n",
       "</style>\n",
       "<table border=\"1\" class=\"dataframe\">\n",
       "  <thead>\n",
       "    <tr style=\"text-align: right;\">\n",
       "      <th></th>\n",
       "      <th>event</th>\n",
       "      <th>person</th>\n",
       "      <th>time</th>\n",
       "      <th>value</th>\n",
       "      <th>amount</th>\n",
       "      <th>offer_id</th>\n",
       "      <th>channels</th>\n",
       "      <th>difficulty</th>\n",
       "      <th>offer_type</th>\n",
       "      <th>reward</th>\n",
       "      <th>duration</th>\n",
       "      <th>pre_offer_id</th>\n",
       "      <th>completed_offer</th>\n",
       "    </tr>\n",
       "  </thead>\n",
       "  <tbody>\n",
       "    <tr>\n",
       "      <th>5</th>\n",
       "      <td>offer received</td>\n",
       "      <td>0009655768c64bdeb2e877511632db8f</td>\n",
       "      <td>408</td>\n",
       "      <td>{'offer id': 'f19421c1d4aa40978ebb69ca19b0e20d'}</td>\n",
       "      <td>NaN</td>\n",
       "      <td>f19421c1d4aa40978ebb69ca19b0e20d</td>\n",
       "      <td>[web, email, mobile, social]</td>\n",
       "      <td>5.0</td>\n",
       "      <td>bogo</td>\n",
       "      <td>5.0</td>\n",
       "      <td>5.0</td>\n",
       "      <td>NaN</td>\n",
       "      <td>NaN</td>\n",
       "    </tr>\n",
       "    <tr>\n",
       "      <th>7</th>\n",
       "      <td>offer completed</td>\n",
       "      <td>0009655768c64bdeb2e877511632db8f</td>\n",
       "      <td>414</td>\n",
       "      <td>{'offer_id': 'f19421c1d4aa40978ebb69ca19b0e20d...</td>\n",
       "      <td>NaN</td>\n",
       "      <td>f19421c1d4aa40978ebb69ca19b0e20d</td>\n",
       "      <td>[web, email, mobile, social]</td>\n",
       "      <td>5.0</td>\n",
       "      <td>bogo</td>\n",
       "      <td>5.0</td>\n",
       "      <td>5.0</td>\n",
       "      <td>NaN</td>\n",
       "      <td>0.0</td>\n",
       "    </tr>\n",
       "  </tbody>\n",
       "</table>\n",
       "</div>"
      ],
      "text/plain": [
       "             event                            person  time  \\\n",
       "5   offer received  0009655768c64bdeb2e877511632db8f   408   \n",
       "7  offer completed  0009655768c64bdeb2e877511632db8f   414   \n",
       "\n",
       "                                               value  amount  \\\n",
       "5   {'offer id': 'f19421c1d4aa40978ebb69ca19b0e20d'}     NaN   \n",
       "7  {'offer_id': 'f19421c1d4aa40978ebb69ca19b0e20d...     NaN   \n",
       "\n",
       "                           offer_id                      channels  difficulty  \\\n",
       "5  f19421c1d4aa40978ebb69ca19b0e20d  [web, email, mobile, social]         5.0   \n",
       "7  f19421c1d4aa40978ebb69ca19b0e20d  [web, email, mobile, social]         5.0   \n",
       "\n",
       "  offer_type  reward  duration pre_offer_id  completed_offer  \n",
       "5       bogo     5.0       5.0          NaN              NaN  \n",
       "7       bogo     5.0       5.0          NaN              0.0  "
      ]
     },
     "execution_count": 20,
     "metadata": {},
     "output_type": "execute_result"
    }
   ],
   "source": [
    "bogo.head(2)"
   ]
  },
  {
   "cell_type": "code",
   "execution_count": 21,
   "metadata": {},
   "outputs": [
    {
     "data": {
      "text/html": [
       "<div>\n",
       "<style scoped>\n",
       "    .dataframe tbody tr th:only-of-type {\n",
       "        vertical-align: middle;\n",
       "    }\n",
       "\n",
       "    .dataframe tbody tr th {\n",
       "        vertical-align: top;\n",
       "    }\n",
       "\n",
       "    .dataframe thead th {\n",
       "        text-align: right;\n",
       "    }\n",
       "</style>\n",
       "<table border=\"1\" class=\"dataframe\">\n",
       "  <thead>\n",
       "    <tr style=\"text-align: right;\">\n",
       "      <th></th>\n",
       "      <th>event</th>\n",
       "      <th>person</th>\n",
       "      <th>time</th>\n",
       "      <th>value</th>\n",
       "      <th>amount</th>\n",
       "      <th>offer_id</th>\n",
       "      <th>channels</th>\n",
       "      <th>difficulty</th>\n",
       "      <th>offer_type</th>\n",
       "      <th>reward</th>\n",
       "      <th>duration</th>\n",
       "      <th>pre_offer_id</th>\n",
       "      <th>completed_offer</th>\n",
       "    </tr>\n",
       "  </thead>\n",
       "  <tbody>\n",
       "    <tr>\n",
       "      <th>9</th>\n",
       "      <td>offer received</td>\n",
       "      <td>0009655768c64bdeb2e877511632db8f</td>\n",
       "      <td>504</td>\n",
       "      <td>{'offer id': 'fafdcd668e3743c1bb461111dcafc2a4'}</td>\n",
       "      <td>NaN</td>\n",
       "      <td>fafdcd668e3743c1bb461111dcafc2a4</td>\n",
       "      <td>[web, email, mobile, social]</td>\n",
       "      <td>10.0</td>\n",
       "      <td>discount</td>\n",
       "      <td>2.0</td>\n",
       "      <td>10.0</td>\n",
       "      <td>NaN</td>\n",
       "      <td>NaN</td>\n",
       "    </tr>\n",
       "    <tr>\n",
       "      <th>11</th>\n",
       "      <td>offer completed</td>\n",
       "      <td>0009655768c64bdeb2e877511632db8f</td>\n",
       "      <td>528</td>\n",
       "      <td>{'offer_id': 'fafdcd668e3743c1bb461111dcafc2a4...</td>\n",
       "      <td>NaN</td>\n",
       "      <td>fafdcd668e3743c1bb461111dcafc2a4</td>\n",
       "      <td>[web, email, mobile, social]</td>\n",
       "      <td>10.0</td>\n",
       "      <td>discount</td>\n",
       "      <td>2.0</td>\n",
       "      <td>10.0</td>\n",
       "      <td>NaN</td>\n",
       "      <td>0.0</td>\n",
       "    </tr>\n",
       "  </tbody>\n",
       "</table>\n",
       "</div>"
      ],
      "text/plain": [
       "              event                            person  time  \\\n",
       "9    offer received  0009655768c64bdeb2e877511632db8f   504   \n",
       "11  offer completed  0009655768c64bdeb2e877511632db8f   528   \n",
       "\n",
       "                                                value  amount  \\\n",
       "9    {'offer id': 'fafdcd668e3743c1bb461111dcafc2a4'}     NaN   \n",
       "11  {'offer_id': 'fafdcd668e3743c1bb461111dcafc2a4...     NaN   \n",
       "\n",
       "                            offer_id                      channels  \\\n",
       "9   fafdcd668e3743c1bb461111dcafc2a4  [web, email, mobile, social]   \n",
       "11  fafdcd668e3743c1bb461111dcafc2a4  [web, email, mobile, social]   \n",
       "\n",
       "    difficulty offer_type  reward  duration pre_offer_id  completed_offer  \n",
       "9         10.0   discount     2.0      10.0          NaN              NaN  \n",
       "11        10.0   discount     2.0      10.0          NaN              0.0  "
      ]
     },
     "execution_count": 21,
     "metadata": {},
     "output_type": "execute_result"
    }
   ],
   "source": [
    "discount.head(2)"
   ]
  },
  {
   "cell_type": "code",
   "execution_count": 23,
   "metadata": {},
   "outputs": [
    {
     "data": {
      "text/html": [
       "<div>\n",
       "<style scoped>\n",
       "    .dataframe tbody tr th:only-of-type {\n",
       "        vertical-align: middle;\n",
       "    }\n",
       "\n",
       "    .dataframe tbody tr th {\n",
       "        vertical-align: top;\n",
       "    }\n",
       "\n",
       "    .dataframe thead th {\n",
       "        text-align: right;\n",
       "    }\n",
       "</style>\n",
       "<table border=\"1\" class=\"dataframe\">\n",
       "  <thead>\n",
       "    <tr style=\"text-align: right;\">\n",
       "      <th></th>\n",
       "      <th>event</th>\n",
       "      <th>person</th>\n",
       "      <th>time</th>\n",
       "      <th>value</th>\n",
       "      <th>amount</th>\n",
       "      <th>offer_id</th>\n",
       "      <th>channels</th>\n",
       "      <th>difficulty</th>\n",
       "      <th>offer_type</th>\n",
       "      <th>reward</th>\n",
       "      <th>duration</th>\n",
       "      <th>pre_offer_id</th>\n",
       "      <th>completed_offer</th>\n",
       "    </tr>\n",
       "  </thead>\n",
       "  <tbody>\n",
       "    <tr>\n",
       "      <th>0</th>\n",
       "      <td>offer received</td>\n",
       "      <td>0009655768c64bdeb2e877511632db8f</td>\n",
       "      <td>168</td>\n",
       "      <td>{'offer id': '5a8bc65990b245e5a138643cd4eb9837'}</td>\n",
       "      <td>NaN</td>\n",
       "      <td>5a8bc65990b245e5a138643cd4eb9837</td>\n",
       "      <td>[email, mobile, social]</td>\n",
       "      <td>0.0</td>\n",
       "      <td>informational</td>\n",
       "      <td>0.0</td>\n",
       "      <td>3.0</td>\n",
       "      <td>NaN</td>\n",
       "      <td>NaN</td>\n",
       "    </tr>\n",
       "    <tr>\n",
       "      <th>1</th>\n",
       "      <td>offer viewed</td>\n",
       "      <td>0009655768c64bdeb2e877511632db8f</td>\n",
       "      <td>192</td>\n",
       "      <td>{'offer id': '5a8bc65990b245e5a138643cd4eb9837'}</td>\n",
       "      <td>NaN</td>\n",
       "      <td>5a8bc65990b245e5a138643cd4eb9837</td>\n",
       "      <td>[email, mobile, social]</td>\n",
       "      <td>0.0</td>\n",
       "      <td>informational</td>\n",
       "      <td>0.0</td>\n",
       "      <td>3.0</td>\n",
       "      <td>NaN</td>\n",
       "      <td>0.0</td>\n",
       "    </tr>\n",
       "  </tbody>\n",
       "</table>\n",
       "</div>"
      ],
      "text/plain": [
       "            event                            person  time  \\\n",
       "0  offer received  0009655768c64bdeb2e877511632db8f   168   \n",
       "1    offer viewed  0009655768c64bdeb2e877511632db8f   192   \n",
       "\n",
       "                                              value  amount  \\\n",
       "0  {'offer id': '5a8bc65990b245e5a138643cd4eb9837'}     NaN   \n",
       "1  {'offer id': '5a8bc65990b245e5a138643cd4eb9837'}     NaN   \n",
       "\n",
       "                           offer_id                 channels  difficulty  \\\n",
       "0  5a8bc65990b245e5a138643cd4eb9837  [email, mobile, social]         0.0   \n",
       "1  5a8bc65990b245e5a138643cd4eb9837  [email, mobile, social]         0.0   \n",
       "\n",
       "      offer_type  reward  duration pre_offer_id  completed_offer  \n",
       "0  informational     0.0       3.0          NaN              NaN  \n",
       "1  informational     0.0       3.0          NaN              0.0  "
      ]
     },
     "execution_count": 23,
     "metadata": {},
     "output_type": "execute_result"
    }
   ],
   "source": [
    "informational.head(2)"
   ]
  },
  {
   "cell_type": "markdown",
   "metadata": {},
   "source": [
    "Completed offer indicating that transactions and offers that it has completed successfully.\n",
    "For BOGO and discount offers, we will only consider offer completed events as the conversion events, while we can consider transaction event as the conversion event for the informational offers."
   ]
  },
  {
   "cell_type": "code",
   "execution_count": 20,
   "metadata": {},
   "outputs": [],
   "source": [
    "## Let consider group1 people\n",
    "\n",
    "bogo_completed = bogo[['person','offer_id']][(bogo['completed_offer']==1) & \\\n",
    "                                             (bogo['event']=='offer completed')].groupby(['person','offer_id']).count().reset_index()\n",
    "discount_completed = discount[['person','offer_id']][(discount['completed_offer']==1) &\\\n",
    "                                                     (discount['event']=='offer completed')].groupby(['person','offer_id']).count().reset_index()"
   ]
  },
  {
   "cell_type": "markdown",
   "metadata": {},
   "source": [
    "Now, we can look into separating group 2 and group 4 unique person-offer_ids for BOGO and discount offers. We can assume that every person who views an offer would have had an offer received event prior, so we can just take the whole group of people who received an offer and subset them into group 2 and 4 later.\n",
    "\n",
    "for informational offers we will define group 1 later as there is an additional consideration we need to take into account for transactions - they need to occur within the validity period of an informational offer for us to consider them as effective offers"
   ]
  },
  {
   "cell_type": "code",
   "execution_count": 21,
   "metadata": {},
   "outputs": [
    {
     "name": "stdout",
     "output_type": "stream",
     "text": [
      "            person  offer_id\n",
      "_merge                      \n",
      "left_only        0         0\n",
      "right_only    4729      4729\n",
      "both         20592     20592 \n",
      "\n",
      "            person  offer_id\n",
      "_merge                      \n",
      "left_only        0         0\n",
      "right_only    6415      6415\n",
      "both         18901     18901\n"
     ]
    }
   ],
   "source": [
    "# will define a function to repeat it for BOGO and discount\n",
    "def not_converted(df):\n",
    "    '''\n",
    "    inputs:\n",
    "    df: original transcript dataframe of specific offer type \n",
    "    \n",
    "    outputs:\n",
    "    Returns dataframe containing unique person-offer_id pairs with conversion events and offers received events, with indicator of each.\n",
    "    \n",
    "    Note: left_only indicator is just the offers received events, right_only is just conversion events (transaction and offer_completed)\n",
    "       \n",
    "    '''\n",
    "    # offer id's that have transactions by person and offer_id\n",
    "    conversion_ids = df[['person','offer_id']][(df['event']=='transaction') | \n",
    "                                           (df['event']=='offer completed') ].groupby(['person','offer_id']).count().reset_index()\n",
    "    \n",
    "    #check for unique person-offer_id pairs that consist of offers received \n",
    "    offers_received_only=df[['person','offer_id']][df['event']=='offer received'].groupby(['person','offer_id']).count().reset_index()\n",
    "    \n",
    "    # Will differenciate by merging conversion_id and offer_received table \n",
    "    check_merge = conversion_ids.merge(offers_received_only,how = 'right',on = ['person','offer_id'],indicator = True)\n",
    "    \n",
    "    return check_merge\n",
    "\n",
    "#check how many are in either group\n",
    "check_merge_bogo = not_converted(bogo)\n",
    "print(check_merge_bogo.groupby(['_merge']).count(),'\\n')\n",
    "\n",
    "check_merge_discount = not_converted(discount)\n",
    "print(check_merge_discount.groupby(['_merge']).count())"
   ]
  },
  {
   "cell_type": "markdown",
   "metadata": {},
   "source": [
    "There are fair number of unique person-offer_id pairs that have offer received events, but no conversion events. These would be considered offers in group 2 and 4 within each offer type.\n",
    "\n",
    "Then, based on merged dataset above, we can seperate out customers who only viewed the offer after they received the offer and customers who didn't even open the offer after they receive the offer."
   ]
  },
  {
   "cell_type": "code",
   "execution_count": 22,
   "metadata": {},
   "outputs": [],
   "source": [
    "grp_2_4_bogo = check_merge_bogo[check_merge_bogo['_merge'] == 'right_only']\n",
    "grp_2_4_bogo = grp_2_4_bogo.merge(transcript_desc,how = 'left',on = ['person','offer_id'])\n",
    "\n",
    "grp_2_bogo = grp_2_4_bogo[['person','offer_id']][grp_2_4_bogo\n",
    "                                                 ['event']=='offer viewed'].groupby(['person','offer_id']).count().reset_index()\n",
    "grp_2_4_bogo.drop(['_merge'], axis=1, inplace=True)\n",
    "\n",
    "grp_4_bogo=grp_2_4_bogo.merge(grp_2_bogo[['person','offer_id']],how='left',indicator=True)\n",
    "grp_4_bogo=grp_4_bogo[grp_4_bogo['_merge']=='left_only'].copy()"
   ]
  },
  {
   "cell_type": "code",
   "execution_count": 23,
   "metadata": {},
   "outputs": [],
   "source": [
    "# will apply same for discount offer as well\n",
    "\n",
    "# Customers who received offer without finishing transaction\n",
    "grp_2_4_discount = check_merge_discount[check_merge_discount['_merge']=='right_only']\n",
    "grp_2_4_discount = grp_2_4_discount.merge(transcript_desc, how='left',on=['person','offer_id'])\n",
    "\n",
    "# subset users who only viewed the offer and people who viewed the offer but didn't make transaction\n",
    "grp_2_discount = grp_2_4_discount[['person','offer_id']][grp_2_4_discount\n",
    "                                                         ['event']=='offer viewed'].groupby(['person','offer_id']).count().reset_index()\n",
    "grp_2_4_discount.drop(['_merge'], axis=1, inplace=True)\n",
    "\n",
    "# get the customers who didn't even view the offer after they received the discount offer \n",
    "grp_4_discount = grp_2_4_discount.merge(grp_2_discount[['person','offer_id']], how='left', indicator=True)\n",
    "grp_4_discount = grp_4_discount[grp_4_discount['_merge']=='left_only'].copy()"
   ]
  },
  {
   "cell_type": "markdown",
   "metadata": {},
   "source": [
    "Come to group 3 , these are the people who completed the offer and transaction. \n",
    "\n",
    "For BOGO and discount offers, they would be people with offer completed events that have completed_offer != 1."
   ]
  },
  {
   "cell_type": "code",
   "execution_count": 24,
   "metadata": {},
   "outputs": [],
   "source": [
    "grp3_bogo = bogo[['person','offer_id']][(bogo\n",
    "                                         ['event'] == 'offer completed') & \n",
    "                                        bogo['completed_offer']!= 1].groupby(['person','offer_id']).count().reset_index()\n",
    "\n",
    "grp3_discount = discount[['person','offer_id']][(discount['event'] == 'offer completed') \n",
    "                                               & discount['completed_offer'] != 1].groupby(['person','offer_id']).count().reset_index()"
   ]
  },
  {
   "cell_type": "markdown",
   "metadata": {},
   "source": [
    "Lets consider effective and ineffective offers \n",
    "\n",
    "Group1: person_unique_id will be a effective and our target variable should be 1\n",
    "\n",
    "Group2: person_unique_id, target variable will be 0"
   ]
  },
  {
   "cell_type": "code",
   "execution_count": 25,
   "metadata": {},
   "outputs": [],
   "source": [
    "def effective_offer(df_grp1,df_grp2):\n",
    "    '''\n",
    "    input:\n",
    "    Group1 & Group2 dataframe\n",
    "    \n",
    "    Output:\n",
    "    Effective offer returns into target variable\n",
    "    '''\n",
    "    \n",
    "    df_grp1['effective_offer'] = 1\n",
    "    df_grp2['effective_offer'] = 0\n",
    "    \n",
    "    offer = df_grp1.append(df_grp2,sort = False)\n",
    "    \n",
    "    return offer\n",
    "\n",
    "bogo_offer = effective_offer(bogo_completed,grp_2_bogo)\n",
    "discount_offer = effective_offer(discount_completed,grp_2_discount)"
   ]
  },
  {
   "cell_type": "markdown",
   "metadata": {},
   "source": [
    "Target varibales cleared for both BOGO and Discount\n",
    "\n",
    "For informational we need to be careful about validaty of the offer."
   ]
  },
  {
   "cell_type": "markdown",
   "metadata": {},
   "source": [
    "### Informational dataset, set response variable"
   ]
  },
  {
   "cell_type": "markdown",
   "metadata": {},
   "source": [
    "Informational:\n",
    "* When we consider effective/converted transaction and offer for 'informational' type offers. The reason why informational offers get a different treatment is because the conversion event is not an offer completed event, but a transaction.\n",
    "\n",
    "* An offer effective if it existed with in the duration\n",
    "\n",
    "* As earlier we seen the dataset contains duration in terms of time of an event, we need to choose a days\n",
    "\n",
    "First thing I should do here is to convert time data to days in informaitonal"
   ]
  },
  {
   "cell_type": "code",
   "execution_count": 42,
   "metadata": {},
   "outputs": [
    {
     "data": {
      "text/plain": [
       "Index(['event', 'person', 'time', 'value', 'amount', 'offer_id', 'channels',\n",
       "       'difficulty', 'offer_type', 'reward', 'duration', 'pre_offer_id',\n",
       "       'completed_offer'],\n",
       "      dtype='object')"
      ]
     },
     "execution_count": 42,
     "metadata": {},
     "output_type": "execute_result"
    }
   ],
   "source": [
    "informational.columns"
   ]
  },
  {
   "cell_type": "code",
   "execution_count": 26,
   "metadata": {},
   "outputs": [
    {
     "data": {
      "text/html": [
       "<div>\n",
       "<style scoped>\n",
       "    .dataframe tbody tr th:only-of-type {\n",
       "        vertical-align: middle;\n",
       "    }\n",
       "\n",
       "    .dataframe tbody tr th {\n",
       "        vertical-align: top;\n",
       "    }\n",
       "\n",
       "    .dataframe thead th {\n",
       "        text-align: right;\n",
       "    }\n",
       "</style>\n",
       "<table border=\"1\" class=\"dataframe\">\n",
       "  <thead>\n",
       "    <tr style=\"text-align: right;\">\n",
       "      <th></th>\n",
       "      <th>event</th>\n",
       "      <th>person</th>\n",
       "      <th>amount</th>\n",
       "      <th>offer_id</th>\n",
       "      <th>channels</th>\n",
       "      <th>difficulty</th>\n",
       "      <th>offer_type</th>\n",
       "      <th>reward</th>\n",
       "      <th>duration</th>\n",
       "      <th>completed_offer</th>\n",
       "      <th>offer_days</th>\n",
       "    </tr>\n",
       "  </thead>\n",
       "  <tbody>\n",
       "    <tr>\n",
       "      <th>0</th>\n",
       "      <td>offer received</td>\n",
       "      <td>0009655768c64bdeb2e877511632db8f</td>\n",
       "      <td>NaN</td>\n",
       "      <td>5a8bc65990b245e5a138643cd4eb9837</td>\n",
       "      <td>[email, mobile, social]</td>\n",
       "      <td>0</td>\n",
       "      <td>informational</td>\n",
       "      <td>0</td>\n",
       "      <td>3.0</td>\n",
       "      <td>NaN</td>\n",
       "      <td>7.0</td>\n",
       "    </tr>\n",
       "    <tr>\n",
       "      <th>1</th>\n",
       "      <td>offer viewed</td>\n",
       "      <td>0009655768c64bdeb2e877511632db8f</td>\n",
       "      <td>NaN</td>\n",
       "      <td>5a8bc65990b245e5a138643cd4eb9837</td>\n",
       "      <td>[email, mobile, social]</td>\n",
       "      <td>0</td>\n",
       "      <td>informational</td>\n",
       "      <td>0</td>\n",
       "      <td>3.0</td>\n",
       "      <td>0.0</td>\n",
       "      <td>8.0</td>\n",
       "    </tr>\n",
       "    <tr>\n",
       "      <th>2</th>\n",
       "      <td>transaction</td>\n",
       "      <td>0009655768c64bdeb2e877511632db8f</td>\n",
       "      <td>22.16</td>\n",
       "      <td>5a8bc65990b245e5a138643cd4eb9837</td>\n",
       "      <td>[email, mobile, social]</td>\n",
       "      <td>0</td>\n",
       "      <td>informational</td>\n",
       "      <td>0</td>\n",
       "      <td>3.0</td>\n",
       "      <td>1.0</td>\n",
       "      <td>9.5</td>\n",
       "    </tr>\n",
       "    <tr>\n",
       "      <th>3</th>\n",
       "      <td>offer received</td>\n",
       "      <td>0009655768c64bdeb2e877511632db8f</td>\n",
       "      <td>NaN</td>\n",
       "      <td>3f207df678b143eea3cee63160fa8bed</td>\n",
       "      <td>[web, email, mobile]</td>\n",
       "      <td>0</td>\n",
       "      <td>informational</td>\n",
       "      <td>0</td>\n",
       "      <td>4.0</td>\n",
       "      <td>NaN</td>\n",
       "      <td>14.0</td>\n",
       "    </tr>\n",
       "  </tbody>\n",
       "</table>\n",
       "</div>"
      ],
      "text/plain": [
       "            event                            person  amount  \\\n",
       "0  offer received  0009655768c64bdeb2e877511632db8f     NaN   \n",
       "1    offer viewed  0009655768c64bdeb2e877511632db8f     NaN   \n",
       "2     transaction  0009655768c64bdeb2e877511632db8f   22.16   \n",
       "3  offer received  0009655768c64bdeb2e877511632db8f     NaN   \n",
       "\n",
       "                           offer_id                 channels  difficulty  \\\n",
       "0  5a8bc65990b245e5a138643cd4eb9837  [email, mobile, social]           0   \n",
       "1  5a8bc65990b245e5a138643cd4eb9837  [email, mobile, social]           0   \n",
       "2  5a8bc65990b245e5a138643cd4eb9837  [email, mobile, social]           0   \n",
       "3  3f207df678b143eea3cee63160fa8bed     [web, email, mobile]           0   \n",
       "\n",
       "      offer_type  reward  duration  completed_offer  offer_days  \n",
       "0  informational       0       3.0              NaN         7.0  \n",
       "1  informational       0       3.0              0.0         8.0  \n",
       "2  informational       0       3.0              1.0         9.5  \n",
       "3  informational       0       4.0              NaN        14.0  "
      ]
     },
     "execution_count": 26,
     "metadata": {},
     "output_type": "execute_result"
    }
   ],
   "source": [
    "informational['offer_days'] = informational['time']/24\n",
    "\n",
    "# Dropping unneccessary attributes from the list\n",
    "informational.drop(['time','value','pre_offer_id'],axis = 1,inplace = True)\n",
    "\n",
    "informational = informational.sort_values(['person','offer_days','event','offer_id'])\n",
    "informational.head(4)"
   ]
  },
  {
   "cell_type": "code",
   "execution_count": 38,
   "metadata": {},
   "outputs": [
    {
     "name": "stdout",
     "output_type": "stream",
     "text": [
      "['offer received' 'offer viewed' 'transaction']\n",
      "['informational']\n",
      "informational    43501\n",
      "Name: offer_type, dtype: int64\n"
     ]
    }
   ],
   "source": [
    "print(informational['event'].unique())\n",
    "print(informational['offer_type'].unique())\n",
    "print(informational['offer_type'].value_counts())"
   ]
  },
  {
   "cell_type": "markdown",
   "metadata": {},
   "source": [
    "Will take a dfference between the transaction and offer received as the duration"
   ]
  },
  {
   "cell_type": "code",
   "execution_count": 27,
   "metadata": {},
   "outputs": [],
   "source": [
    "informational['diff_duration'] = informational[(informational['event'] == 'transaction') |\n",
    "              (informational['event'] == 'offer received')].groupby(['person','offer_id'])['offer_days'].diff()"
   ]
  },
  {
   "cell_type": "markdown",
   "metadata": {},
   "source": [
    "Will make actual flag outs duration over to here, by comparing diff_duration and actual duration"
   ]
  },
  {
   "cell_type": "code",
   "execution_count": 28,
   "metadata": {},
   "outputs": [],
   "source": [
    "# Let flag valid events\n",
    "informational['Valid_offer'] = np.nan\n",
    "\n",
    "# Let sure with in duration of time\n",
    "informational.loc[informational['diff_duration']<= informational['duration'],'Valid_offer'] = 1\n",
    "\n",
    "informational['Valid_offer'] = informational['Valid_offer'].fillna(value = 0)"
   ]
  },
  {
   "cell_type": "code",
   "execution_count": 39,
   "metadata": {},
   "outputs": [
    {
     "data": {
      "text/html": [
       "<div>\n",
       "<style scoped>\n",
       "    .dataframe tbody tr th:only-of-type {\n",
       "        vertical-align: middle;\n",
       "    }\n",
       "\n",
       "    .dataframe tbody tr th {\n",
       "        vertical-align: top;\n",
       "    }\n",
       "\n",
       "    .dataframe thead th {\n",
       "        text-align: right;\n",
       "    }\n",
       "</style>\n",
       "<table border=\"1\" class=\"dataframe\">\n",
       "  <thead>\n",
       "    <tr style=\"text-align: right;\">\n",
       "      <th></th>\n",
       "      <th>event</th>\n",
       "      <th>person</th>\n",
       "      <th>amount</th>\n",
       "      <th>offer_id</th>\n",
       "      <th>channels</th>\n",
       "      <th>difficulty</th>\n",
       "      <th>offer_type</th>\n",
       "      <th>reward</th>\n",
       "      <th>duration</th>\n",
       "      <th>completed_offer</th>\n",
       "      <th>offer_days</th>\n",
       "      <th>diff_duration</th>\n",
       "      <th>Valid_offer</th>\n",
       "    </tr>\n",
       "  </thead>\n",
       "  <tbody>\n",
       "    <tr>\n",
       "      <th>0</th>\n",
       "      <td>offer received</td>\n",
       "      <td>0009655768c64bdeb2e877511632db8f</td>\n",
       "      <td>NaN</td>\n",
       "      <td>5a8bc65990b245e5a138643cd4eb9837</td>\n",
       "      <td>[email, mobile, social]</td>\n",
       "      <td>0</td>\n",
       "      <td>informational</td>\n",
       "      <td>0</td>\n",
       "      <td>3.0</td>\n",
       "      <td>NaN</td>\n",
       "      <td>7.0</td>\n",
       "      <td>NaN</td>\n",
       "      <td>0.0</td>\n",
       "    </tr>\n",
       "  </tbody>\n",
       "</table>\n",
       "</div>"
      ],
      "text/plain": [
       "            event                            person  amount  \\\n",
       "0  offer received  0009655768c64bdeb2e877511632db8f     NaN   \n",
       "\n",
       "                           offer_id                 channels  difficulty  \\\n",
       "0  5a8bc65990b245e5a138643cd4eb9837  [email, mobile, social]           0   \n",
       "\n",
       "      offer_type  reward  duration  completed_offer  offer_days  \\\n",
       "0  informational       0       3.0              NaN         7.0   \n",
       "\n",
       "   diff_duration  Valid_offer  \n",
       "0            NaN          0.0  "
      ]
     },
     "execution_count": 39,
     "metadata": {},
     "output_type": "execute_result"
    }
   ],
   "source": [
    "informational.head(1)"
   ]
  },
  {
   "cell_type": "markdown",
   "metadata": {},
   "source": [
    "We have two valid flags i.e. completed_offer and valid_offer\n",
    "\n",
    "we have 2 * 2 = 4 poosible outcomes \n",
    "\n",
    "    case 1: completed_offer = 1 and valid_offer =0\n",
    "        it means transction completed after offer viewed, but not with in duration. It means these are neither influcened by\n",
    "        offer nor interset on it.\n",
    "    case 2: completed_offer = 0 and valid_offer =1\n",
    "        completed transaction with in duration, but no offer viewed. This is nothing but our group 3 people\n",
    "    Case 3: completed_offer = 1 and valid_offer =1\n",
    "           All did in right in time, we should say effective group of people ie.group1\n",
    "    Case 4: completed_offer = 0 and valid_offer =0\n",
    "            did not have any transction"
   ]
  },
  {
   "cell_type": "code",
   "execution_count": 29,
   "metadata": {},
   "outputs": [],
   "source": [
    "# let put case3 as positive and remain as 0\n",
    "informational['offer_responded'] = np.where((informational['completed_offer'] == 1) & (informational['Valid_offer'] ==1),1,0)"
   ]
  },
  {
   "cell_type": "code",
   "execution_count": 30,
   "metadata": {},
   "outputs": [],
   "source": [
    "# Will consider group1 people\n",
    "info_completed = informational[['person','offer_id']][informational\n",
    "                                                      ['offer_responded'] == 1].groupby(['person','offer_id']).sum().reset_index()"
   ]
  },
  {
   "cell_type": "markdown",
   "metadata": {},
   "source": [
    "For remaining people, we have separate out group 2 and 4. Since we don't have duration will use similar BOGO and discount steps."
   ]
  },
  {
   "cell_type": "code",
   "execution_count": 31,
   "metadata": {},
   "outputs": [
    {
     "name": "stdout",
     "output_type": "stream",
     "text": [
      "            person  offer_id\n",
      "_merge                      \n",
      "left_only        0         0\n",
      "right_only    5412      5412\n",
      "both          7239      7239\n"
     ]
    }
   ],
   "source": [
    "check_merge_info = not_converted(informational)\n",
    "print(check_merge_info.groupby(['_merge']).count())"
   ]
  },
  {
   "cell_type": "code",
   "execution_count": 32,
   "metadata": {},
   "outputs": [],
   "source": [
    "grp_2_4_info = check_merge_info[check_merge_info['_merge'] == 'right_only']\n",
    "grp_2_4_info  = grp_2_4_info.merge(transcript_desc,how='left',on=['person','offer_id'])\n",
    "grp_2_info = grp_2_4_info[['person','offer_id']][grp_2_4_info['event'] == 'offer viewed'].groupby(['person','offer_id']).count().reset_index()\n",
    "grp_2_4_info.drop(['_merge'], axis=1, inplace=True)\n",
    "grp_4_info=grp_2_4_info.merge(grp_2_info[['person','offer_id']],how='left',indicator=True)\n",
    "grp_4_info=grp_4_info[grp_4_info['_merge']=='left_only'].copy()"
   ]
  },
  {
   "cell_type": "markdown",
   "metadata": {},
   "source": [
    "Group 3 we have to consider people with conversion events but no offer viewed event prior. For informational offers, these would be transactions in case 1 and 2."
   ]
  },
  {
   "cell_type": "code",
   "execution_count": 45,
   "metadata": {},
   "outputs": [
    {
     "data": {
      "text/plain": [
       "array(['offer received', 'offer viewed', 'transaction'], dtype=object)"
      ]
     },
     "execution_count": 45,
     "metadata": {},
     "output_type": "execute_result"
    }
   ],
   "source": [
    "informational['event'].unique()"
   ]
  },
  {
   "cell_type": "code",
   "execution_count": 33,
   "metadata": {},
   "outputs": [],
   "source": [
    "#let combine case1 and case 2 as group3\n",
    "grp3_case1 = informational[['person','offer_id']][((informational\n",
    "                                                    ['event'] == 'transaction') & \n",
    "                                                   (informational['completed_offer']!=1)) & \n",
    "                                                  (informational['Valid_offer'] ==1)].groupby(\n",
    "    ['person','offer_id']).count().reset_index()\n",
    "\n",
    "grp3_case2 = informational[['person','offer_id']][((informational\n",
    "                                                    ['event'] == 'transaction') & \n",
    "                                                   (informational['completed_offer']==1)) & \n",
    "                                                  (informational['Valid_offer'] !=1)].groupby(\n",
    "    ['person','offer_id']).count().reset_index()\n",
    "\n",
    "\n",
    "grp3_info = grp3_case1.append(grp3_case2,sort = False)\n",
    "del grp3_case1\n",
    "del grp3_case2"
   ]
  },
  {
   "cell_type": "markdown",
   "metadata": {},
   "source": [
    "Let append all datasets together make sure it is good to for modeling"
   ]
  },
  {
   "cell_type": "code",
   "execution_count": 34,
   "metadata": {},
   "outputs": [],
   "source": [
    "info_offer = effective_offer(info_completed,grp_2_info)"
   ]
  },
  {
   "cell_type": "code",
   "execution_count": 54,
   "metadata": {},
   "outputs": [
    {
     "name": "stdout",
     "output_type": "stream",
     "text": [
      "[1 0]\n"
     ]
    },
    {
     "data": {
      "text/html": [
       "<div>\n",
       "<style scoped>\n",
       "    .dataframe tbody tr th:only-of-type {\n",
       "        vertical-align: middle;\n",
       "    }\n",
       "\n",
       "    .dataframe tbody tr th {\n",
       "        vertical-align: top;\n",
       "    }\n",
       "\n",
       "    .dataframe thead th {\n",
       "        text-align: right;\n",
       "    }\n",
       "</style>\n",
       "<table border=\"1\" class=\"dataframe\">\n",
       "  <thead>\n",
       "    <tr style=\"text-align: right;\">\n",
       "      <th></th>\n",
       "      <th>person</th>\n",
       "      <th>offer_id</th>\n",
       "      <th>effective_offer</th>\n",
       "    </tr>\n",
       "  </thead>\n",
       "  <tbody>\n",
       "    <tr>\n",
       "      <th>0</th>\n",
       "      <td>0009655768c64bdeb2e877511632db8f</td>\n",
       "      <td>3f207df678b143eea3cee63160fa8bed</td>\n",
       "      <td>1</td>\n",
       "    </tr>\n",
       "    <tr>\n",
       "      <th>1</th>\n",
       "      <td>0009655768c64bdeb2e877511632db8f</td>\n",
       "      <td>5a8bc65990b245e5a138643cd4eb9837</td>\n",
       "      <td>1</td>\n",
       "    </tr>\n",
       "  </tbody>\n",
       "</table>\n",
       "</div>"
      ],
      "text/plain": [
       "                             person                          offer_id  \\\n",
       "0  0009655768c64bdeb2e877511632db8f  3f207df678b143eea3cee63160fa8bed   \n",
       "1  0009655768c64bdeb2e877511632db8f  5a8bc65990b245e5a138643cd4eb9837   \n",
       "\n",
       "   effective_offer  \n",
       "0                1  \n",
       "1                1  "
      ]
     },
     "execution_count": 54,
     "metadata": {},
     "output_type": "execute_result"
    }
   ],
   "source": [
    "print(info_offer['effective_offer'].unique())\n",
    "info_offer.head(2)"
   ]
  },
  {
   "cell_type": "markdown",
   "metadata": {},
   "source": [
    "    Now we have target variable which is consisting of effective(1) and ineffective(0) offers depending on offer type."
   ]
  },
  {
   "cell_type": "markdown",
   "metadata": {},
   "source": [
    "# Feature Engineering"
   ]
  },
  {
   "cell_type": "code",
   "execution_count": 56,
   "metadata": {},
   "outputs": [
    {
     "name": "stdout",
     "output_type": "stream",
     "text": [
      "Index(['channels', 'difficulty', 'duration', 'offer_id', 'offer_type',\n",
      "       'reward'],\n",
      "      dtype='object')\n",
      "Index(['age', 'became_member_on', 'gender', 'id', 'income'], dtype='object')\n"
     ]
    }
   ],
   "source": [
    "print(portfolio.columns)\n",
    "print(profile.columns)"
   ]
  },
  {
   "cell_type": "markdown",
   "metadata": {},
   "source": [
    "### 1. became_member_on feature"
   ]
  },
  {
   "cell_type": "code",
   "execution_count": 35,
   "metadata": {},
   "outputs": [],
   "source": [
    "# since bogo, discount, info are consistited of person varible as id, renaming id as person in profile dataset\n",
    "profile.rename(columns = {'id':'person'},inplace = True)"
   ]
  },
  {
   "cell_type": "code",
   "execution_count": 190,
   "metadata": {},
   "outputs": [
    {
     "name": "stdout",
     "output_type": "stream",
     "text": [
      "lowest year       age  became_member_on gender                            person   income\n",
      "8948   64          20130729      M  77388a70eaf14433b4efc5d01fa947bf  69000.0\n",
      "7796   58          20130730      F  d25f38519a89455499c9e49e67ae1511  55000.0\n",
      "\n",
      "\n",
      "highest year        age  became_member_on gender                            person   income\n",
      "12902   85          20180726      M  f1f01be4e2344bf08b7f488c115ad374  45000.0\n",
      "4357    76          20180726      M  6597e5ab63754726b83ba2032f008d26  92000.0\n"
     ]
    }
   ],
   "source": [
    "print('lowest year',profile.sort_values(['became_member_on']).head(2))    #-->2013\n",
    "print('\\n')\n",
    "print('highest year',profile.sort_values(['became_member_on']).tail(2))   #-->2018"
   ]
  },
  {
   "cell_type": "markdown",
   "metadata": {},
   "source": [
    "since became_member_on is date format let make it year, month, day to get when does he membered calculation."
   ]
  },
  {
   "cell_type": "code",
   "execution_count": 36,
   "metadata": {},
   "outputs": [],
   "source": [
    "def membership_since(df):\n",
    "    '''\n",
    "    input:\n",
    "    dataframe with became_member_on\n",
    "    output:\n",
    "    since how many days he joins\n",
    "    '''\n",
    "    \n",
    "    df = df.merge(profile,how = 'left',on = 'person')\n",
    "    \n",
    "    df['year'] = pd.Series([int(str(x)[:4]) for x in df['became_member_on']])\n",
    "    df['month'] = pd.Series([int(str(x)[-4:-2]) for x in df['became_member_on']])\n",
    "    df['day'] = pd.Series([int(str(x)[-2:]) for x in df['became_member_on']])\n",
    "    \n",
    "    df.loc[df['year'] == 2018,'since_he_membered'] = (30*df['month'])+df['day']\n",
    "    df.loc[df['year'] != 2018,'since_he_membered'] = ((2018-df['year'])*365)+(30*df['month'])+df['day']\n",
    "    \n",
    "    df = df.drop(['year','month','day','became_member_on'], axis=1, inplace=False)\n",
    "    \n",
    "    return df"
   ]
  },
  {
   "cell_type": "code",
   "execution_count": 37,
   "metadata": {},
   "outputs": [],
   "source": [
    "offers_bogo = membership_since(bogo_offer)\n",
    "\n",
    "offers_discount = membership_since(discount_offer)\n",
    "\n",
    "offers_info = membership_since(info_offer)"
   ]
  },
  {
   "cell_type": "code",
   "execution_count": 193,
   "metadata": {},
   "outputs": [
    {
     "data": {
      "text/html": [
       "<div>\n",
       "<style scoped>\n",
       "    .dataframe tbody tr th:only-of-type {\n",
       "        vertical-align: middle;\n",
       "    }\n",
       "\n",
       "    .dataframe tbody tr th {\n",
       "        vertical-align: top;\n",
       "    }\n",
       "\n",
       "    .dataframe thead th {\n",
       "        text-align: right;\n",
       "    }\n",
       "</style>\n",
       "<table border=\"1\" class=\"dataframe\">\n",
       "  <thead>\n",
       "    <tr style=\"text-align: right;\">\n",
       "      <th></th>\n",
       "      <th>person</th>\n",
       "      <th>offer_id</th>\n",
       "      <th>effective_offer</th>\n",
       "      <th>age</th>\n",
       "      <th>gender</th>\n",
       "      <th>income</th>\n",
       "      <th>since_he_membered</th>\n",
       "    </tr>\n",
       "  </thead>\n",
       "  <tbody>\n",
       "    <tr>\n",
       "      <th>0</th>\n",
       "      <td>0011e0d4e6b944f998e987f904e8c1e5</td>\n",
       "      <td>9b98b8c7a33c4b65b9aebfe6a799e6d9</td>\n",
       "      <td>1</td>\n",
       "      <td>40</td>\n",
       "      <td>O</td>\n",
       "      <td>57000.0</td>\n",
       "      <td>39.0</td>\n",
       "    </tr>\n",
       "    <tr>\n",
       "      <th>1</th>\n",
       "      <td>0020c2b971eb4e9188eac86d93036a77</td>\n",
       "      <td>4d5c57ea9a6940dd891ad53e9dbe8da0</td>\n",
       "      <td>1</td>\n",
       "      <td>59</td>\n",
       "      <td>F</td>\n",
       "      <td>90000.0</td>\n",
       "      <td>824.0</td>\n",
       "    </tr>\n",
       "    <tr>\n",
       "      <th>2</th>\n",
       "      <td>0020ccbbb6d84e358d3414a3ff76cffd</td>\n",
       "      <td>9b98b8c7a33c4b65b9aebfe6a799e6d9</td>\n",
       "      <td>1</td>\n",
       "      <td>24</td>\n",
       "      <td>F</td>\n",
       "      <td>60000.0</td>\n",
       "      <td>1071.0</td>\n",
       "    </tr>\n",
       "    <tr>\n",
       "      <th>3</th>\n",
       "      <td>0020ccbbb6d84e358d3414a3ff76cffd</td>\n",
       "      <td>f19421c1d4aa40978ebb69ca19b0e20d</td>\n",
       "      <td>1</td>\n",
       "      <td>24</td>\n",
       "      <td>F</td>\n",
       "      <td>60000.0</td>\n",
       "      <td>1071.0</td>\n",
       "    </tr>\n",
       "  </tbody>\n",
       "</table>\n",
       "</div>"
      ],
      "text/plain": [
       "                             person                          offer_id  \\\n",
       "0  0011e0d4e6b944f998e987f904e8c1e5  9b98b8c7a33c4b65b9aebfe6a799e6d9   \n",
       "1  0020c2b971eb4e9188eac86d93036a77  4d5c57ea9a6940dd891ad53e9dbe8da0   \n",
       "2  0020ccbbb6d84e358d3414a3ff76cffd  9b98b8c7a33c4b65b9aebfe6a799e6d9   \n",
       "3  0020ccbbb6d84e358d3414a3ff76cffd  f19421c1d4aa40978ebb69ca19b0e20d   \n",
       "\n",
       "   effective_offer  age gender   income  since_he_membered  \n",
       "0                1   40      O  57000.0               39.0  \n",
       "1                1   59      F  90000.0              824.0  \n",
       "2                1   24      F  60000.0             1071.0  \n",
       "3                1   24      F  60000.0             1071.0  "
      ]
     },
     "execution_count": 193,
     "metadata": {},
     "output_type": "execute_result"
    }
   ],
   "source": [
    "offers_bogo.head(4)"
   ]
  },
  {
   "cell_type": "code",
   "execution_count": 222,
   "metadata": {},
   "outputs": [
    {
     "data": {
      "text/html": [
       "<div>\n",
       "<style scoped>\n",
       "    .dataframe tbody tr th:only-of-type {\n",
       "        vertical-align: middle;\n",
       "    }\n",
       "\n",
       "    .dataframe tbody tr th {\n",
       "        vertical-align: top;\n",
       "    }\n",
       "\n",
       "    .dataframe thead th {\n",
       "        text-align: right;\n",
       "    }\n",
       "</style>\n",
       "<table border=\"1\" class=\"dataframe\">\n",
       "  <thead>\n",
       "    <tr style=\"text-align: right;\">\n",
       "      <th></th>\n",
       "      <th>person</th>\n",
       "      <th>offer_id</th>\n",
       "      <th>effective_offer</th>\n",
       "      <th>age</th>\n",
       "      <th>gender</th>\n",
       "      <th>income</th>\n",
       "      <th>since_he_membered</th>\n",
       "    </tr>\n",
       "  </thead>\n",
       "  <tbody>\n",
       "    <tr>\n",
       "      <th>0</th>\n",
       "      <td>0011e0d4e6b944f998e987f904e8c1e5</td>\n",
       "      <td>0b1e1539f2cc45b7b9fa7c272da2e1d7</td>\n",
       "      <td>1</td>\n",
       "      <td>40</td>\n",
       "      <td>O</td>\n",
       "      <td>57000.0</td>\n",
       "      <td>39.0</td>\n",
       "    </tr>\n",
       "    <tr>\n",
       "      <th>1</th>\n",
       "      <td>0011e0d4e6b944f998e987f904e8c1e5</td>\n",
       "      <td>2298d6c36e964ae4a3e7e9706d1fb8c2</td>\n",
       "      <td>1</td>\n",
       "      <td>40</td>\n",
       "      <td>O</td>\n",
       "      <td>57000.0</td>\n",
       "      <td>39.0</td>\n",
       "    </tr>\n",
       "    <tr>\n",
       "      <th>2</th>\n",
       "      <td>0020c2b971eb4e9188eac86d93036a77</td>\n",
       "      <td>fafdcd668e3743c1bb461111dcafc2a4</td>\n",
       "      <td>1</td>\n",
       "      <td>59</td>\n",
       "      <td>F</td>\n",
       "      <td>90000.0</td>\n",
       "      <td>824.0</td>\n",
       "    </tr>\n",
       "    <tr>\n",
       "      <th>3</th>\n",
       "      <td>0020ccbbb6d84e358d3414a3ff76cffd</td>\n",
       "      <td>2298d6c36e964ae4a3e7e9706d1fb8c2</td>\n",
       "      <td>1</td>\n",
       "      <td>24</td>\n",
       "      <td>F</td>\n",
       "      <td>60000.0</td>\n",
       "      <td>1071.0</td>\n",
       "    </tr>\n",
       "  </tbody>\n",
       "</table>\n",
       "</div>"
      ],
      "text/plain": [
       "                             person                          offer_id  \\\n",
       "0  0011e0d4e6b944f998e987f904e8c1e5  0b1e1539f2cc45b7b9fa7c272da2e1d7   \n",
       "1  0011e0d4e6b944f998e987f904e8c1e5  2298d6c36e964ae4a3e7e9706d1fb8c2   \n",
       "2  0020c2b971eb4e9188eac86d93036a77  fafdcd668e3743c1bb461111dcafc2a4   \n",
       "3  0020ccbbb6d84e358d3414a3ff76cffd  2298d6c36e964ae4a3e7e9706d1fb8c2   \n",
       "\n",
       "   effective_offer  age gender   income  since_he_membered  \n",
       "0                1   40      O  57000.0               39.0  \n",
       "1                1   40      O  57000.0               39.0  \n",
       "2                1   59      F  90000.0              824.0  \n",
       "3                1   24      F  60000.0             1071.0  "
      ]
     },
     "execution_count": 222,
     "metadata": {},
     "output_type": "execute_result"
    }
   ],
   "source": [
    "offers_discount.head(4)"
   ]
  },
  {
   "cell_type": "code",
   "execution_count": 223,
   "metadata": {},
   "outputs": [
    {
     "data": {
      "text/html": [
       "<div>\n",
       "<style scoped>\n",
       "    .dataframe tbody tr th:only-of-type {\n",
       "        vertical-align: middle;\n",
       "    }\n",
       "\n",
       "    .dataframe tbody tr th {\n",
       "        vertical-align: top;\n",
       "    }\n",
       "\n",
       "    .dataframe thead th {\n",
       "        text-align: right;\n",
       "    }\n",
       "</style>\n",
       "<table border=\"1\" class=\"dataframe\">\n",
       "  <thead>\n",
       "    <tr style=\"text-align: right;\">\n",
       "      <th></th>\n",
       "      <th>person</th>\n",
       "      <th>offer_id</th>\n",
       "      <th>effective_offer</th>\n",
       "      <th>age</th>\n",
       "      <th>gender</th>\n",
       "      <th>income</th>\n",
       "      <th>since_he_membered</th>\n",
       "    </tr>\n",
       "  </thead>\n",
       "  <tbody>\n",
       "    <tr>\n",
       "      <th>0</th>\n",
       "      <td>0009655768c64bdeb2e877511632db8f</td>\n",
       "      <td>3f207df678b143eea3cee63160fa8bed</td>\n",
       "      <td>1</td>\n",
       "      <td>33</td>\n",
       "      <td>M</td>\n",
       "      <td>72000.0</td>\n",
       "      <td>506.0</td>\n",
       "    </tr>\n",
       "    <tr>\n",
       "      <th>1</th>\n",
       "      <td>0009655768c64bdeb2e877511632db8f</td>\n",
       "      <td>5a8bc65990b245e5a138643cd4eb9837</td>\n",
       "      <td>1</td>\n",
       "      <td>33</td>\n",
       "      <td>M</td>\n",
       "      <td>72000.0</td>\n",
       "      <td>506.0</td>\n",
       "    </tr>\n",
       "  </tbody>\n",
       "</table>\n",
       "</div>"
      ],
      "text/plain": [
       "                             person                          offer_id  \\\n",
       "0  0009655768c64bdeb2e877511632db8f  3f207df678b143eea3cee63160fa8bed   \n",
       "1  0009655768c64bdeb2e877511632db8f  5a8bc65990b245e5a138643cd4eb9837   \n",
       "\n",
       "   effective_offer  age gender   income  since_he_membered  \n",
       "0                1   33      M  72000.0              506.0  \n",
       "1                1   33      M  72000.0              506.0  "
      ]
     },
     "execution_count": 223,
     "metadata": {},
     "output_type": "execute_result"
    }
   ],
   "source": [
    "offers_info.head(2)"
   ]
  },
  {
   "cell_type": "markdown",
   "metadata": {},
   "source": [
    "## 2. Count of offers received\n",
    "\n",
    "As part of data insights, I have seen there could be multiple offers per person.The no of times each offers received by customer also can have effect on offers being effective or not."
   ]
  },
  {
   "cell_type": "code",
   "execution_count": 38,
   "metadata": {},
   "outputs": [
    {
     "name": "stdout",
     "output_type": "stream",
     "text": [
      "person\n",
      "0009655768c64bdeb2e877511632db8f    5\n",
      "00116118485d4dfda04fdbaba9a87b5c    2\n",
      "0011e0d4e6b944f998e987f904e8c1e5    5\n",
      "0020c2b971eb4e9188eac86d93036a77    5\n",
      "Name: event, dtype: int64\n",
      "\n",
      "\n",
      "AxesSubplot(0.125,0.125;0.775x0.755)\n"
     ]
    },
    {
     "data": {
      "image/png": "[encoded data removed]",
      "text/plain": [
       "<matplotlib.figure.Figure at 0x7fad6f985da0>"
      ]
     },
     "metadata": {
      "needs_background": "light"
     },
     "output_type": "display_data"
    }
   ],
   "source": [
    "# A common point a person can receive a multiple offers lets check in our case.\n",
    "print(transcript_desc[transcript_desc['event'] == 'offer received'].groupby('person')['event'].count().head(4))\n",
    "print('\\n')\n",
    "print(transcript_desc[transcript_desc['event'] == 'offer received'].groupby('person')['event'].count().hist())"
   ]
  },
  {
   "cell_type": "markdown",
   "metadata": {},
   "source": [
    "It states that a person max received 5-6 offers. "
   ]
  },
  {
   "cell_type": "code",
   "execution_count": 39,
   "metadata": {},
   "outputs": [],
   "source": [
    "df_offer_received_cnt = transcript_desc[transcript_desc['event']=='offer received'].groupby(\n",
    "    ['person','offer_id','time']).count()['event'].reset_index()\n",
    "\n",
    "#rename columns\n",
    "df_offer_received_cnt.rename(columns={'event':'offer_received_cnt'},inplace=True)\n",
    "\n",
    "#drop unnecessary columns\n",
    "df_offer_received_cnt.drop(['time'], axis=1, inplace=True)\n",
    "\n",
    "#ensure only unique person-offer_id pairs\n",
    "df_offer_received_cnt = df_offer_received_cnt.groupby(['person','offer_id']).sum().reset_index()"
   ]
  },
  {
   "cell_type": "markdown",
   "metadata": {},
   "source": [
    "### 3. Get invalid transactions (which are not related to offers)\n",
    "* The sum of transactions done by people not in group1, hence the people in group 1, a few users will have some predictive power onto the effectiveness of offers; since a loyal user might have a higher tendency of taking up an offer.\n",
    "\n",
    "* In my datasets, I had already separated the transactions who are conversions versus transactions who are just the users' normal purchasing behaviour. This is through the completed_offer column, where I checked if a transaction had an offer viewed event prior.\n",
    "\n",
    "* In the cases where offer_completed=1, I had already included them in my effective offers flag for BOGO and Discount offers. However, for those transctions where offer_completed=0, I have not considered them, and this could be a potential feature to include, as a proxy for the 'baseline' level of spending for a user.\n",
    "\n",
    "* The logic is to wonder if there is some baseline level of spending for users who are highly influenced by certain offers (in group 1), and group 2, and if there is some predictive power in this baseline level of 'invalid transactions' that can predict the propensity of a user to take up an offer."
   ]
  },
  {
   "cell_type": "code",
   "execution_count": 40,
   "metadata": {},
   "outputs": [],
   "source": [
    "#filter dataset by invalid transactions\n",
    "# subtract the transactions which's not related to the offer\n",
    "\n",
    "transactions_not_related = transcript_desc[(transcript_desc['event']=='transaction') & \n",
    "                                           (transcript_desc['completed_offer']==0)].groupby(\n",
    "    ['person','offer_id'])['amount'].sum().reset_index()\n",
    "\n",
    "\n",
    "transactions_not_related.rename(columns={'amount':'amount_invalid'},inplace=True)"
   ]
  },
  {
   "cell_type": "markdown",
   "metadata": {},
   "source": [
    "## Data Preperation steps for Modeling\n",
    "a. Merge with temporary datasets created above to include engineered features\n",
    "\n",
    "b. Drop missing values in gender,income and abnormal age value column for demographic data; convert gender into dummy variables\n",
    "\n",
    "c. Separate the channel column into categorical variables\n",
    "\n",
    "d. Treatment of duplicate records"
   ]
  },
  {
   "cell_type": "code",
   "execution_count": 41,
   "metadata": {},
   "outputs": [],
   "source": [
    "offers_bogo = offers_bogo.merge(df_offer_received_cnt[['person','offer_id','offer_received_cnt']],how='left',on=['person','offer_id'])\n",
    "offers_bogo = offers_bogo.merge(transactions_not_related[['person','offer_id','amount_invalid']],how='left',on=['person','offer_id'])"
   ]
  },
  {
   "cell_type": "code",
   "execution_count": 42,
   "metadata": {},
   "outputs": [
    {
     "data": {
      "text/plain": [
       "amount_invalid        96.323752\n",
       "income                 7.057489\n",
       "gender                 7.057489\n",
       "offer_received_cnt     0.000000\n",
       "since_he_membered      0.000000\n",
       "dtype: float64"
      ]
     },
     "execution_count": 42,
     "metadata": {},
     "output_type": "execute_result"
    }
   ],
   "source": [
    "# Missing value %\n",
    "(offers_bogo.isnull().sum()/len(offers_bogo)*100).sort_values(ascending=False).head()"
   ]
  },
  {
   "cell_type": "markdown",
   "metadata": {},
   "source": [
    "We can see that amount_invalid column has 97% missing data. Since it is so 'sparse' for BOGO offers, it might not have much information after all. We assess this feature again later during the model implementation phase. For now, we fill the missing amount_invalid column with 0."
   ]
  },
  {
   "cell_type": "code",
   "execution_count": 43,
   "metadata": {},
   "outputs": [],
   "source": [
    "offers_bogo['amount_invalid']=offers_bogo['amount_invalid'].fillna(value=0)\n",
    "offers_bogo.dropna(inplace=True)"
   ]
  },
  {
   "cell_type": "markdown",
   "metadata": {},
   "source": [
    "#### Separate the channel column into categorical variables"
   ]
  },
  {
   "cell_type": "code",
   "execution_count": 44,
   "metadata": {},
   "outputs": [],
   "source": [
    "# will create a dummy function to map our dataset to manipulate towards encoding\n",
    "def dummy(df,col):\n",
    "    df=pd.concat([df[:],pd.get_dummies(df[col],prefix=col)],axis=1)\n",
    "    df=df.drop(columns=col,axis=1,inplace=False)\n",
    "    return df"
   ]
  },
  {
   "cell_type": "code",
   "execution_count": 45,
   "metadata": {},
   "outputs": [],
   "source": [
    "#merge with portfolio to get offer details\n",
    "offers_bogo=offers_bogo.merge(portfolio,how='left',on='offer_id')\n",
    "\n",
    "#convert channels into categorical variables\n",
    "for index, row in offers_bogo.iterrows():\n",
    "    for channel in ['web', 'email', 'social', 'mobile']:\n",
    "        if channel in offers_bogo.loc[index, 'channels']:\n",
    "            offers_bogo.loc[index, channel] = 1\n",
    "        else:\n",
    "            offers_bogo.loc[index, channel] = 0"
   ]
  },
  {
   "cell_type": "code",
   "execution_count": 46,
   "metadata": {},
   "outputs": [
    {
     "data": {
      "text/plain": [
       "Index(['person', 'offer_id', 'effective_offer', 'age', 'gender', 'income',\n",
       "       'since_he_membered', 'offer_received_cnt', 'amount_invalid', 'channels',\n",
       "       'difficulty', 'duration', 'offer_type', 'reward', 'web', 'email',\n",
       "       'social', 'mobile'],\n",
       "      dtype='object')"
      ]
     },
     "execution_count": 46,
     "metadata": {},
     "output_type": "execute_result"
    }
   ],
   "source": [
    "offers_bogo.columns"
   ]
  },
  {
   "cell_type": "code",
   "execution_count": 47,
   "metadata": {},
   "outputs": [],
   "source": [
    "offers_bogo = offers_bogo.drop(['channels'], axis=1, inplace=False)\n",
    "\n",
    "#convert gender into categorical variables\n",
    "offers_bogo = dummy(offers_bogo,'gender')"
   ]
  },
  {
   "cell_type": "code",
   "execution_count": 95,
   "metadata": {},
   "outputs": [
    {
     "data": {
      "text/html": [
       "<div>\n",
       "<style scoped>\n",
       "    .dataframe tbody tr th:only-of-type {\n",
       "        vertical-align: middle;\n",
       "    }\n",
       "\n",
       "    .dataframe tbody tr th {\n",
       "        vertical-align: top;\n",
       "    }\n",
       "\n",
       "    .dataframe thead th {\n",
       "        text-align: right;\n",
       "    }\n",
       "</style>\n",
       "<table border=\"1\" class=\"dataframe\">\n",
       "  <thead>\n",
       "    <tr style=\"text-align: right;\">\n",
       "      <th></th>\n",
       "      <th>person</th>\n",
       "      <th>offer_id</th>\n",
       "      <th>effective_offer</th>\n",
       "      <th>age</th>\n",
       "      <th>income</th>\n",
       "      <th>since_he_membered</th>\n",
       "      <th>offer_received_cnt</th>\n",
       "      <th>amount_invalid</th>\n",
       "      <th>channels_x</th>\n",
       "      <th>difficulty_x</th>\n",
       "      <th>...</th>\n",
       "      <th>duration</th>\n",
       "      <th>offer_type</th>\n",
       "      <th>reward</th>\n",
       "      <th>web</th>\n",
       "      <th>email</th>\n",
       "      <th>social</th>\n",
       "      <th>mobile</th>\n",
       "      <th>gender_F</th>\n",
       "      <th>gender_M</th>\n",
       "      <th>gender_O</th>\n",
       "    </tr>\n",
       "  </thead>\n",
       "  <tbody>\n",
       "    <tr>\n",
       "      <th>0</th>\n",
       "      <td>0011e0d4e6b944f998e987f904e8c1e5</td>\n",
       "      <td>9b98b8c7a33c4b65b9aebfe6a799e6d9</td>\n",
       "      <td>1</td>\n",
       "      <td>40</td>\n",
       "      <td>57000.0</td>\n",
       "      <td>39.0</td>\n",
       "      <td>1</td>\n",
       "      <td>0.0</td>\n",
       "      <td>[web, email, mobile]</td>\n",
       "      <td>5</td>\n",
       "      <td>...</td>\n",
       "      <td>7</td>\n",
       "      <td>bogo</td>\n",
       "      <td>5</td>\n",
       "      <td>1.0</td>\n",
       "      <td>1.0</td>\n",
       "      <td>0.0</td>\n",
       "      <td>1.0</td>\n",
       "      <td>0</td>\n",
       "      <td>0</td>\n",
       "      <td>1</td>\n",
       "    </tr>\n",
       "    <tr>\n",
       "      <th>1</th>\n",
       "      <td>0020c2b971eb4e9188eac86d93036a77</td>\n",
       "      <td>4d5c57ea9a6940dd891ad53e9dbe8da0</td>\n",
       "      <td>1</td>\n",
       "      <td>59</td>\n",
       "      <td>90000.0</td>\n",
       "      <td>824.0</td>\n",
       "      <td>1</td>\n",
       "      <td>0.0</td>\n",
       "      <td>[web, email, mobile, social]</td>\n",
       "      <td>10</td>\n",
       "      <td>...</td>\n",
       "      <td>5</td>\n",
       "      <td>bogo</td>\n",
       "      <td>10</td>\n",
       "      <td>1.0</td>\n",
       "      <td>1.0</td>\n",
       "      <td>1.0</td>\n",
       "      <td>1.0</td>\n",
       "      <td>1</td>\n",
       "      <td>0</td>\n",
       "      <td>0</td>\n",
       "    </tr>\n",
       "    <tr>\n",
       "      <th>2</th>\n",
       "      <td>0020ccbbb6d84e358d3414a3ff76cffd</td>\n",
       "      <td>9b98b8c7a33c4b65b9aebfe6a799e6d9</td>\n",
       "      <td>1</td>\n",
       "      <td>24</td>\n",
       "      <td>60000.0</td>\n",
       "      <td>1071.0</td>\n",
       "      <td>1</td>\n",
       "      <td>0.0</td>\n",
       "      <td>[web, email, mobile]</td>\n",
       "      <td>5</td>\n",
       "      <td>...</td>\n",
       "      <td>7</td>\n",
       "      <td>bogo</td>\n",
       "      <td>5</td>\n",
       "      <td>1.0</td>\n",
       "      <td>1.0</td>\n",
       "      <td>0.0</td>\n",
       "      <td>1.0</td>\n",
       "      <td>1</td>\n",
       "      <td>0</td>\n",
       "      <td>0</td>\n",
       "    </tr>\n",
       "    <tr>\n",
       "      <th>3</th>\n",
       "      <td>0020ccbbb6d84e358d3414a3ff76cffd</td>\n",
       "      <td>f19421c1d4aa40978ebb69ca19b0e20d</td>\n",
       "      <td>1</td>\n",
       "      <td>24</td>\n",
       "      <td>60000.0</td>\n",
       "      <td>1071.0</td>\n",
       "      <td>1</td>\n",
       "      <td>0.0</td>\n",
       "      <td>[web, email, mobile, social]</td>\n",
       "      <td>5</td>\n",
       "      <td>...</td>\n",
       "      <td>5</td>\n",
       "      <td>bogo</td>\n",
       "      <td>5</td>\n",
       "      <td>1.0</td>\n",
       "      <td>1.0</td>\n",
       "      <td>1.0</td>\n",
       "      <td>1.0</td>\n",
       "      <td>1</td>\n",
       "      <td>0</td>\n",
       "      <td>0</td>\n",
       "    </tr>\n",
       "    <tr>\n",
       "      <th>4</th>\n",
       "      <td>004b041fbfe44859945daa2c7f79ee64</td>\n",
       "      <td>f19421c1d4aa40978ebb69ca19b0e20d</td>\n",
       "      <td>1</td>\n",
       "      <td>55</td>\n",
       "      <td>74000.0</td>\n",
       "      <td>158.0</td>\n",
       "      <td>1</td>\n",
       "      <td>0.0</td>\n",
       "      <td>[web, email, mobile, social]</td>\n",
       "      <td>5</td>\n",
       "      <td>...</td>\n",
       "      <td>5</td>\n",
       "      <td>bogo</td>\n",
       "      <td>5</td>\n",
       "      <td>1.0</td>\n",
       "      <td>1.0</td>\n",
       "      <td>1.0</td>\n",
       "      <td>1.0</td>\n",
       "      <td>1</td>\n",
       "      <td>0</td>\n",
       "      <td>0</td>\n",
       "    </tr>\n",
       "  </tbody>\n",
       "</table>\n",
       "<p>5 rows × 29 columns</p>\n",
       "</div>"
      ],
      "text/plain": [
       "                             person                          offer_id  \\\n",
       "0  0011e0d4e6b944f998e987f904e8c1e5  9b98b8c7a33c4b65b9aebfe6a799e6d9   \n",
       "1  0020c2b971eb4e9188eac86d93036a77  4d5c57ea9a6940dd891ad53e9dbe8da0   \n",
       "2  0020ccbbb6d84e358d3414a3ff76cffd  9b98b8c7a33c4b65b9aebfe6a799e6d9   \n",
       "3  0020ccbbb6d84e358d3414a3ff76cffd  f19421c1d4aa40978ebb69ca19b0e20d   \n",
       "4  004b041fbfe44859945daa2c7f79ee64  f19421c1d4aa40978ebb69ca19b0e20d   \n",
       "\n",
       "   effective_offer  age   income  since_he_membered  offer_received_cnt  \\\n",
       "0                1   40  57000.0               39.0                   1   \n",
       "1                1   59  90000.0              824.0                   1   \n",
       "2                1   24  60000.0             1071.0                   1   \n",
       "3                1   24  60000.0             1071.0                   1   \n",
       "4                1   55  74000.0              158.0                   1   \n",
       "\n",
       "   amount_invalid                    channels_x  difficulty_x    ...     \\\n",
       "0             0.0          [web, email, mobile]             5    ...      \n",
       "1             0.0  [web, email, mobile, social]            10    ...      \n",
       "2             0.0          [web, email, mobile]             5    ...      \n",
       "3             0.0  [web, email, mobile, social]             5    ...      \n",
       "4             0.0  [web, email, mobile, social]             5    ...      \n",
       "\n",
       "   duration offer_type  reward  web  email  social mobile  gender_F  gender_M  \\\n",
       "0         7       bogo       5  1.0    1.0     0.0    1.0         0         0   \n",
       "1         5       bogo      10  1.0    1.0     1.0    1.0         1         0   \n",
       "2         7       bogo       5  1.0    1.0     0.0    1.0         1         0   \n",
       "3         5       bogo       5  1.0    1.0     1.0    1.0         1         0   \n",
       "4         5       bogo       5  1.0    1.0     1.0    1.0         1         0   \n",
       "\n",
       "   gender_O  \n",
       "0         1  \n",
       "1         0  \n",
       "2         0  \n",
       "3         0  \n",
       "4         0  \n",
       "\n",
       "[5 rows x 29 columns]"
      ]
     },
     "execution_count": 95,
     "metadata": {},
     "output_type": "execute_result"
    }
   ],
   "source": [
    "offers_bogo.head()"
   ]
  },
  {
   "cell_type": "code",
   "execution_count": 48,
   "metadata": {},
   "outputs": [],
   "source": [
    "def discount_offers_features_prep(df):\n",
    "    \n",
    "    '''\n",
    "    inputs:\n",
    "    df: original dataframe for modeling \n",
    "    \n",
    "    outputs:\n",
    "    Returns dataframe containing engineered features, \n",
    "    filled missing values and cleaned and transformed variables (channel and gender)\n",
    "       \n",
    "    '''\n",
    "    #merge to get engineered features \n",
    "    df = df.merge(df_offer_received_cnt[['person','offer_id','offer_received_cnt']],how = 'left',on = ['person','offer_id'])\n",
    "    df = df.merge(transactions_not_related[['person','offer_id','amount_invalid']],how = 'left',on = ['person','offer_id'])\n",
    "    \n",
    "    #fill missing values for amount_invalid with 0\n",
    "    df['amount_invalid'] = df['amount_invalid'].fillna(value=0)\n",
    "    \n",
    "    #drop income and gender null rows\n",
    "    df.dropna(inplace = True);\n",
    "    \n",
    "    #merge with portfolio to get offer details\n",
    "    df = df.merge(portfolio,how = 'left',on = 'offer_id')\n",
    "\n",
    "    #convert channels into categorical variables\n",
    "    for index, row in df.iterrows():\n",
    "        for channel in ['web', 'email', 'social', 'mobile']:\n",
    "            if channel in df.loc[index, 'channels']:\n",
    "                df.loc[index, channel] = 1\n",
    "            else:\n",
    "                df.loc[index, channel] = 0\n",
    "    df = df.drop(['channels'], axis = 1, inplace=False)\n",
    "    \n",
    "    #convert gender column into dummy variables\n",
    "    df = dummy(df,'gender')\n",
    "\n",
    "    return df"
   ]
  },
  {
   "cell_type": "code",
   "execution_count": 49,
   "metadata": {},
   "outputs": [],
   "source": [
    "#prepare data for offer_discounts\n",
    "offers_discount = discount_offers_features_prep(offers_discount)"
   ]
  },
  {
   "cell_type": "code",
   "execution_count": 50,
   "metadata": {},
   "outputs": [
    {
     "data": {
      "text/html": [
       "<div>\n",
       "<style scoped>\n",
       "    .dataframe tbody tr th:only-of-type {\n",
       "        vertical-align: middle;\n",
       "    }\n",
       "\n",
       "    .dataframe tbody tr th {\n",
       "        vertical-align: top;\n",
       "    }\n",
       "\n",
       "    .dataframe thead th {\n",
       "        text-align: right;\n",
       "    }\n",
       "</style>\n",
       "<table border=\"1\" class=\"dataframe\">\n",
       "  <thead>\n",
       "    <tr style=\"text-align: right;\">\n",
       "      <th></th>\n",
       "      <th>person</th>\n",
       "      <th>offer_id</th>\n",
       "      <th>effective_offer</th>\n",
       "      <th>age</th>\n",
       "      <th>income</th>\n",
       "      <th>since_he_membered</th>\n",
       "      <th>offer_received_cnt</th>\n",
       "      <th>amount_invalid</th>\n",
       "      <th>difficulty</th>\n",
       "      <th>duration</th>\n",
       "      <th>offer_type</th>\n",
       "      <th>reward</th>\n",
       "      <th>web</th>\n",
       "      <th>email</th>\n",
       "      <th>social</th>\n",
       "      <th>mobile</th>\n",
       "      <th>gender_F</th>\n",
       "      <th>gender_M</th>\n",
       "      <th>gender_O</th>\n",
       "    </tr>\n",
       "  </thead>\n",
       "  <tbody>\n",
       "    <tr>\n",
       "      <th>0</th>\n",
       "      <td>0011e0d4e6b944f998e987f904e8c1e5</td>\n",
       "      <td>0b1e1539f2cc45b7b9fa7c272da2e1d7</td>\n",
       "      <td>1</td>\n",
       "      <td>40</td>\n",
       "      <td>57000.0</td>\n",
       "      <td>39.0</td>\n",
       "      <td>1</td>\n",
       "      <td>0.0</td>\n",
       "      <td>20</td>\n",
       "      <td>10</td>\n",
       "      <td>discount</td>\n",
       "      <td>5</td>\n",
       "      <td>1.0</td>\n",
       "      <td>1.0</td>\n",
       "      <td>0.0</td>\n",
       "      <td>0.0</td>\n",
       "      <td>0</td>\n",
       "      <td>0</td>\n",
       "      <td>1</td>\n",
       "    </tr>\n",
       "    <tr>\n",
       "      <th>1</th>\n",
       "      <td>0011e0d4e6b944f998e987f904e8c1e5</td>\n",
       "      <td>2298d6c36e964ae4a3e7e9706d1fb8c2</td>\n",
       "      <td>1</td>\n",
       "      <td>40</td>\n",
       "      <td>57000.0</td>\n",
       "      <td>39.0</td>\n",
       "      <td>1</td>\n",
       "      <td>0.0</td>\n",
       "      <td>7</td>\n",
       "      <td>7</td>\n",
       "      <td>discount</td>\n",
       "      <td>3</td>\n",
       "      <td>1.0</td>\n",
       "      <td>1.0</td>\n",
       "      <td>1.0</td>\n",
       "      <td>1.0</td>\n",
       "      <td>0</td>\n",
       "      <td>0</td>\n",
       "      <td>1</td>\n",
       "    </tr>\n",
       "    <tr>\n",
       "      <th>2</th>\n",
       "      <td>0020c2b971eb4e9188eac86d93036a77</td>\n",
       "      <td>fafdcd668e3743c1bb461111dcafc2a4</td>\n",
       "      <td>1</td>\n",
       "      <td>59</td>\n",
       "      <td>90000.0</td>\n",
       "      <td>824.0</td>\n",
       "      <td>2</td>\n",
       "      <td>0.0</td>\n",
       "      <td>10</td>\n",
       "      <td>10</td>\n",
       "      <td>discount</td>\n",
       "      <td>2</td>\n",
       "      <td>1.0</td>\n",
       "      <td>1.0</td>\n",
       "      <td>1.0</td>\n",
       "      <td>1.0</td>\n",
       "      <td>1</td>\n",
       "      <td>0</td>\n",
       "      <td>0</td>\n",
       "    </tr>\n",
       "    <tr>\n",
       "      <th>3</th>\n",
       "      <td>0020ccbbb6d84e358d3414a3ff76cffd</td>\n",
       "      <td>2298d6c36e964ae4a3e7e9706d1fb8c2</td>\n",
       "      <td>1</td>\n",
       "      <td>24</td>\n",
       "      <td>60000.0</td>\n",
       "      <td>1071.0</td>\n",
       "      <td>1</td>\n",
       "      <td>0.0</td>\n",
       "      <td>7</td>\n",
       "      <td>7</td>\n",
       "      <td>discount</td>\n",
       "      <td>3</td>\n",
       "      <td>1.0</td>\n",
       "      <td>1.0</td>\n",
       "      <td>1.0</td>\n",
       "      <td>1.0</td>\n",
       "      <td>1</td>\n",
       "      <td>0</td>\n",
       "      <td>0</td>\n",
       "    </tr>\n",
       "    <tr>\n",
       "      <th>4</th>\n",
       "      <td>003d66b6608740288d6cc97a6903f4f0</td>\n",
       "      <td>fafdcd668e3743c1bb461111dcafc2a4</td>\n",
       "      <td>1</td>\n",
       "      <td>26</td>\n",
       "      <td>73000.0</td>\n",
       "      <td>566.0</td>\n",
       "      <td>2</td>\n",
       "      <td>0.0</td>\n",
       "      <td>10</td>\n",
       "      <td>10</td>\n",
       "      <td>discount</td>\n",
       "      <td>2</td>\n",
       "      <td>1.0</td>\n",
       "      <td>1.0</td>\n",
       "      <td>1.0</td>\n",
       "      <td>1.0</td>\n",
       "      <td>1</td>\n",
       "      <td>0</td>\n",
       "      <td>0</td>\n",
       "    </tr>\n",
       "  </tbody>\n",
       "</table>\n",
       "</div>"
      ],
      "text/plain": [
       "                             person                          offer_id  \\\n",
       "0  0011e0d4e6b944f998e987f904e8c1e5  0b1e1539f2cc45b7b9fa7c272da2e1d7   \n",
       "1  0011e0d4e6b944f998e987f904e8c1e5  2298d6c36e964ae4a3e7e9706d1fb8c2   \n",
       "2  0020c2b971eb4e9188eac86d93036a77  fafdcd668e3743c1bb461111dcafc2a4   \n",
       "3  0020ccbbb6d84e358d3414a3ff76cffd  2298d6c36e964ae4a3e7e9706d1fb8c2   \n",
       "4  003d66b6608740288d6cc97a6903f4f0  fafdcd668e3743c1bb461111dcafc2a4   \n",
       "\n",
       "   effective_offer  age   income  since_he_membered  offer_received_cnt  \\\n",
       "0                1   40  57000.0               39.0                   1   \n",
       "1                1   40  57000.0               39.0                   1   \n",
       "2                1   59  90000.0              824.0                   2   \n",
       "3                1   24  60000.0             1071.0                   1   \n",
       "4                1   26  73000.0              566.0                   2   \n",
       "\n",
       "   amount_invalid  difficulty  duration offer_type  reward  web  email  \\\n",
       "0             0.0          20        10   discount       5  1.0    1.0   \n",
       "1             0.0           7         7   discount       3  1.0    1.0   \n",
       "2             0.0          10        10   discount       2  1.0    1.0   \n",
       "3             0.0           7         7   discount       3  1.0    1.0   \n",
       "4             0.0          10        10   discount       2  1.0    1.0   \n",
       "\n",
       "   social  mobile  gender_F  gender_M  gender_O  \n",
       "0     0.0     0.0         0         0         1  \n",
       "1     1.0     1.0         0         0         1  \n",
       "2     1.0     1.0         1         0         0  \n",
       "3     1.0     1.0         1         0         0  \n",
       "4     1.0     1.0         1         0         0  "
      ]
     },
     "execution_count": 50,
     "metadata": {},
     "output_type": "execute_result"
    }
   ],
   "source": [
    "offers_discount.head()"
   ]
  },
  {
   "cell_type": "code",
   "execution_count": 51,
   "metadata": {},
   "outputs": [],
   "source": [
    "#merge with portfolio to get offer details\n",
    "offers_info = offers_info.merge(portfolio,how='left',on='offer_id')\n",
    "\n",
    "#reset index for offers_info\n",
    "offers_info = offers_info.reset_index().drop(['index'],axis=1,inplace=False)\n",
    "\n",
    "\n",
    "#convert channels into categorical variables\n",
    "for index, row in offers_info.iterrows():\n",
    "    for channel in ['web', 'email', 'social', 'mobile']:\n",
    "        if channel in offers_info.loc[index, 'channels']:\n",
    "            offers_info.loc[index, channel] = 1\n",
    "        else:\n",
    "            offers_info.loc[index, channel] = 0\n",
    "offers_info = offers_info.drop(['channels'], axis=1, inplace=False)"
   ]
  },
  {
   "cell_type": "code",
   "execution_count": 234,
   "metadata": {},
   "outputs": [
    {
     "data": {
      "text/html": [
       "<div>\n",
       "<style scoped>\n",
       "    .dataframe tbody tr th:only-of-type {\n",
       "        vertical-align: middle;\n",
       "    }\n",
       "\n",
       "    .dataframe tbody tr th {\n",
       "        vertical-align: top;\n",
       "    }\n",
       "\n",
       "    .dataframe thead th {\n",
       "        text-align: right;\n",
       "    }\n",
       "</style>\n",
       "<table border=\"1\" class=\"dataframe\">\n",
       "  <thead>\n",
       "    <tr style=\"text-align: right;\">\n",
       "      <th></th>\n",
       "      <th>person</th>\n",
       "      <th>offer_id</th>\n",
       "      <th>effective_offer</th>\n",
       "      <th>age</th>\n",
       "      <th>gender</th>\n",
       "      <th>income</th>\n",
       "      <th>since_he_membered</th>\n",
       "      <th>difficulty</th>\n",
       "      <th>duration</th>\n",
       "      <th>offer_type</th>\n",
       "      <th>reward</th>\n",
       "      <th>web</th>\n",
       "      <th>email</th>\n",
       "      <th>social</th>\n",
       "      <th>mobile</th>\n",
       "    </tr>\n",
       "  </thead>\n",
       "  <tbody>\n",
       "    <tr>\n",
       "      <th>0</th>\n",
       "      <td>0009655768c64bdeb2e877511632db8f</td>\n",
       "      <td>3f207df678b143eea3cee63160fa8bed</td>\n",
       "      <td>1</td>\n",
       "      <td>33</td>\n",
       "      <td>M</td>\n",
       "      <td>72000.0</td>\n",
       "      <td>506.0</td>\n",
       "      <td>0</td>\n",
       "      <td>4</td>\n",
       "      <td>informational</td>\n",
       "      <td>0</td>\n",
       "      <td>1.0</td>\n",
       "      <td>1.0</td>\n",
       "      <td>0.0</td>\n",
       "      <td>1.0</td>\n",
       "    </tr>\n",
       "    <tr>\n",
       "      <th>1</th>\n",
       "      <td>0009655768c64bdeb2e877511632db8f</td>\n",
       "      <td>5a8bc65990b245e5a138643cd4eb9837</td>\n",
       "      <td>1</td>\n",
       "      <td>33</td>\n",
       "      <td>M</td>\n",
       "      <td>72000.0</td>\n",
       "      <td>506.0</td>\n",
       "      <td>0</td>\n",
       "      <td>3</td>\n",
       "      <td>informational</td>\n",
       "      <td>0</td>\n",
       "      <td>0.0</td>\n",
       "      <td>1.0</td>\n",
       "      <td>1.0</td>\n",
       "      <td>1.0</td>\n",
       "    </tr>\n",
       "    <tr>\n",
       "      <th>2</th>\n",
       "      <td>0020c2b971eb4e9188eac86d93036a77</td>\n",
       "      <td>5a8bc65990b245e5a138643cd4eb9837</td>\n",
       "      <td>1</td>\n",
       "      <td>59</td>\n",
       "      <td>F</td>\n",
       "      <td>90000.0</td>\n",
       "      <td>824.0</td>\n",
       "      <td>0</td>\n",
       "      <td>3</td>\n",
       "      <td>informational</td>\n",
       "      <td>0</td>\n",
       "      <td>0.0</td>\n",
       "      <td>1.0</td>\n",
       "      <td>1.0</td>\n",
       "      <td>1.0</td>\n",
       "    </tr>\n",
       "    <tr>\n",
       "      <th>3</th>\n",
       "      <td>0020ccbbb6d84e358d3414a3ff76cffd</td>\n",
       "      <td>5a8bc65990b245e5a138643cd4eb9837</td>\n",
       "      <td>1</td>\n",
       "      <td>24</td>\n",
       "      <td>F</td>\n",
       "      <td>60000.0</td>\n",
       "      <td>1071.0</td>\n",
       "      <td>0</td>\n",
       "      <td>3</td>\n",
       "      <td>informational</td>\n",
       "      <td>0</td>\n",
       "      <td>0.0</td>\n",
       "      <td>1.0</td>\n",
       "      <td>1.0</td>\n",
       "      <td>1.0</td>\n",
       "    </tr>\n",
       "    <tr>\n",
       "      <th>4</th>\n",
       "      <td>003d66b6608740288d6cc97a6903f4f0</td>\n",
       "      <td>3f207df678b143eea3cee63160fa8bed</td>\n",
       "      <td>1</td>\n",
       "      <td>26</td>\n",
       "      <td>F</td>\n",
       "      <td>73000.0</td>\n",
       "      <td>566.0</td>\n",
       "      <td>0</td>\n",
       "      <td>4</td>\n",
       "      <td>informational</td>\n",
       "      <td>0</td>\n",
       "      <td>1.0</td>\n",
       "      <td>1.0</td>\n",
       "      <td>0.0</td>\n",
       "      <td>1.0</td>\n",
       "    </tr>\n",
       "  </tbody>\n",
       "</table>\n",
       "</div>"
      ],
      "text/plain": [
       "                             person                          offer_id  \\\n",
       "0  0009655768c64bdeb2e877511632db8f  3f207df678b143eea3cee63160fa8bed   \n",
       "1  0009655768c64bdeb2e877511632db8f  5a8bc65990b245e5a138643cd4eb9837   \n",
       "2  0020c2b971eb4e9188eac86d93036a77  5a8bc65990b245e5a138643cd4eb9837   \n",
       "3  0020ccbbb6d84e358d3414a3ff76cffd  5a8bc65990b245e5a138643cd4eb9837   \n",
       "4  003d66b6608740288d6cc97a6903f4f0  3f207df678b143eea3cee63160fa8bed   \n",
       "\n",
       "   effective_offer  age gender   income  since_he_membered  difficulty  \\\n",
       "0                1   33      M  72000.0              506.0           0   \n",
       "1                1   33      M  72000.0              506.0           0   \n",
       "2                1   59      F  90000.0              824.0           0   \n",
       "3                1   24      F  60000.0             1071.0           0   \n",
       "4                1   26      F  73000.0              566.0           0   \n",
       "\n",
       "   duration     offer_type  reward  web  email  social  mobile  \n",
       "0         4  informational       0  1.0    1.0     0.0     1.0  \n",
       "1         3  informational       0  0.0    1.0     1.0     1.0  \n",
       "2         3  informational       0  0.0    1.0     1.0     1.0  \n",
       "3         3  informational       0  0.0    1.0     1.0     1.0  \n",
       "4         4  informational       0  1.0    1.0     0.0     1.0  "
      ]
     },
     "execution_count": 234,
     "metadata": {},
     "output_type": "execute_result"
    }
   ],
   "source": [
    "offers_info.head()"
   ]
  },
  {
   "cell_type": "code",
   "execution_count": 52,
   "metadata": {},
   "outputs": [],
   "source": [
    "# re-purpose function for offers_info\n",
    "def offers_info_features_prep(df):\n",
    "    '''\n",
    "    inputs:\n",
    "    df: dataframe to be transformed \n",
    "    \n",
    "    outputs:\n",
    "    Returns dataframe with engineered features and filled missing values, with transformed gender column.\n",
    "       \n",
    "    '''\n",
    "    #merge to get engineered features \n",
    "    df = df.merge(df_offer_received_cnt[['person','offer_id','offer_received_cnt']],how='left',on=['person','offer_id'])\n",
    "    df = df.merge(transactions_not_related[['person','offer_id','amount_invalid']],how='left',on=['person','offer_id'])\n",
    "\n",
    "    #fill missing values for amount_invalid and offer_received_cnt with 0\n",
    "    df['amount_invalid']= df['amount_invalid'].fillna(value=0)\n",
    "\n",
    "    #drop income and gender null rows\n",
    "    df.dropna(inplace=True);\n",
    "    \n",
    "    #convert gender column into dummy variables\n",
    "    df = dummy(df,'gender')\n",
    "    return df"
   ]
  },
  {
   "cell_type": "code",
   "execution_count": 53,
   "metadata": {},
   "outputs": [
    {
     "data": {
      "text/html": [
       "<div>\n",
       "<style scoped>\n",
       "    .dataframe tbody tr th:only-of-type {\n",
       "        vertical-align: middle;\n",
       "    }\n",
       "\n",
       "    .dataframe tbody tr th {\n",
       "        vertical-align: top;\n",
       "    }\n",
       "\n",
       "    .dataframe thead th {\n",
       "        text-align: right;\n",
       "    }\n",
       "</style>\n",
       "<table border=\"1\" class=\"dataframe\">\n",
       "  <thead>\n",
       "    <tr style=\"text-align: right;\">\n",
       "      <th></th>\n",
       "      <th>person</th>\n",
       "      <th>offer_id</th>\n",
       "      <th>effective_offer</th>\n",
       "      <th>age</th>\n",
       "      <th>income</th>\n",
       "      <th>since_he_membered</th>\n",
       "      <th>difficulty</th>\n",
       "      <th>duration</th>\n",
       "      <th>offer_type</th>\n",
       "      <th>reward</th>\n",
       "      <th>web</th>\n",
       "      <th>email</th>\n",
       "      <th>social</th>\n",
       "      <th>mobile</th>\n",
       "      <th>offer_received_cnt</th>\n",
       "      <th>amount_invalid</th>\n",
       "      <th>gender_F</th>\n",
       "      <th>gender_M</th>\n",
       "      <th>gender_O</th>\n",
       "    </tr>\n",
       "  </thead>\n",
       "  <tbody>\n",
       "    <tr>\n",
       "      <th>0</th>\n",
       "      <td>0009655768c64bdeb2e877511632db8f</td>\n",
       "      <td>3f207df678b143eea3cee63160fa8bed</td>\n",
       "      <td>1</td>\n",
       "      <td>33</td>\n",
       "      <td>72000.0</td>\n",
       "      <td>506.0</td>\n",
       "      <td>0</td>\n",
       "      <td>4</td>\n",
       "      <td>informational</td>\n",
       "      <td>0</td>\n",
       "      <td>1.0</td>\n",
       "      <td>1.0</td>\n",
       "      <td>0.0</td>\n",
       "      <td>1.0</td>\n",
       "      <td>1.0</td>\n",
       "      <td>0.00</td>\n",
       "      <td>0</td>\n",
       "      <td>1</td>\n",
       "      <td>0</td>\n",
       "    </tr>\n",
       "    <tr>\n",
       "      <th>1</th>\n",
       "      <td>0009655768c64bdeb2e877511632db8f</td>\n",
       "      <td>5a8bc65990b245e5a138643cd4eb9837</td>\n",
       "      <td>1</td>\n",
       "      <td>33</td>\n",
       "      <td>72000.0</td>\n",
       "      <td>506.0</td>\n",
       "      <td>0</td>\n",
       "      <td>3</td>\n",
       "      <td>informational</td>\n",
       "      <td>0</td>\n",
       "      <td>0.0</td>\n",
       "      <td>1.0</td>\n",
       "      <td>1.0</td>\n",
       "      <td>1.0</td>\n",
       "      <td>1.0</td>\n",
       "      <td>0.00</td>\n",
       "      <td>0</td>\n",
       "      <td>1</td>\n",
       "      <td>0</td>\n",
       "    </tr>\n",
       "    <tr>\n",
       "      <th>2</th>\n",
       "      <td>0020c2b971eb4e9188eac86d93036a77</td>\n",
       "      <td>5a8bc65990b245e5a138643cd4eb9837</td>\n",
       "      <td>1</td>\n",
       "      <td>59</td>\n",
       "      <td>90000.0</td>\n",
       "      <td>824.0</td>\n",
       "      <td>0</td>\n",
       "      <td>3</td>\n",
       "      <td>informational</td>\n",
       "      <td>0</td>\n",
       "      <td>0.0</td>\n",
       "      <td>1.0</td>\n",
       "      <td>1.0</td>\n",
       "      <td>1.0</td>\n",
       "      <td>1.0</td>\n",
       "      <td>0.00</td>\n",
       "      <td>1</td>\n",
       "      <td>0</td>\n",
       "      <td>0</td>\n",
       "    </tr>\n",
       "    <tr>\n",
       "      <th>3</th>\n",
       "      <td>0020ccbbb6d84e358d3414a3ff76cffd</td>\n",
       "      <td>5a8bc65990b245e5a138643cd4eb9837</td>\n",
       "      <td>1</td>\n",
       "      <td>24</td>\n",
       "      <td>60000.0</td>\n",
       "      <td>1071.0</td>\n",
       "      <td>0</td>\n",
       "      <td>3</td>\n",
       "      <td>informational</td>\n",
       "      <td>0</td>\n",
       "      <td>0.0</td>\n",
       "      <td>1.0</td>\n",
       "      <td>1.0</td>\n",
       "      <td>1.0</td>\n",
       "      <td>1.0</td>\n",
       "      <td>16.27</td>\n",
       "      <td>1</td>\n",
       "      <td>0</td>\n",
       "      <td>0</td>\n",
       "    </tr>\n",
       "    <tr>\n",
       "      <th>4</th>\n",
       "      <td>003d66b6608740288d6cc97a6903f4f0</td>\n",
       "      <td>3f207df678b143eea3cee63160fa8bed</td>\n",
       "      <td>1</td>\n",
       "      <td>26</td>\n",
       "      <td>73000.0</td>\n",
       "      <td>566.0</td>\n",
       "      <td>0</td>\n",
       "      <td>4</td>\n",
       "      <td>informational</td>\n",
       "      <td>0</td>\n",
       "      <td>1.0</td>\n",
       "      <td>1.0</td>\n",
       "      <td>0.0</td>\n",
       "      <td>1.0</td>\n",
       "      <td>1.0</td>\n",
       "      <td>0.00</td>\n",
       "      <td>1</td>\n",
       "      <td>0</td>\n",
       "      <td>0</td>\n",
       "    </tr>\n",
       "  </tbody>\n",
       "</table>\n",
       "</div>"
      ],
      "text/plain": [
       "                             person                          offer_id  \\\n",
       "0  0009655768c64bdeb2e877511632db8f  3f207df678b143eea3cee63160fa8bed   \n",
       "1  0009655768c64bdeb2e877511632db8f  5a8bc65990b245e5a138643cd4eb9837   \n",
       "2  0020c2b971eb4e9188eac86d93036a77  5a8bc65990b245e5a138643cd4eb9837   \n",
       "3  0020ccbbb6d84e358d3414a3ff76cffd  5a8bc65990b245e5a138643cd4eb9837   \n",
       "4  003d66b6608740288d6cc97a6903f4f0  3f207df678b143eea3cee63160fa8bed   \n",
       "\n",
       "   effective_offer  age   income  since_he_membered  difficulty  duration  \\\n",
       "0                1   33  72000.0              506.0           0         4   \n",
       "1                1   33  72000.0              506.0           0         3   \n",
       "2                1   59  90000.0              824.0           0         3   \n",
       "3                1   24  60000.0             1071.0           0         3   \n",
       "4                1   26  73000.0              566.0           0         4   \n",
       "\n",
       "      offer_type  reward  web  email  social  mobile  offer_received_cnt  \\\n",
       "0  informational       0  1.0    1.0     0.0     1.0                 1.0   \n",
       "1  informational       0  0.0    1.0     1.0     1.0                 1.0   \n",
       "2  informational       0  0.0    1.0     1.0     1.0                 1.0   \n",
       "3  informational       0  0.0    1.0     1.0     1.0                 1.0   \n",
       "4  informational       0  1.0    1.0     0.0     1.0                 1.0   \n",
       "\n",
       "   amount_invalid  gender_F  gender_M  gender_O  \n",
       "0            0.00         0         1         0  \n",
       "1            0.00         0         1         0  \n",
       "2            0.00         1         0         0  \n",
       "3           16.27         1         0         0  \n",
       "4            0.00         1         0         0  "
      ]
     },
     "execution_count": 53,
     "metadata": {},
     "output_type": "execute_result"
    }
   ],
   "source": [
    "offers_info = offers_info_features_prep(offers_info)\n",
    "offers_info.head()"
   ]
  },
  {
   "cell_type": "markdown",
   "metadata": {},
   "source": [
    "# Implementation"
   ]
  },
  {
   "cell_type": "markdown",
   "metadata": {},
   "source": [
    "Dataset is ready and even feature engineering placed. effective_offer is target feature\n",
    "\n",
    "By target variable we could say its comes under classification method.\n",
    "\n",
    "under classification I decided to use:\n",
    "    \n",
    "    1. Decision Tree classifier\n",
    "    \n",
    "    2. Ensemble Random forest classifier\n",
    "    \n",
    "    The above two classifier will help me to find best score among cllasifier models\n",
    "   \n",
    "   \n",
    "For classifier dataset, must check dataset balanced   "
   ]
  },
  {
   "cell_type": "code",
   "execution_count": 54,
   "metadata": {},
   "outputs": [
    {
     "name": "stdout",
     "output_type": "stream",
     "text": [
      "                  person\n",
      "effective_offer         \n",
      "0                0.17783\n",
      "1                0.82217\n",
      "                   person\n",
      "effective_offer          \n",
      "0                0.135256\n",
      "1                0.864744\n",
      "                 person\n",
      "effective_offer        \n",
      "0                0.2611\n",
      "1                0.7389\n"
     ]
    }
   ],
   "source": [
    "# check for class data balance\n",
    "\n",
    "print(offers_bogo[['person','effective_offer']].groupby('effective_offer').count()/len(offers_bogo))\n",
    "\n",
    "print(offers_discount[['person','effective_offer']].groupby('effective_offer').count()/len(offers_discount))\n",
    "\n",
    "print(offers_info[['person','effective_offer']].groupby('effective_offer').count()/len(offers_info))"
   ]
  },
  {
   "cell_type": "markdown",
   "metadata": {},
   "source": [
    "The effective_offer varible across 3 datasets is quiet imbalaced. Still we can implement the models as far as not too imbalanced.\n",
    "\n",
    "I used accuracy, f1 score as evalution metrics, however f1 score gives better metric evalution than accuracy score on imbalanced varibales."
   ]
  },
  {
   "cell_type": "markdown",
   "metadata": {},
   "source": [
    "# Model Preperation"
   ]
  },
  {
   "cell_type": "code",
   "execution_count": 55,
   "metadata": {},
   "outputs": [],
   "source": [
    "def attribute_response_variable(df,drop_col):\n",
    "    '''\n",
    "    input: dataframe and dropped columns\n",
    "    return : features and target variable dataset\n",
    "    '''\n",
    "    response = df['effective_offer']\n",
    "    attributes = df.drop(columns = drop_col,axis =1,inplace = False)\n",
    "    return attributes,response"
   ]
  },
  {
   "cell_type": "markdown",
   "metadata": {},
   "source": [
    "Split the data into train and test datasets. "
   ]
  },
  {
   "cell_type": "code",
   "execution_count": 56,
   "metadata": {},
   "outputs": [],
   "source": [
    "def test_train_split(attributes,response):\n",
    "    \n",
    "    '''\n",
    "    inputs:\n",
    "    features & target dataframe \n",
    "    \n",
    "    outputs:\n",
    "    Splits features and target dataframe to train and test sets, performs feature scaling on both datasets.\n",
    "    Outputs X_train, X_test, y_train and y_test dataframes\n",
    "    '''\n",
    "    \n",
    "    #split into training and test sets\n",
    "    X_train, X_test, y_train, y_test = train_test_split(attributes,response, test_size=0.20, random_state=42)\n",
    "\n",
    "    #fit and transform scaling on training data\n",
    "    scaler=StandardScaler()\n",
    "    X_train=scaler.fit_transform(X_train)\n",
    "\n",
    "    #scale test data\n",
    "    X_test=scaler.transform(X_test)\n",
    "    return X_train,X_test,y_train, y_test"
   ]
  },
  {
   "cell_type": "code",
   "execution_count": 57,
   "metadata": {},
   "outputs": [],
   "source": [
    "def train_predict(model, X_train, y_train, X_test, y_test): \n",
    "    '''\n",
    "    inputs:\n",
    "       - model: the learning algorithm to be trained and predicted on\n",
    "       - X_train: features training set\n",
    "       - y_train: review_scores_rating training set\n",
    "       - X_test: features testing set\n",
    "       - y_test: review_scores_rating testing set\n",
    "    '''\n",
    "    results = {}\n",
    "    \n",
    "    #Fit the learner to the training data and get training time\n",
    "    model = model.fit(X_train, y_train)\n",
    "    \n",
    "    # Get predictions on the test set(X_test)\n",
    "    predictions_test = model.predict(X_test)\n",
    "    predictions_train = model.predict(X_train)\n",
    "    \n",
    "    #add training accuracy to results\n",
    "    results['training_score']=model.score(X_train,y_train)\n",
    "    \n",
    "    #add testing accuracy to results\n",
    "    results['testing_score']=model.score(X_test,y_test)\n",
    "     \n",
    "    print(\"{} trained on {} samples.\".format(model.__class__.__name__, len(y_train)))\n",
    "    print(\"MSE_train: %.4f\" % mean_squared_error(y_train,predictions_train))\n",
    "    print(\"MSE_test: %.4f\" % mean_squared_error(y_test,predictions_test))\n",
    "    print(\"Training accuracy:%.4f\" % results['training_score'])\n",
    "    print(\"Test accuracy:%.4f\" % results['testing_score'])\n",
    "    print(classification_report(y_test, predictions_test,digits=4))\n",
    "    return results"
   ]
  },
  {
   "cell_type": "code",
   "execution_count": 58,
   "metadata": {},
   "outputs": [],
   "source": [
    "def run_model(clf1,clf2,name):\n",
    "    '''\n",
    "    inputs:\n",
    "    - clf1: first classifier model\n",
    "    - clf2: 2nd classifier model for comparison\n",
    "    - name: name of models for comparison\n",
    "    \n",
    "    outputs:\n",
    "    - Dataframe of results from model training and prediction\n",
    "    '''\n",
    "    \n",
    "    # Collect results on the learners\n",
    "    results = {}\n",
    "    for clf in [clf1, clf2]:\n",
    "        clf_name = clf.__class__.__name__ + '_' +name\n",
    "        results[clf_name] = {}\n",
    "        results[clf_name]= train_predict(clf, X_train, y_train, X_test, y_test)\n",
    "    return pd.DataFrame(results)"
   ]
  },
  {
   "cell_type": "markdown",
   "metadata": {},
   "source": [
    "#### i. BOGO offers model"
   ]
  },
  {
   "cell_type": "markdown",
   "metadata": {},
   "source": [
    "First we will try to build offers model. I initilized the models with randomly choosen parameters to check the initial performance.\n",
    "\n",
    "If performance is a factor to consider then we will use GridSearchCV"
   ]
  },
  {
   "cell_type": "code",
   "execution_count": 59,
   "metadata": {},
   "outputs": [
    {
     "name": "stdout",
     "output_type": "stream",
     "text": [
      "DecisionTreeClassifier trained on 9829 samples.\n",
      "MSE_train: 0.1777\n",
      "MSE_test: 0.1782\n",
      "Training accuracy:0.8223\n",
      "Test accuracy:0.8218\n",
      "             precision    recall  f1-score   support\n",
      "\n",
      "          0     0.0000    0.0000    0.0000       438\n",
      "          1     0.8218    1.0000    0.9022      2020\n",
      "\n",
      "avg / total     0.6754    0.8218    0.7414      2458\n",
      "\n"
     ]
    },
    {
     "name": "stderr",
     "output_type": "stream",
     "text": [
      "/opt/conda/lib/python3.6/site-packages/sklearn/metrics/classification.py:1135: UndefinedMetricWarning: Precision and F-score are ill-defined and being set to 0.0 in labels with no predicted samples.\n",
      "  'precision', 'predicted', average, warn_for)\n"
     ]
    },
    {
     "name": "stdout",
     "output_type": "stream",
     "text": [
      "RandomForestClassifier trained on 9829 samples.\n",
      "MSE_train: 0.1626\n",
      "MSE_test: 0.1733\n",
      "Training accuracy:0.8374\n",
      "Test accuracy:0.8267\n",
      "             precision    recall  f1-score   support\n",
      "\n",
      "          0     0.5732    0.1073    0.1808       438\n",
      "          1     0.8354    0.9827    0.9031      2020\n",
      "\n",
      "avg / total     0.7887    0.8267    0.7744      2458\n",
      "\n"
     ]
    }
   ],
   "source": [
    "drop_cols_prep = ['person','offer_id','effective_offer','offer_type']\n",
    "\n",
    "features,target = attribute_response_variable(offers_bogo,drop_cols_prep)\n",
    "\n",
    "X_train, X_test, y_train, y_test = test_train_split(features,target)\n",
    "\n",
    "#Initialize the model - baseline is DT model, bogo_1 model is RF model\n",
    "baseline = DecisionTreeClassifier(criterion='entropy',max_depth=5,random_state=2,min_samples_split=90,min_samples_leaf=50)\n",
    "\n",
    "bogo_1 = RandomForestClassifier(random_state=2,max_depth= 11, max_features= 'auto',\n",
    "                                min_samples_split= 10,n_estimators=20,min_samples_leaf=20)\n",
    "\n",
    "results = run_model(baseline,bogo_1,'bogo_1')"
   ]
  },
  {
   "cell_type": "markdown",
   "metadata": {},
   "source": [
    "Intersting both models have similar accuracy percentages (DT --> 82.23% and RF --> 83.74%). However in terms of F1score RF made 77.44% and which higher than DT 74.14%.\n",
    "\n",
    "By considering above factor we should say RF is performing better than DT."
   ]
  },
  {
   "cell_type": "markdown",
   "metadata": {},
   "source": [
    "#### ii. Discount offers model"
   ]
  },
  {
   "cell_type": "code",
   "execution_count": 60,
   "metadata": {},
   "outputs": [
    {
     "name": "stdout",
     "output_type": "stream",
     "text": [
      "DecisionTreeClassifier trained on 10179 samples.\n",
      "MSE_train: 0.1371\n",
      "MSE_test: 0.1277\n",
      "Training accuracy:0.8629\n",
      "Test accuracy:0.8723\n",
      "             precision    recall  f1-score   support\n",
      "\n",
      "          0     0.0000    0.0000    0.0000       325\n",
      "          1     0.8723    1.0000    0.9318      2220\n",
      "\n",
      "avg / total     0.7609    0.8723    0.8128      2545\n",
      "\n"
     ]
    },
    {
     "name": "stderr",
     "output_type": "stream",
     "text": [
      "/opt/conda/lib/python3.6/site-packages/sklearn/metrics/classification.py:1135: UndefinedMetricWarning: Precision and F-score are ill-defined and being set to 0.0 in labels with no predicted samples.\n",
      "  'precision', 'predicted', average, warn_for)\n"
     ]
    },
    {
     "name": "stdout",
     "output_type": "stream",
     "text": [
      "RandomForestClassifier trained on 10179 samples.\n",
      "MSE_train: 0.1271\n",
      "MSE_test: 0.1265\n",
      "Training accuracy:0.8729\n",
      "Test accuracy:0.8735\n",
      "             precision    recall  f1-score   support\n",
      "\n",
      "          0     0.5652    0.0400    0.0747       325\n",
      "          1     0.8763    0.9955    0.9321      2220\n",
      "\n",
      "avg / total     0.8366    0.8735    0.8226      2545\n",
      "\n"
     ]
    }
   ],
   "source": [
    "drop_cols_prep=['person','offer_id','effective_offer','offer_type']\n",
    "features,target=attribute_response_variable(offers_discount,drop_cols_prep)\n",
    "X_train, X_test, y_train, y_test=test_train_split(features,target)\n",
    "\n",
    "#Initialize the model\n",
    "discount_1 = RandomForestClassifier(random_state=2,max_depth= 20, max_features= 'auto',min_samples_split= 10,n_estimators=20,min_samples_leaf=10)\n",
    "results=pd.concat([results[:],run_model(baseline,discount_1,'discount_1')],axis=1)"
   ]
  },
  {
   "cell_type": "markdown",
   "metadata": {},
   "source": [
    "the Decision Tree Classifier model also has a better performance compared to the Random Forest Classifier in terms of accuracy (87.07% vs 87.23%), and the F1 score is also lower (81.71% vs 81.28%)."
   ]
  },
  {
   "cell_type": "markdown",
   "metadata": {},
   "source": [
    "### iii. Information offers model"
   ]
  },
  {
   "cell_type": "code",
   "execution_count": 61,
   "metadata": {},
   "outputs": [
    {
     "name": "stdout",
     "output_type": "stream",
     "text": [
      "DecisionTreeClassifier trained on 5585 samples.\n",
      "MSE_train: 0.2489\n",
      "MSE_test: 0.2598\n",
      "Training accuracy:0.7511\n",
      "Test accuracy:0.7402\n",
      "             precision    recall  f1-score   support\n",
      "\n",
      "          0     0.4722    0.1915    0.2725       355\n",
      "          1     0.7709    0.9271    0.8418      1042\n",
      "\n",
      "avg / total     0.6950    0.7402    0.6972      1397\n",
      "\n",
      "RandomForestClassifier trained on 5585 samples.\n",
      "MSE_train: 0.2299\n",
      "MSE_test: 0.2541\n",
      "Training accuracy:0.7701\n",
      "Test accuracy:0.7459\n",
      "             precision    recall  f1-score   support\n",
      "\n",
      "          0     0.5000    0.0845    0.1446       355\n",
      "          1     0.7569    0.9712    0.8508      1042\n",
      "\n",
      "avg / total     0.6916    0.7459    0.6713      1397\n",
      "\n"
     ]
    }
   ],
   "source": [
    "drop_cols_prep=['person','offer_id','effective_offer','offer_type']\n",
    "features,target=attribute_response_variable(offers_info,drop_cols_prep)\n",
    "X_train, X_test, y_train, y_test=test_train_split(features,target)\n",
    "\n",
    "#Initialize the model\n",
    "info_1 = RandomForestClassifier(random_state=5,criterion='gini',max_depth= 20, max_features= 'auto',min_samples_split= 10,n_estimators=20,min_samples_leaf=10)\n",
    "\n",
    "results=pd.concat([results[:],run_model(baseline,info_1,'info_1')],axis=1)"
   ]
  },
  {
   "cell_type": "markdown",
   "metadata": {},
   "source": [
    "Compare to BOGO and Discount, Information model performace is very low, however RF is again performing better.\n",
    "\n",
    "the F1 score is also very low score at 67.13% for RF, 69.72% for DT\n",
    "\n",
    "One potential reason for the worse performance is perhaps due to the fact that I had the key assumption to assign the conversion events to be transactions that only occur after an offer is viewed and within the specified duration; I might have missed out on some valuable information by removing those transactions that occur regardless. We can see this from how the overall sample dataset is smaller (about half) the datasets for the other 2 offers, with only about 5K samples compared to about 10K for both BOGO and discount respectively."
   ]
  },
  {
   "cell_type": "markdown",
   "metadata": {},
   "source": [
    "# Refinement"
   ]
  },
  {
   "cell_type": "markdown",
   "metadata": {},
   "source": [
    "In refining the model, I will first try parameter tuning for the 3 RF models, before experimenting with removing or adding features to improve model performance."
   ]
  },
  {
   "cell_type": "code",
   "execution_count": 62,
   "metadata": {},
   "outputs": [],
   "source": [
    "#define function to find best model results for each offer type\n",
    "def best_model(offer_type):\n",
    "    '''\n",
    "    input:\n",
    "    offer_type: string of offer type name\n",
    "    output:\n",
    "    dataframe containing results of best model so far\n",
    "    '''\n",
    "    \n",
    "    print('For ' + offer_type + ' RF model:')\n",
    "    return results.transpose()[results.transpose()['testing_score']==results.transpose()[results.transpose().index.str.contains(\"RandomForestClassifier_\"+offer_type)]['testing_score'].max()]"
   ]
  },
  {
   "cell_type": "markdown",
   "metadata": {},
   "source": [
    "## Grid serach to discover optimal parameters"
   ]
  },
  {
   "cell_type": "markdown",
   "metadata": {},
   "source": [
    "I decided to do GridSearch to determine what would be the optimal parameters for the model.\n",
    "\n",
    "For all three offers, the Random Forest model had relatively good performance, so I used Grid Search on this to determine the best parameters."
   ]
  },
  {
   "cell_type": "code",
   "execution_count": 63,
   "metadata": {},
   "outputs": [],
   "source": [
    "#define Grid Search function\n",
    "def rand_forest_param_selection(X,y):\n",
    "    '''\n",
    "    input:\n",
    "    X,y: training datasets for X and y\n",
    "    output:\n",
    "    dictionary with best parameters for random forest model\n",
    "    '''\n",
    "    \n",
    "    param_grid={'max_features': ['auto', 'sqrt'],\n",
    "                'max_depth' : [5,10,15,20],\n",
    "                'n_estimators': [25,30,40,50],\n",
    "                'min_samples_split': [2, 10, 20],\n",
    "                'min_samples_leaf': [2, 10,15, 20],\n",
    "                }\n",
    "    grid_search = GridSearchCV(RandomForestClassifier(random_state=2), param_grid)\n",
    "    grid_search.fit(X, y)\n",
    "    grid_search.best_params_\n",
    "    return grid_search.best_params_"
   ]
  },
  {
   "cell_type": "code",
   "execution_count": 64,
   "metadata": {},
   "outputs": [
    {
     "data": {
      "text/plain": [
       "{'max_depth': 10,\n",
       " 'max_features': 'auto',\n",
       " 'min_samples_leaf': 10,\n",
       " 'min_samples_split': 2,\n",
       " 'n_estimators': 40}"
      ]
     },
     "execution_count": 64,
     "metadata": {},
     "output_type": "execute_result"
    }
   ],
   "source": [
    "# Let define BOGO dataset\n",
    "drop_cols_prep=['person','offer_id','effective_offer','offer_type']\n",
    "features,target=attribute_response_variable(offers_bogo,drop_cols_prep)\n",
    "X_train, X_test, y_train, y_test=test_train_split(features,target)\n",
    "\n",
    "#run Grid Search - commented out because takes to long to run, but have put in selected params in model\n",
    "rand_forest_param_selection(X_train, y_train)"
   ]
  },
  {
   "cell_type": "markdown",
   "metadata": {},
   "source": [
    "Now we have optimal parameters and hence I will use these parameters to run the model again, and keeping DT as baseline model."
   ]
  },
  {
   "cell_type": "code",
   "execution_count": 66,
   "metadata": {},
   "outputs": [
    {
     "name": "stdout",
     "output_type": "stream",
     "text": [
      "DecisionTreeClassifier trained on 9829 samples.\n",
      "MSE_train: 0.1777\n",
      "MSE_test: 0.1782\n",
      "Training accuracy:0.8223\n",
      "Test accuracy:0.8218\n",
      "             precision    recall  f1-score   support\n",
      "\n",
      "          0     0.0000    0.0000    0.0000       438\n",
      "          1     0.8218    1.0000    0.9022      2020\n",
      "\n",
      "avg / total     0.6754    0.8218    0.7414      2458\n",
      "\n"
     ]
    },
    {
     "name": "stderr",
     "output_type": "stream",
     "text": [
      "/opt/conda/lib/python3.6/site-packages/sklearn/metrics/classification.py:1135: UndefinedMetricWarning: Precision and F-score are ill-defined and being set to 0.0 in labels with no predicted samples.\n",
      "  'precision', 'predicted', average, warn_for)\n"
     ]
    },
    {
     "name": "stdout",
     "output_type": "stream",
     "text": [
      "RandomForestClassifier trained on 9829 samples.\n",
      "MSE_train: 0.1549\n",
      "MSE_test: 0.1701\n",
      "Training accuracy:0.8451\n",
      "Test accuracy:0.8299\n",
      "             precision    recall  f1-score   support\n",
      "\n",
      "          0     0.6190    0.1187    0.1992       438\n",
      "          1     0.8374    0.9842    0.9049      2020\n",
      "\n",
      "avg / total     0.7985    0.8299    0.7791      2458\n",
      "\n"
     ]
    }
   ],
   "source": [
    "features,target = attribute_response_variable(offers_bogo,drop_cols_prep)\n",
    "X_train, X_test, y_train, y_test = test_train_split(features,target)\n",
    "\n",
    "#Initialize the model\n",
    "bogo_2 = RandomForestClassifier(random_state=2,max_depth= 10, max_features= 'auto',min_samples_split= 20,n_estimators=25,min_samples_leaf=2)\n",
    "\n",
    "results=pd.concat([results[:],run_model(baseline,bogo_2,'bogo_2')],axis=1)"
   ]
  },
  {
   "cell_type": "code",
   "execution_count": 67,
   "metadata": {},
   "outputs": [
    {
     "data": {
      "text/html": [
       "<div>\n",
       "<style scoped>\n",
       "    .dataframe tbody tr th:only-of-type {\n",
       "        vertical-align: middle;\n",
       "    }\n",
       "\n",
       "    .dataframe tbody tr th {\n",
       "        vertical-align: top;\n",
       "    }\n",
       "\n",
       "    .dataframe thead th {\n",
       "        text-align: right;\n",
       "    }\n",
       "</style>\n",
       "<table border=\"1\" class=\"dataframe\">\n",
       "  <thead>\n",
       "    <tr style=\"text-align: right;\">\n",
       "      <th></th>\n",
       "      <th>DecisionTreeClassifier_bogo_1</th>\n",
       "      <th>RandomForestClassifier_bogo_1</th>\n",
       "      <th>DecisionTreeClassifier_discount_1</th>\n",
       "      <th>RandomForestClassifier_discount_1</th>\n",
       "      <th>DecisionTreeClassifier_info_1</th>\n",
       "      <th>RandomForestClassifier_info_1</th>\n",
       "      <th>DecisionTreeClassifier_bogo_2</th>\n",
       "      <th>RandomForestClassifier_bogo_2</th>\n",
       "    </tr>\n",
       "  </thead>\n",
       "  <tbody>\n",
       "    <tr>\n",
       "      <th>testing_score</th>\n",
       "      <td>0.821806</td>\n",
       "      <td>0.826688</td>\n",
       "      <td>0.872299</td>\n",
       "      <td>0.873477</td>\n",
       "      <td>0.740157</td>\n",
       "      <td>0.745884</td>\n",
       "      <td>0.821806</td>\n",
       "      <td>0.829943</td>\n",
       "    </tr>\n",
       "    <tr>\n",
       "      <th>training_score</th>\n",
       "      <td>0.822261</td>\n",
       "      <td>0.837420</td>\n",
       "      <td>0.862855</td>\n",
       "      <td>0.872876</td>\n",
       "      <td>0.751119</td>\n",
       "      <td>0.770098</td>\n",
       "      <td>0.822261</td>\n",
       "      <td>0.845050</td>\n",
       "    </tr>\n",
       "  </tbody>\n",
       "</table>\n",
       "</div>"
      ],
      "text/plain": [
       "                DecisionTreeClassifier_bogo_1  RandomForestClassifier_bogo_1  \\\n",
       "testing_score                        0.821806                       0.826688   \n",
       "training_score                       0.822261                       0.837420   \n",
       "\n",
       "                DecisionTreeClassifier_discount_1  \\\n",
       "testing_score                            0.872299   \n",
       "training_score                           0.862855   \n",
       "\n",
       "                RandomForestClassifier_discount_1  \\\n",
       "testing_score                            0.873477   \n",
       "training_score                           0.872876   \n",
       "\n",
       "                DecisionTreeClassifier_info_1  RandomForestClassifier_info_1  \\\n",
       "testing_score                        0.740157                       0.745884   \n",
       "training_score                       0.751119                       0.770098   \n",
       "\n",
       "                DecisionTreeClassifier_bogo_2  RandomForestClassifier_bogo_2  \n",
       "testing_score                        0.821806                       0.829943  \n",
       "training_score                       0.822261                       0.845050  "
      ]
     },
     "execution_count": 67,
     "metadata": {},
     "output_type": "execute_result"
    }
   ],
   "source": [
    "results"
   ]
  },
  {
   "cell_type": "code",
   "execution_count": 68,
   "metadata": {},
   "outputs": [
    {
     "data": {
      "text/html": [
       "<div>\n",
       "<style scoped>\n",
       "    .dataframe tbody tr th:only-of-type {\n",
       "        vertical-align: middle;\n",
       "    }\n",
       "\n",
       "    .dataframe tbody tr th {\n",
       "        vertical-align: top;\n",
       "    }\n",
       "\n",
       "    .dataframe thead th {\n",
       "        text-align: right;\n",
       "    }\n",
       "</style>\n",
       "<table border=\"1\" class=\"dataframe\">\n",
       "  <thead>\n",
       "    <tr style=\"text-align: right;\">\n",
       "      <th></th>\n",
       "      <th>RandomForestClassifier_bogo_1</th>\n",
       "      <th>RandomForestClassifier_bogo_2</th>\n",
       "    </tr>\n",
       "  </thead>\n",
       "  <tbody>\n",
       "    <tr>\n",
       "      <th>testing_score</th>\n",
       "      <td>0.826688</td>\n",
       "      <td>0.829943</td>\n",
       "    </tr>\n",
       "    <tr>\n",
       "      <th>training_score</th>\n",
       "      <td>0.837420</td>\n",
       "      <td>0.845050</td>\n",
       "    </tr>\n",
       "  </tbody>\n",
       "</table>\n",
       "</div>"
      ],
      "text/plain": [
       "                RandomForestClassifier_bogo_1  RandomForestClassifier_bogo_2\n",
       "testing_score                        0.826688                       0.829943\n",
       "training_score                       0.837420                       0.845050"
      ]
     },
     "execution_count": 68,
     "metadata": {},
     "output_type": "execute_result"
    }
   ],
   "source": [
    "results[['RandomForestClassifier_bogo_1','RandomForestClassifier_bogo_2']]"
   ]
  },
  {
   "cell_type": "code",
   "execution_count": 69,
   "metadata": {},
   "outputs": [
    {
     "name": "stdout",
     "output_type": "stream",
     "text": [
      "For bogo RF model:\n"
     ]
    },
    {
     "data": {
      "text/html": [
       "<div>\n",
       "<style scoped>\n",
       "    .dataframe tbody tr th:only-of-type {\n",
       "        vertical-align: middle;\n",
       "    }\n",
       "\n",
       "    .dataframe tbody tr th {\n",
       "        vertical-align: top;\n",
       "    }\n",
       "\n",
       "    .dataframe thead th {\n",
       "        text-align: right;\n",
       "    }\n",
       "</style>\n",
       "<table border=\"1\" class=\"dataframe\">\n",
       "  <thead>\n",
       "    <tr style=\"text-align: right;\">\n",
       "      <th></th>\n",
       "      <th>testing_score</th>\n",
       "      <th>training_score</th>\n",
       "    </tr>\n",
       "  </thead>\n",
       "  <tbody>\n",
       "    <tr>\n",
       "      <th>RandomForestClassifier_bogo_2</th>\n",
       "      <td>0.829943</td>\n",
       "      <td>0.84505</td>\n",
       "    </tr>\n",
       "  </tbody>\n",
       "</table>\n",
       "</div>"
      ],
      "text/plain": [
       "                               testing_score  training_score\n",
       "RandomForestClassifier_bogo_2       0.829943         0.84505"
      ]
     },
     "execution_count": 69,
     "metadata": {},
     "output_type": "execute_result"
    }
   ],
   "source": [
    "# Best model for Bogo offer type\n",
    "best_model('bogo')"
   ]
  },
  {
   "cell_type": "markdown",
   "metadata": {},
   "source": [
    "with parameter tuning we increased very minimal improvement at training_score from 82.83% to 82.87%, and f1 score from 76.7% to 77.5%.\n",
    "\n",
    "Which is good sign according to tuning purpose.\n",
    "\n",
    "Will explore features that can remove to make better performance."
   ]
  },
  {
   "cell_type": "code",
   "execution_count": 70,
   "metadata": {},
   "outputs": [
    {
     "data": {
      "text/plain": [
       "{'max_depth': 10,\n",
       " 'max_features': 'auto',\n",
       " 'min_samples_leaf': 2,\n",
       " 'min_samples_split': 2,\n",
       " 'n_estimators': 40}"
      ]
     },
     "execution_count": 70,
     "metadata": {},
     "output_type": "execute_result"
    }
   ],
   "source": [
    "#define discount dataset\n",
    "features,target = attribute_response_variable(offers_discount,drop_cols_prep)\n",
    "X_train, X_test, y_train, y_test = test_train_split(features,target)\n",
    "\n",
    "# run Grid Search - commented out because takes to long to run, but have put in selected params in model\n",
    "rand_forest_param_selection(X_train, y_train)"
   ]
  },
  {
   "cell_type": "code",
   "execution_count": 71,
   "metadata": {},
   "outputs": [
    {
     "name": "stdout",
     "output_type": "stream",
     "text": [
      "DecisionTreeClassifier trained on 10179 samples.\n",
      "MSE_train: 0.1371\n",
      "MSE_test: 0.1277\n",
      "Training accuracy:0.8629\n",
      "Test accuracy:0.8723\n",
      "             precision    recall  f1-score   support\n",
      "\n",
      "          0     0.0000    0.0000    0.0000       325\n",
      "          1     0.8723    1.0000    0.9318      2220\n",
      "\n",
      "avg / total     0.7609    0.8723    0.8128      2545\n",
      "\n"
     ]
    },
    {
     "name": "stderr",
     "output_type": "stream",
     "text": [
      "/opt/conda/lib/python3.6/site-packages/sklearn/metrics/classification.py:1135: UndefinedMetricWarning: Precision and F-score are ill-defined and being set to 0.0 in labels with no predicted samples.\n",
      "  'precision', 'predicted', average, warn_for)\n"
     ]
    },
    {
     "name": "stdout",
     "output_type": "stream",
     "text": [
      "RandomForestClassifier trained on 10179 samples.\n",
      "MSE_train: 0.1274\n",
      "MSE_test: 0.1273\n",
      "Training accuracy:0.8726\n",
      "Test accuracy:0.8727\n",
      "             precision    recall  f1-score   support\n",
      "\n",
      "          0     0.5238    0.0338    0.0636       325\n",
      "          1     0.8756    0.9955    0.9317      2220\n",
      "\n",
      "avg / total     0.8307    0.8727    0.8208      2545\n",
      "\n"
     ]
    }
   ],
   "source": [
    "X_train, X_test, y_train, y_test=test_train_split(features,target)\n",
    "\n",
    "#Initialize the model\n",
    "discount_2 = RandomForestClassifier(random_state=2,max_depth= 10, max_features= 'auto',min_samples_split= 2,n_estimators=30,min_samples_leaf=2)\n",
    "\n",
    "results=pd.concat([results[:],run_model(baseline,discount_2,'discount_2')],axis=1)"
   ]
  },
  {
   "cell_type": "code",
   "execution_count": 72,
   "metadata": {},
   "outputs": [
    {
     "data": {
      "text/html": [
       "<div>\n",
       "<style scoped>\n",
       "    .dataframe tbody tr th:only-of-type {\n",
       "        vertical-align: middle;\n",
       "    }\n",
       "\n",
       "    .dataframe tbody tr th {\n",
       "        vertical-align: top;\n",
       "    }\n",
       "\n",
       "    .dataframe thead th {\n",
       "        text-align: right;\n",
       "    }\n",
       "</style>\n",
       "<table border=\"1\" class=\"dataframe\">\n",
       "  <thead>\n",
       "    <tr style=\"text-align: right;\">\n",
       "      <th></th>\n",
       "      <th>RandomForestClassifier_discount_1</th>\n",
       "      <th>RandomForestClassifier_discount_2</th>\n",
       "    </tr>\n",
       "  </thead>\n",
       "  <tbody>\n",
       "    <tr>\n",
       "      <th>testing_score</th>\n",
       "      <td>0.873477</td>\n",
       "      <td>0.872692</td>\n",
       "    </tr>\n",
       "    <tr>\n",
       "      <th>training_score</th>\n",
       "      <td>0.872876</td>\n",
       "      <td>0.872581</td>\n",
       "    </tr>\n",
       "  </tbody>\n",
       "</table>\n",
       "</div>"
      ],
      "text/plain": [
       "                RandomForestClassifier_discount_1  \\\n",
       "testing_score                            0.873477   \n",
       "training_score                           0.872876   \n",
       "\n",
       "                RandomForestClassifier_discount_2  \n",
       "testing_score                            0.872692  \n",
       "training_score                           0.872581  "
      ]
     },
     "execution_count": 72,
     "metadata": {},
     "output_type": "execute_result"
    }
   ],
   "source": [
    "results[['RandomForestClassifier_discount_1','RandomForestClassifier_discount_2']]"
   ]
  },
  {
   "cell_type": "code",
   "execution_count": 73,
   "metadata": {},
   "outputs": [
    {
     "name": "stdout",
     "output_type": "stream",
     "text": [
      "For discount RF model:\n"
     ]
    },
    {
     "data": {
      "text/html": [
       "<div>\n",
       "<style scoped>\n",
       "    .dataframe tbody tr th:only-of-type {\n",
       "        vertical-align: middle;\n",
       "    }\n",
       "\n",
       "    .dataframe tbody tr th {\n",
       "        vertical-align: top;\n",
       "    }\n",
       "\n",
       "    .dataframe thead th {\n",
       "        text-align: right;\n",
       "    }\n",
       "</style>\n",
       "<table border=\"1\" class=\"dataframe\">\n",
       "  <thead>\n",
       "    <tr style=\"text-align: right;\">\n",
       "      <th></th>\n",
       "      <th>testing_score</th>\n",
       "      <th>training_score</th>\n",
       "    </tr>\n",
       "  </thead>\n",
       "  <tbody>\n",
       "    <tr>\n",
       "      <th>RandomForestClassifier_discount_1</th>\n",
       "      <td>0.873477</td>\n",
       "      <td>0.872876</td>\n",
       "    </tr>\n",
       "  </tbody>\n",
       "</table>\n",
       "</div>"
      ],
      "text/plain": [
       "                                   testing_score  training_score\n",
       "RandomForestClassifier_discount_1       0.873477        0.872876"
      ]
     },
     "execution_count": 73,
     "metadata": {},
     "output_type": "execute_result"
    }
   ],
   "source": [
    "best_model('discount')"
   ]
  },
  {
   "cell_type": "markdown",
   "metadata": {},
   "source": [
    "Again the accuracy made bit improvement than earlier, like 87.07% to 87.39% and for f1 score it is from 81.71% to 82.08%.\n",
    "\n",
    "As the increase was minimal, we could say tuning parameters doesn't help to our model accuracy."
   ]
  },
  {
   "cell_type": "code",
   "execution_count": 75,
   "metadata": {},
   "outputs": [
    {
     "data": {
      "text/plain": [
       "{'max_depth': 15,\n",
       " 'max_features': 'auto',\n",
       " 'min_samples_leaf': 10,\n",
       " 'min_samples_split': 2,\n",
       " 'n_estimators': 25}"
      ]
     },
     "execution_count": 75,
     "metadata": {},
     "output_type": "execute_result"
    }
   ],
   "source": [
    "features,target = attribute_response_variable(offers_info,drop_cols_prep)\n",
    "X_train, X_test, y_train, y_test = test_train_split(features,target)\n",
    "\n",
    "#run Grid Search - commented out because takes to long to run, but have put in selected params in model\n",
    "rand_forest_param_selection(X_train, y_train)"
   ]
  },
  {
   "cell_type": "code",
   "execution_count": 77,
   "metadata": {},
   "outputs": [
    {
     "name": "stdout",
     "output_type": "stream",
     "text": [
      "DecisionTreeClassifier trained on 5585 samples.\n",
      "MSE_train: 0.2489\n",
      "MSE_test: 0.2598\n",
      "Training accuracy:0.7511\n",
      "Test accuracy:0.7402\n",
      "             precision    recall  f1-score   support\n",
      "\n",
      "          0     0.4722    0.1915    0.2725       355\n",
      "          1     0.7709    0.9271    0.8418      1042\n",
      "\n",
      "avg / total     0.6950    0.7402    0.6972      1397\n",
      "\n",
      "RandomForestClassifier trained on 5585 samples.\n",
      "MSE_train: 0.2474\n",
      "MSE_test: 0.2477\n",
      "Training accuracy:0.7526\n",
      "Test accuracy:0.7523\n",
      "             precision    recall  f1-score   support\n",
      "\n",
      "          0     0.6286    0.0620    0.1128       355\n",
      "          1     0.7555    0.9875    0.8561      1042\n",
      "\n",
      "avg / total     0.7233    0.7523    0.6672      1397\n",
      "\n"
     ]
    }
   ],
   "source": [
    "features,target = attribute_response_variable(offers_info,drop_cols_prep)\n",
    "X_train, X_test, y_train, y_test = test_train_split(features,target)\n",
    "\n",
    "#Initialize the model\n",
    "info_2 = RandomForestClassifier(random_state=2,max_depth= 15, max_features= 'auto',min_samples_split= 2,n_estimators=25,min_samples_leaf=20)\n",
    "\n",
    "results = pd.concat([results[:],run_model(baseline,info_2,'info_2')],axis=1)"
   ]
  },
  {
   "cell_type": "code",
   "execution_count": 78,
   "metadata": {},
   "outputs": [
    {
     "data": {
      "text/html": [
       "<div>\n",
       "<style scoped>\n",
       "    .dataframe tbody tr th:only-of-type {\n",
       "        vertical-align: middle;\n",
       "    }\n",
       "\n",
       "    .dataframe tbody tr th {\n",
       "        vertical-align: top;\n",
       "    }\n",
       "\n",
       "    .dataframe thead th {\n",
       "        text-align: right;\n",
       "    }\n",
       "</style>\n",
       "<table border=\"1\" class=\"dataframe\">\n",
       "  <thead>\n",
       "    <tr style=\"text-align: right;\">\n",
       "      <th></th>\n",
       "      <th>RandomForestClassifier_info_1</th>\n",
       "      <th>RandomForestClassifier_info_2</th>\n",
       "    </tr>\n",
       "  </thead>\n",
       "  <tbody>\n",
       "    <tr>\n",
       "      <th>testing_score</th>\n",
       "      <td>0.745884</td>\n",
       "      <td>0.752326</td>\n",
       "    </tr>\n",
       "    <tr>\n",
       "      <th>training_score</th>\n",
       "      <td>0.770098</td>\n",
       "      <td>0.752551</td>\n",
       "    </tr>\n",
       "  </tbody>\n",
       "</table>\n",
       "</div>"
      ],
      "text/plain": [
       "                RandomForestClassifier_info_1  RandomForestClassifier_info_2\n",
       "testing_score                        0.745884                       0.752326\n",
       "training_score                       0.770098                       0.752551"
      ]
     },
     "execution_count": 78,
     "metadata": {},
     "output_type": "execute_result"
    }
   ],
   "source": [
    "results[['RandomForestClassifier_info_1','RandomForestClassifier_info_2']]"
   ]
  },
  {
   "cell_type": "code",
   "execution_count": 79,
   "metadata": {},
   "outputs": [
    {
     "name": "stdout",
     "output_type": "stream",
     "text": [
      "For info RF model:\n"
     ]
    },
    {
     "data": {
      "text/html": [
       "<div>\n",
       "<style scoped>\n",
       "    .dataframe tbody tr th:only-of-type {\n",
       "        vertical-align: middle;\n",
       "    }\n",
       "\n",
       "    .dataframe tbody tr th {\n",
       "        vertical-align: top;\n",
       "    }\n",
       "\n",
       "    .dataframe thead th {\n",
       "        text-align: right;\n",
       "    }\n",
       "</style>\n",
       "<table border=\"1\" class=\"dataframe\">\n",
       "  <thead>\n",
       "    <tr style=\"text-align: right;\">\n",
       "      <th></th>\n",
       "      <th>testing_score</th>\n",
       "      <th>training_score</th>\n",
       "    </tr>\n",
       "  </thead>\n",
       "  <tbody>\n",
       "    <tr>\n",
       "      <th>RandomForestClassifier_info_2</th>\n",
       "      <td>0.752326</td>\n",
       "      <td>0.752551</td>\n",
       "    </tr>\n",
       "  </tbody>\n",
       "</table>\n",
       "</div>"
      ],
      "text/plain": [
       "                               testing_score  training_score\n",
       "RandomForestClassifier_info_2       0.752326        0.752551"
      ]
     },
     "execution_count": 79,
     "metadata": {},
     "output_type": "execute_result"
    }
   ],
   "source": [
    "best_model('info')"
   ]
  },
  {
   "cell_type": "markdown",
   "metadata": {},
   "source": [
    "Again we see some improvement in accuracy for RF model, from 74.87% to 75.23%, and slight decrease in F1 score from 68.23% to 67.14%. This improvement is minimal,so we look into improving the feature selection of the model."
   ]
  },
  {
   "cell_type": "markdown",
   "metadata": {},
   "source": [
    "### Removing sparse features e.g. amount_invalid"
   ]
  },
  {
   "cell_type": "markdown",
   "metadata": {},
   "source": [
    "amount_invalid variable, which we had noted as being sparse, hence may not be useful in predicting the effectiveness of offers, would help.\n",
    "\n",
    "I removed the feature from my data prep and retrained the model using the same optimal parameters found via GridSearch, with the DT model as a baseline"
   ]
  },
  {
   "cell_type": "markdown",
   "metadata": {},
   "source": [
    "# BOGO Model without Amount_Invalid"
   ]
  },
  {
   "cell_type": "code",
   "execution_count": 80,
   "metadata": {},
   "outputs": [
    {
     "name": "stdout",
     "output_type": "stream",
     "text": [
      "DecisionTreeClassifier trained on 9829 samples.\n",
      "MSE_train: 0.1764\n",
      "MSE_test: 0.1745\n",
      "Training accuracy:0.8236\n",
      "Test accuracy:0.8255\n",
      "             precision    recall  f1-score   support\n",
      "\n",
      "          0     0.5283    0.1918    0.2814       438\n",
      "          1     0.8460    0.9629    0.9007      2020\n",
      "\n",
      "avg / total     0.7894    0.8255    0.7903      2458\n",
      "\n",
      "RandomForestClassifier trained on 9829 samples.\n",
      "MSE_train: 0.1552\n",
      "MSE_test: 0.1705\n",
      "Training accuracy:0.8448\n",
      "Test accuracy:0.8295\n",
      "             precision    recall  f1-score   support\n",
      "\n",
      "          0     0.6267    0.1073    0.1832       438\n",
      "          1     0.8359    0.9861    0.9048      2020\n",
      "\n",
      "avg / total     0.7986    0.8295    0.7763      2458\n",
      "\n"
     ]
    }
   ],
   "source": [
    "#add amount_invalid variable to drop_cols_prep list\n",
    "drop_cols_prep=['person','offer_id','effective_offer','offer_type','amount_invalid']\n",
    "\n",
    "#train BOGO model\n",
    "features,target = attribute_response_variable(offers_bogo,drop_cols_prep)\n",
    "X_train, X_test, y_train, y_test = test_train_split(features,target)\n",
    "\n",
    "#Initialize the model\n",
    "bogo_3 = RandomForestClassifier(random_state=2,max_depth= 10, max_features= 'auto',min_samples_split= 20,n_estimators=25,min_samples_leaf=2)\n",
    "\n",
    "results=pd.concat([results[:],run_model(baseline,bogo_3,'bogo_3')],axis=1)"
   ]
  },
  {
   "cell_type": "code",
   "execution_count": 93,
   "metadata": {},
   "outputs": [
    {
     "data": {
      "text/html": [
       "<div>\n",
       "<style scoped>\n",
       "    .dataframe tbody tr th:only-of-type {\n",
       "        vertical-align: middle;\n",
       "    }\n",
       "\n",
       "    .dataframe tbody tr th {\n",
       "        vertical-align: top;\n",
       "    }\n",
       "\n",
       "    .dataframe thead th {\n",
       "        text-align: right;\n",
       "    }\n",
       "</style>\n",
       "<table border=\"1\" class=\"dataframe\">\n",
       "  <thead>\n",
       "    <tr style=\"text-align: right;\">\n",
       "      <th></th>\n",
       "      <th>RandomForestClassifier_bogo_2</th>\n",
       "      <th>RandomForestClassifier_bogo_3</th>\n",
       "    </tr>\n",
       "  </thead>\n",
       "  <tbody>\n",
       "    <tr>\n",
       "      <th>testing_score</th>\n",
       "      <td>0.829943</td>\n",
       "      <td>0.829536</td>\n",
       "    </tr>\n",
       "    <tr>\n",
       "      <th>training_score</th>\n",
       "      <td>0.845050</td>\n",
       "      <td>0.844847</td>\n",
       "    </tr>\n",
       "  </tbody>\n",
       "</table>\n",
       "</div>"
      ],
      "text/plain": [
       "                RandomForestClassifier_bogo_2  RandomForestClassifier_bogo_3\n",
       "testing_score                        0.829943                       0.829536\n",
       "training_score                       0.845050                       0.844847"
      ]
     },
     "execution_count": 93,
     "metadata": {},
     "output_type": "execute_result"
    }
   ],
   "source": [
    "results[['RandomForestClassifier_bogo_2','RandomForestClassifier_bogo_3']]"
   ]
  },
  {
   "cell_type": "code",
   "execution_count": 82,
   "metadata": {},
   "outputs": [
    {
     "name": "stdout",
     "output_type": "stream",
     "text": [
      "For bogo RF model:\n"
     ]
    },
    {
     "data": {
      "text/html": [
       "<div>\n",
       "<style scoped>\n",
       "    .dataframe tbody tr th:only-of-type {\n",
       "        vertical-align: middle;\n",
       "    }\n",
       "\n",
       "    .dataframe tbody tr th {\n",
       "        vertical-align: top;\n",
       "    }\n",
       "\n",
       "    .dataframe thead th {\n",
       "        text-align: right;\n",
       "    }\n",
       "</style>\n",
       "<table border=\"1\" class=\"dataframe\">\n",
       "  <thead>\n",
       "    <tr style=\"text-align: right;\">\n",
       "      <th></th>\n",
       "      <th>testing_score</th>\n",
       "      <th>training_score</th>\n",
       "    </tr>\n",
       "  </thead>\n",
       "  <tbody>\n",
       "    <tr>\n",
       "      <th>RandomForestClassifier_bogo_2</th>\n",
       "      <td>0.829943</td>\n",
       "      <td>0.84505</td>\n",
       "    </tr>\n",
       "  </tbody>\n",
       "</table>\n",
       "</div>"
      ],
      "text/plain": [
       "                               testing_score  training_score\n",
       "RandomForestClassifier_bogo_2       0.829943         0.84505"
      ]
     },
     "execution_count": 82,
     "metadata": {},
     "output_type": "execute_result"
    }
   ],
   "source": [
    "#find best model so far for BOGO offer type\n",
    "best_model('bogo')"
   ]
  },
  {
   "cell_type": "markdown",
   "metadata": {},
   "source": [
    "Model accuracy and F1 score did remain the same, so I wont leave the amount_invalid feature out of my model."
   ]
  },
  {
   "cell_type": "markdown",
   "metadata": {},
   "source": [
    "# Discount Model without Amount_Invalid"
   ]
  },
  {
   "cell_type": "code",
   "execution_count": 83,
   "metadata": {},
   "outputs": [
    {
     "name": "stdout",
     "output_type": "stream",
     "text": [
      "DecisionTreeClassifier trained on 10179 samples.\n",
      "MSE_train: 0.1371\n",
      "MSE_test: 0.1277\n",
      "Training accuracy:0.8629\n",
      "Test accuracy:0.8723\n",
      "             precision    recall  f1-score   support\n",
      "\n",
      "          0     0.0000    0.0000    0.0000       325\n",
      "          1     0.8723    1.0000    0.9318      2220\n",
      "\n",
      "avg / total     0.7609    0.8723    0.8128      2545\n",
      "\n"
     ]
    },
    {
     "name": "stderr",
     "output_type": "stream",
     "text": [
      "/opt/conda/lib/python3.6/site-packages/sklearn/metrics/classification.py:1135: UndefinedMetricWarning: Precision and F-score are ill-defined and being set to 0.0 in labels with no predicted samples.\n",
      "  'precision', 'predicted', average, warn_for)\n"
     ]
    },
    {
     "name": "stdout",
     "output_type": "stream",
     "text": [
      "RandomForestClassifier trained on 10179 samples.\n",
      "MSE_train: 0.1242\n",
      "MSE_test: 0.1277\n",
      "Training accuracy:0.8758\n",
      "Test accuracy:0.8723\n",
      "             precision    recall  f1-score   support\n",
      "\n",
      "          0     0.5000    0.0338    0.0634       325\n",
      "          1     0.8755    0.9950    0.9315      2220\n",
      "\n",
      "avg / total     0.8276    0.8723    0.8206      2545\n",
      "\n"
     ]
    }
   ],
   "source": [
    "#train discount model\n",
    "features,target = attribute_response_variable(offers_discount,drop_cols_prep)\n",
    "X_train, X_test, y_train, y_test = test_train_split(features,target)\n",
    "\n",
    "#Initialize the model\n",
    "discount_3 = RandomForestClassifier(random_state=2,max_depth= 10, max_features= 'auto',min_samples_split= 2,n_estimators=30,min_samples_leaf=2)\n",
    "\n",
    "results=pd.concat([results[:],run_model(baseline,discount_3,'discount_3')],axis=1)"
   ]
  },
  {
   "cell_type": "code",
   "execution_count": 92,
   "metadata": {},
   "outputs": [
    {
     "data": {
      "text/html": [
       "<div>\n",
       "<style scoped>\n",
       "    .dataframe tbody tr th:only-of-type {\n",
       "        vertical-align: middle;\n",
       "    }\n",
       "\n",
       "    .dataframe tbody tr th {\n",
       "        vertical-align: top;\n",
       "    }\n",
       "\n",
       "    .dataframe thead th {\n",
       "        text-align: right;\n",
       "    }\n",
       "</style>\n",
       "<table border=\"1\" class=\"dataframe\">\n",
       "  <thead>\n",
       "    <tr style=\"text-align: right;\">\n",
       "      <th></th>\n",
       "      <th>RandomForestClassifier_discount_2</th>\n",
       "      <th>RandomForestClassifier_discount_3</th>\n",
       "    </tr>\n",
       "  </thead>\n",
       "  <tbody>\n",
       "    <tr>\n",
       "      <th>testing_score</th>\n",
       "      <td>0.872692</td>\n",
       "      <td>0.872299</td>\n",
       "    </tr>\n",
       "    <tr>\n",
       "      <th>training_score</th>\n",
       "      <td>0.872581</td>\n",
       "      <td>0.875823</td>\n",
       "    </tr>\n",
       "  </tbody>\n",
       "</table>\n",
       "</div>"
      ],
      "text/plain": [
       "                RandomForestClassifier_discount_2  \\\n",
       "testing_score                            0.872692   \n",
       "training_score                           0.872581   \n",
       "\n",
       "                RandomForestClassifier_discount_3  \n",
       "testing_score                            0.872299  \n",
       "training_score                           0.875823  "
      ]
     },
     "execution_count": 92,
     "metadata": {},
     "output_type": "execute_result"
    }
   ],
   "source": [
    "results[['RandomForestClassifier_discount_2','RandomForestClassifier_discount_3']]"
   ]
  },
  {
   "cell_type": "code",
   "execution_count": 87,
   "metadata": {},
   "outputs": [
    {
     "name": "stdout",
     "output_type": "stream",
     "text": [
      "For discount RF model:\n"
     ]
    },
    {
     "data": {
      "text/html": [
       "<div>\n",
       "<style scoped>\n",
       "    .dataframe tbody tr th:only-of-type {\n",
       "        vertical-align: middle;\n",
       "    }\n",
       "\n",
       "    .dataframe tbody tr th {\n",
       "        vertical-align: top;\n",
       "    }\n",
       "\n",
       "    .dataframe thead th {\n",
       "        text-align: right;\n",
       "    }\n",
       "</style>\n",
       "<table border=\"1\" class=\"dataframe\">\n",
       "  <thead>\n",
       "    <tr style=\"text-align: right;\">\n",
       "      <th></th>\n",
       "      <th>testing_score</th>\n",
       "      <th>training_score</th>\n",
       "    </tr>\n",
       "  </thead>\n",
       "  <tbody>\n",
       "    <tr>\n",
       "      <th>RandomForestClassifier_discount_1</th>\n",
       "      <td>0.873477</td>\n",
       "      <td>0.872876</td>\n",
       "    </tr>\n",
       "  </tbody>\n",
       "</table>\n",
       "</div>"
      ],
      "text/plain": [
       "                                   testing_score  training_score\n",
       "RandomForestClassifier_discount_1       0.873477        0.872876"
      ]
     },
     "execution_count": 87,
     "metadata": {},
     "output_type": "execute_result"
    }
   ],
   "source": [
    "best_model('discount')"
   ]
  },
  {
   "cell_type": "markdown",
   "metadata": {},
   "source": [
    "Accuracy of the model didnt increased. In this case, I wont remove the amount_invalid feature for the discount model."
   ]
  },
  {
   "cell_type": "markdown",
   "metadata": {},
   "source": [
    "# Offers Model without Amount_Invalid"
   ]
  },
  {
   "cell_type": "code",
   "execution_count": 88,
   "metadata": {},
   "outputs": [
    {
     "name": "stdout",
     "output_type": "stream",
     "text": [
      "DecisionTreeClassifier trained on 5585 samples.\n",
      "MSE_train: 0.2489\n",
      "MSE_test: 0.2598\n",
      "Training accuracy:0.7511\n",
      "Test accuracy:0.7402\n",
      "             precision    recall  f1-score   support\n",
      "\n",
      "          0     0.4722    0.1915    0.2725       355\n",
      "          1     0.7709    0.9271    0.8418      1042\n",
      "\n",
      "avg / total     0.6950    0.7402    0.6972      1397\n",
      "\n",
      "RandomForestClassifier trained on 5585 samples.\n",
      "MSE_train: 0.2440\n",
      "MSE_test: 0.2470\n",
      "Training accuracy:0.7560\n",
      "Test accuracy:0.7530\n",
      "             precision    recall  f1-score   support\n",
      "\n",
      "          0     0.6087    0.0789    0.1397       355\n",
      "          1     0.7580    0.9827    0.8558      1042\n",
      "\n",
      "avg / total     0.7200    0.7530    0.6738      1397\n",
      "\n"
     ]
    }
   ],
   "source": [
    "#train info model\n",
    "features,target = attribute_response_variable(offers_info,drop_cols_prep)\n",
    "X_train, X_test, y_train, y_test = test_train_split(features,target)\n",
    "\n",
    "#Initialize the model\n",
    "info_3 = RandomForestClassifier(random_state=2,max_depth= 15, max_features= 'auto',min_samples_split= 2,n_estimators=25,min_samples_leaf=20)\n",
    "\n",
    "results=pd.concat([results[:],run_model(baseline,info_3,'info_3')],axis=1)"
   ]
  },
  {
   "cell_type": "code",
   "execution_count": 94,
   "metadata": {},
   "outputs": [
    {
     "data": {
      "text/html": [
       "<div>\n",
       "<style scoped>\n",
       "    .dataframe tbody tr th:only-of-type {\n",
       "        vertical-align: middle;\n",
       "    }\n",
       "\n",
       "    .dataframe tbody tr th {\n",
       "        vertical-align: top;\n",
       "    }\n",
       "\n",
       "    .dataframe thead th {\n",
       "        text-align: right;\n",
       "    }\n",
       "</style>\n",
       "<table border=\"1\" class=\"dataframe\">\n",
       "  <thead>\n",
       "    <tr style=\"text-align: right;\">\n",
       "      <th></th>\n",
       "      <th>RandomForestClassifier_info_2</th>\n",
       "      <th>RandomForestClassifier_info_3</th>\n",
       "    </tr>\n",
       "  </thead>\n",
       "  <tbody>\n",
       "    <tr>\n",
       "      <th>testing_score</th>\n",
       "      <td>0.752326</td>\n",
       "      <td>0.753042</td>\n",
       "    </tr>\n",
       "    <tr>\n",
       "      <th>training_score</th>\n",
       "      <td>0.752551</td>\n",
       "      <td>0.755953</td>\n",
       "    </tr>\n",
       "  </tbody>\n",
       "</table>\n",
       "</div>"
      ],
      "text/plain": [
       "                RandomForestClassifier_info_2  RandomForestClassifier_info_3\n",
       "testing_score                        0.752326                       0.753042\n",
       "training_score                       0.752551                       0.755953"
      ]
     },
     "execution_count": 94,
     "metadata": {},
     "output_type": "execute_result"
    }
   ],
   "source": [
    "results[['RandomForestClassifier_info_2','RandomForestClassifier_info_3']]"
   ]
  },
  {
   "cell_type": "code",
   "execution_count": 90,
   "metadata": {},
   "outputs": [
    {
     "name": "stdout",
     "output_type": "stream",
     "text": [
      "For info RF model:\n"
     ]
    },
    {
     "data": {
      "text/html": [
       "<div>\n",
       "<style scoped>\n",
       "    .dataframe tbody tr th:only-of-type {\n",
       "        vertical-align: middle;\n",
       "    }\n",
       "\n",
       "    .dataframe tbody tr th {\n",
       "        vertical-align: top;\n",
       "    }\n",
       "\n",
       "    .dataframe thead th {\n",
       "        text-align: right;\n",
       "    }\n",
       "</style>\n",
       "<table border=\"1\" class=\"dataframe\">\n",
       "  <thead>\n",
       "    <tr style=\"text-align: right;\">\n",
       "      <th></th>\n",
       "      <th>testing_score</th>\n",
       "      <th>training_score</th>\n",
       "    </tr>\n",
       "  </thead>\n",
       "  <tbody>\n",
       "    <tr>\n",
       "      <th>RandomForestClassifier_info_3</th>\n",
       "      <td>0.753042</td>\n",
       "      <td>0.755953</td>\n",
       "    </tr>\n",
       "  </tbody>\n",
       "</table>\n",
       "</div>"
      ],
      "text/plain": [
       "                               testing_score  training_score\n",
       "RandomForestClassifier_info_3       0.753042        0.755953"
      ]
     },
     "execution_count": 90,
     "metadata": {},
     "output_type": "execute_result"
    }
   ],
   "source": [
    "best_model('info')"
   ]
  },
  {
   "cell_type": "markdown",
   "metadata": {},
   "source": [
    "ccuracy and F1 score of the model actually increased here for info model but not to much extent, so I will also keep the feature in."
   ]
  },
  {
   "cell_type": "markdown",
   "metadata": {},
   "source": [
    "# Feature importance "
   ]
  },
  {
   "cell_type": "code",
   "execution_count": 95,
   "metadata": {},
   "outputs": [
    {
     "name": "stdout",
     "output_type": "stream",
     "text": [
      "For bogo RF model:\n",
      "For discount RF model:\n",
      "For info RF model:\n"
     ]
    },
    {
     "data": {
      "text/html": [
       "<div>\n",
       "<style scoped>\n",
       "    .dataframe tbody tr th:only-of-type {\n",
       "        vertical-align: middle;\n",
       "    }\n",
       "\n",
       "    .dataframe tbody tr th {\n",
       "        vertical-align: top;\n",
       "    }\n",
       "\n",
       "    .dataframe thead th {\n",
       "        text-align: right;\n",
       "    }\n",
       "</style>\n",
       "<table border=\"1\" class=\"dataframe\">\n",
       "  <thead>\n",
       "    <tr style=\"text-align: right;\">\n",
       "      <th></th>\n",
       "      <th>RandomForestClassifier_bogo_2</th>\n",
       "      <th>RandomForestClassifier_discount_1</th>\n",
       "      <th>RandomForestClassifier_info_3</th>\n",
       "    </tr>\n",
       "  </thead>\n",
       "  <tbody>\n",
       "    <tr>\n",
       "      <th>testing_score</th>\n",
       "      <td>0.829943</td>\n",
       "      <td>0.873477</td>\n",
       "      <td>0.753042</td>\n",
       "    </tr>\n",
       "    <tr>\n",
       "      <th>training_score</th>\n",
       "      <td>0.845050</td>\n",
       "      <td>0.872876</td>\n",
       "      <td>0.755953</td>\n",
       "    </tr>\n",
       "  </tbody>\n",
       "</table>\n",
       "</div>"
      ],
      "text/plain": [
       "                RandomForestClassifier_bogo_2  \\\n",
       "testing_score                        0.829943   \n",
       "training_score                       0.845050   \n",
       "\n",
       "                RandomForestClassifier_discount_1  \\\n",
       "testing_score                            0.873477   \n",
       "training_score                           0.872876   \n",
       "\n",
       "                RandomForestClassifier_info_3  \n",
       "testing_score                        0.753042  \n",
       "training_score                       0.755953  "
      ]
     },
     "execution_count": 95,
     "metadata": {},
     "output_type": "execute_result"
    }
   ],
   "source": [
    "best_model('bogo').append([best_model('discount'),best_model('info')]).transpose()"
   ]
  },
  {
   "cell_type": "markdown",
   "metadata": {},
   "source": [
    "Across all 2nd model is performing better than others and including GridsearchCV , removing amount_inavlid column too.\n",
    "\n",
    "Let check for feature importances for our models"
   ]
  },
  {
   "cell_type": "code",
   "execution_count": 98,
   "metadata": {},
   "outputs": [
    {
     "data": {
      "image/png": "[encoded data removed]",
      "text/plain": [
       "<matplotlib.figure.Figure at 0x7fad6fc80208>"
      ]
     },
     "metadata": {
      "needs_background": "light"
     },
     "output_type": "display_data"
    }
   ],
   "source": [
    "# Bogo_2\n",
    "import matplotlib.pyplot as plt\n",
    "drop_cols_prep=['person','offer_id','effective_offer','offer_type']\n",
    "features,target= attribute_response_variable(offers_bogo,drop_cols_prep)\n",
    "\n",
    "feature_importances = pd.DataFrame(bogo_2.feature_importances_,\n",
    "                                   index = features.columns,\n",
    "                                    columns=['importance']).sort_values('importance',ascending=False)\n",
    "feature_importances.plot.bar()\n",
    "plt.title('Best BOGO model feature importance')\n",
    "plt.show()"
   ]
  },
  {
   "cell_type": "code",
   "execution_count": 99,
   "metadata": {},
   "outputs": [
    {
     "data": {
      "image/png": "[encoded data removed]",
      "text/plain": [
       "<matplotlib.figure.Figure at 0x7fad6fbe32b0>"
      ]
     },
     "metadata": {
      "needs_background": "light"
     },
     "output_type": "display_data"
    }
   ],
   "source": [
    "# Discount 2 Model\n",
    "feature_importances = pd.DataFrame(discount_2.feature_importances_,\n",
    "                                   index = features.columns,\n",
    "                                    columns=['importance']).sort_values('importance',ascending=False)\n",
    "feature_importances.plot.bar()\n",
    "plt.title('Best discount model feature importance')\n",
    "plt.show()"
   ]
  },
  {
   "cell_type": "code",
   "execution_count": 101,
   "metadata": {},
   "outputs": [
    {
     "data": {
      "image/png": "[encoded data removed]",
      "text/plain": [
       "<matplotlib.figure.Figure at 0x7fad6fc7c128>"
      ]
     },
     "metadata": {
      "needs_background": "light"
     },
     "output_type": "display_data"
    }
   ],
   "source": [
    "# info_2\n",
    "feature_importances = pd.DataFrame(info_2.feature_importances_,\n",
    "                                   index = features.columns,\n",
    "                                    columns=['importance']).sort_values('importance',ascending=False)\n",
    "feature_importances.plot.bar()\n",
    "plt.title('Best info model feature importance')\n",
    "plt.show()"
   ]
  },
  {
   "cell_type": "markdown",
   "metadata": {
    "raw_mimetype": "text/markdown"
   },
   "source": [
    "* Across all we can say since_he_membered is the top feature and second most is income of the user.\n",
    "\n",
    "    * Bogo\n",
    "            Here Membership is the most valueble feature and remain all are very nominal impact\n",
    "    * Discount\n",
    "            After membership varibale age , income second and thrid most important variables\n",
    "    * Information\n",
    "            Comapred to other two datasets income and age are little high importance.\n"
   ]
  },
  {
   "cell_type": "code",
   "execution_count": 102,
   "metadata": {},
   "outputs": [
    {
     "data": {
      "text/html": [
       "<div>\n",
       "<style scoped>\n",
       "    .dataframe tbody tr th:only-of-type {\n",
       "        vertical-align: middle;\n",
       "    }\n",
       "\n",
       "    .dataframe tbody tr th {\n",
       "        vertical-align: top;\n",
       "    }\n",
       "\n",
       "    .dataframe thead th {\n",
       "        text-align: right;\n",
       "    }\n",
       "</style>\n",
       "<table border=\"1\" class=\"dataframe\">\n",
       "  <thead>\n",
       "    <tr style=\"text-align: right;\">\n",
       "      <th></th>\n",
       "      <th>DecisionTreeClassifier_bogo_1</th>\n",
       "      <th>RandomForestClassifier_bogo_1</th>\n",
       "      <th>DecisionTreeClassifier_discount_1</th>\n",
       "      <th>RandomForestClassifier_discount_1</th>\n",
       "      <th>DecisionTreeClassifier_info_1</th>\n",
       "      <th>RandomForestClassifier_info_1</th>\n",
       "      <th>DecisionTreeClassifier_bogo_2</th>\n",
       "      <th>RandomForestClassifier_bogo_2</th>\n",
       "      <th>DecisionTreeClassifier_discount_2</th>\n",
       "      <th>RandomForestClassifier_discount_2</th>\n",
       "      <th>DecisionTreeClassifier_info_2</th>\n",
       "      <th>RandomForestClassifier_info_2</th>\n",
       "      <th>DecisionTreeClassifier_bogo_3</th>\n",
       "      <th>RandomForestClassifier_bogo_3</th>\n",
       "      <th>DecisionTreeClassifier_discount_3</th>\n",
       "      <th>RandomForestClassifier_discount_3</th>\n",
       "      <th>DecisionTreeClassifier_info_3</th>\n",
       "      <th>RandomForestClassifier_info_3</th>\n",
       "    </tr>\n",
       "  </thead>\n",
       "  <tbody>\n",
       "    <tr>\n",
       "      <th>testing_score</th>\n",
       "      <td>0.821806</td>\n",
       "      <td>0.826688</td>\n",
       "      <td>0.872299</td>\n",
       "      <td>0.873477</td>\n",
       "      <td>0.740157</td>\n",
       "      <td>0.745884</td>\n",
       "      <td>0.821806</td>\n",
       "      <td>0.829943</td>\n",
       "      <td>0.872299</td>\n",
       "      <td>0.872692</td>\n",
       "      <td>0.740157</td>\n",
       "      <td>0.752326</td>\n",
       "      <td>0.825468</td>\n",
       "      <td>0.829536</td>\n",
       "      <td>0.872299</td>\n",
       "      <td>0.872299</td>\n",
       "      <td>0.740157</td>\n",
       "      <td>0.753042</td>\n",
       "    </tr>\n",
       "    <tr>\n",
       "      <th>training_score</th>\n",
       "      <td>0.822261</td>\n",
       "      <td>0.837420</td>\n",
       "      <td>0.862855</td>\n",
       "      <td>0.872876</td>\n",
       "      <td>0.751119</td>\n",
       "      <td>0.770098</td>\n",
       "      <td>0.822261</td>\n",
       "      <td>0.845050</td>\n",
       "      <td>0.862855</td>\n",
       "      <td>0.872581</td>\n",
       "      <td>0.751119</td>\n",
       "      <td>0.752551</td>\n",
       "      <td>0.823583</td>\n",
       "      <td>0.844847</td>\n",
       "      <td>0.862855</td>\n",
       "      <td>0.875823</td>\n",
       "      <td>0.751119</td>\n",
       "      <td>0.755953</td>\n",
       "    </tr>\n",
       "  </tbody>\n",
       "</table>\n",
       "</div>"
      ],
      "text/plain": [
       "                DecisionTreeClassifier_bogo_1  RandomForestClassifier_bogo_1  \\\n",
       "testing_score                        0.821806                       0.826688   \n",
       "training_score                       0.822261                       0.837420   \n",
       "\n",
       "                DecisionTreeClassifier_discount_1  \\\n",
       "testing_score                            0.872299   \n",
       "training_score                           0.862855   \n",
       "\n",
       "                RandomForestClassifier_discount_1  \\\n",
       "testing_score                            0.873477   \n",
       "training_score                           0.872876   \n",
       "\n",
       "                DecisionTreeClassifier_info_1  RandomForestClassifier_info_1  \\\n",
       "testing_score                        0.740157                       0.745884   \n",
       "training_score                       0.751119                       0.770098   \n",
       "\n",
       "                DecisionTreeClassifier_bogo_2  RandomForestClassifier_bogo_2  \\\n",
       "testing_score                        0.821806                       0.829943   \n",
       "training_score                       0.822261                       0.845050   \n",
       "\n",
       "                DecisionTreeClassifier_discount_2  \\\n",
       "testing_score                            0.872299   \n",
       "training_score                           0.862855   \n",
       "\n",
       "                RandomForestClassifier_discount_2  \\\n",
       "testing_score                            0.872692   \n",
       "training_score                           0.872581   \n",
       "\n",
       "                DecisionTreeClassifier_info_2  RandomForestClassifier_info_2  \\\n",
       "testing_score                        0.740157                       0.752326   \n",
       "training_score                       0.751119                       0.752551   \n",
       "\n",
       "                DecisionTreeClassifier_bogo_3  RandomForestClassifier_bogo_3  \\\n",
       "testing_score                        0.825468                       0.829536   \n",
       "training_score                       0.823583                       0.844847   \n",
       "\n",
       "                DecisionTreeClassifier_discount_3  \\\n",
       "testing_score                            0.872299   \n",
       "training_score                           0.862855   \n",
       "\n",
       "                RandomForestClassifier_discount_3  \\\n",
       "testing_score                            0.872299   \n",
       "training_score                           0.875823   \n",
       "\n",
       "                DecisionTreeClassifier_info_3  RandomForestClassifier_info_3  \n",
       "testing_score                        0.740157                       0.753042  \n",
       "training_score                       0.751119                       0.755953  "
      ]
     },
     "execution_count": 102,
     "metadata": {},
     "output_type": "execute_result"
    }
   ],
   "source": [
    "results"
   ]
  },
  {
   "cell_type": "markdown",
   "metadata": {},
   "source": [
    "# Summary"
   ]
  },
  {
   "cell_type": "markdown",
   "metadata": {},
   "source": [
    "### Agenda"
   ]
  },
  {
   "cell_type": "markdown",
   "metadata": {},
   "source": [
    "* What are the main features influencing the effectiveness of an offer on the Starbucks app?\n",
    "\n",
    "* Could the data provided, namely offer characteristics and user demographics, predict whether a user would take up an offer?"
   ]
  },
  {
   "cell_type": "markdown",
   "metadata": {},
   "source": [
    "### Findings"
   ]
  },
  {
   "cell_type": "markdown",
   "metadata": {},
   "source": [
    "### Question 1:"
   ]
  },
  {
   "cell_type": "markdown",
   "metadata": {},
   "source": [
    "Among all tenure of member is the higest predictor of the effectiveness of an offer.\n",
    "\n",
    "One good common point while in 3 model preperation tenure of member, income and age are top 3 factors on prediction.\n",
    "\n",
    "BOGO and discount are quiet un balanced compared to information with top 3 features."
   ]
  },
  {
   "cell_type": "markdown",
   "metadata": {},
   "source": [
    "### Question 2:"
   ]
  },
  {
   "cell_type": "markdown",
   "metadata": {},
   "source": [
    "By the end of 3 model preperations I could say that Bogo and discount are performed better than 80% which is quiet and acceptable business criteria.\n",
    "BOGO (82.87%)\n",
    "Discount (87.38%)\n",
    "\n",
    "Meanwhile, for BOGO and discount models, I am quite happy with the 80% and above accuracy, as in a business setting that would be acceptable to show offers to people, even if the model misclassifies a few, the overall revenue increase might justify the few mistakes."
   ]
  },
  {
   "cell_type": "markdown",
   "metadata": {},
   "source": [
    "# Challenges "
   ]
  },
  {
   "cell_type": "markdown",
   "metadata": {},
   "source": [
    "### Offer_id assigning:\n",
    "Classyfying target variable with effective and ineffective basis. while collecting ineffective cases I had lot of complication issues with transaction and offer completed situations.\n",
    "    \n",
    "    By taking that up and I designed and ended up with 4 cases:\n",
    "    \n",
    "* Group 1 : People who are influenced by offers and thus purchase/complete the offer.\n",
    "    \n",
    "* Group 2 : People who receive and an offer but is not influenced and thus no conversion event\n",
    "    \n",
    "* Group 3 : People who have conversion events but was not actually influenced by an offer\n",
    "    \n",
    "* Group 4 : People who receive offers but no views or action taken\n",
    "    \n",
    "Out of all 4 group's allocation, group 3 is tricky and confusing to put down in a proper id sequence of events\n",
    "\n",
    "\n",
    "\n",
    "-----------------------------------------------------------------------------------------------------------------------------\n",
    "\n",
    "### Model decisions\n",
    "\n",
    "I wanted to explore more on effective offer, it would be more clear to remove noise from the data into offer types. Testing results for Bogo and discount proved with good results. On the other hand info score was low since we do have low dataset size.\n",
    "\n",
    "As I used tree based model prediction models as I wanted to assure feature importance as my agenda, but it could have extended further towards regerssion model. I believe tenure_of_member will not be a higest feature."
   ]
  },
  {
   "cell_type": "markdown",
   "metadata": {},
   "source": [
    "# Enhancements"
   ]
  },
  {
   "cell_type": "markdown",
   "metadata": {},
   "source": [
    "Only time consideration, I did not get much time to deep dive towards feature engineering where we can improvise and remove few attributes to achive better performace.\n",
    "\n",
    "As far as we most of time been set up on offers to suggest to user, instead we could have add recommendation based system as well as if we could concentrate on customers who have completed transactions without offers."
   ]
  }
 ],
 "metadata": {
  "celltoolbar": "Raw Cell Format",
  "kernelspec": {
   "display_name": "Python 3",
   "language": "python",
   "name": "python3"
  },
  "language_info": {
   "codemirror_mode": {
    "name": "ipython",
    "version": 3
   },
   "file_extension": ".py",
   "mimetype": "text/x-python",
   "name": "python",
   "nbconvert_exporter": "python",
   "pygments_lexer": "ipython3",
   "version": "3.6.3"
  }
 },
 "nbformat": 4,
 "nbformat_minor": 2
}
